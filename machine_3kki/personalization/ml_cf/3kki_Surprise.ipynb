{
 "cells": [
  {
   "cell_type": "code",
   "execution_count": 87,
   "id": "143d5ae4",
   "metadata": {},
   "outputs": [],
   "source": [
    "import numpy as np\n",
    "import pandas as pd\n",
    "\n",
    "import matplotlib as mpl\n",
    "import matplotlib.pyplot as plt\n",
    "import seaborn as sns\n",
    "\n",
    "import warnings"
   ]
  },
  {
   "cell_type": "code",
   "execution_count": 88,
   "id": "31fcb7b5",
   "metadata": {},
   "outputs": [],
   "source": [
    "%matplotlib inline\n",
    "%config InlineBackend.figure_format = 'retina'\n",
    "\n",
    "mpl.rc('font', family='NanumGothic') # 폰트 설정\n",
    "mpl.rc('axes', unicode_minus=False) # 유니코드에서 음수 부호 설정\n",
    "\n",
    "# 차트 스타일 설정\n",
    "sns.set(font=\"NanumGothic\", rc={\"axes.unicode_minus\":False}, style='darkgrid')\n",
    "plt.rc(\"figure\", figsize=(10,8))\n",
    "\n",
    "warnings.filterwarnings(\"ignore\")"
   ]
  },
  {
   "cell_type": "code",
   "execution_count": 89,
   "id": "a9f485c0",
   "metadata": {},
   "outputs": [
    {
     "name": "stdout",
     "output_type": "stream",
     "text": [
      "1.1.1\n"
     ]
    }
   ],
   "source": [
    "import surprise\n",
    "print(surprise.__version__)"
   ]
  },
  {
   "cell_type": "code",
   "execution_count": 90,
   "id": "e886ce20",
   "metadata": {},
   "outputs": [
    {
     "data": {
      "text/html": [
       "<div>\n",
       "<style scoped>\n",
       "    .dataframe tbody tr th:only-of-type {\n",
       "        vertical-align: middle;\n",
       "    }\n",
       "\n",
       "    .dataframe tbody tr th {\n",
       "        vertical-align: top;\n",
       "    }\n",
       "\n",
       "    .dataframe thead th {\n",
       "        text-align: right;\n",
       "    }\n",
       "</style>\n",
       "<table border=\"1\" class=\"dataframe\">\n",
       "  <thead>\n",
       "    <tr style=\"text-align: right;\">\n",
       "      <th></th>\n",
       "      <th>memberno</th>\n",
       "      <th>productno</th>\n",
       "      <th>rating</th>\n",
       "    </tr>\n",
       "  </thead>\n",
       "  <tbody>\n",
       "    <tr>\n",
       "      <th>0</th>\n",
       "      <td>72</td>\n",
       "      <td>21</td>\n",
       "      <td>3.0</td>\n",
       "    </tr>\n",
       "    <tr>\n",
       "      <th>1</th>\n",
       "      <td>47</td>\n",
       "      <td>15</td>\n",
       "      <td>3.0</td>\n",
       "    </tr>\n",
       "    <tr>\n",
       "      <th>2</th>\n",
       "      <td>77</td>\n",
       "      <td>23</td>\n",
       "      <td>1.0</td>\n",
       "    </tr>\n",
       "    <tr>\n",
       "      <th>3</th>\n",
       "      <td>27</td>\n",
       "      <td>8</td>\n",
       "      <td>2.0</td>\n",
       "    </tr>\n",
       "    <tr>\n",
       "      <th>4</th>\n",
       "      <td>75</td>\n",
       "      <td>1</td>\n",
       "      <td>1.0</td>\n",
       "    </tr>\n",
       "  </tbody>\n",
       "</table>\n",
       "</div>"
      ],
      "text/plain": [
       "   memberno  productno  rating\n",
       "0        72         21     3.0\n",
       "1        47         15     3.0\n",
       "2        77         23     1.0\n",
       "3        27          8     2.0\n",
       "4        75          1     1.0"
      ]
     },
     "execution_count": 90,
     "metadata": {},
     "output_type": "execute_result"
    }
   ],
   "source": [
    "from surprise import Reader\n",
    "from surprise.model_selection import train_test_split\n",
    "\n",
    "df = pd.read_csv('3kki_v2.csv')\n",
    "df.head()"
   ]
  },
  {
   "cell_type": "code",
   "execution_count": 91,
   "id": "92a44e2a",
   "metadata": {},
   "outputs": [],
   "source": [
    "reader = Reader(rating_scale=(1, 5))"
   ]
  },
  {
   "cell_type": "code",
   "execution_count": 92,
   "id": "90ca48e8",
   "metadata": {},
   "outputs": [],
   "source": [
    "from surprise import Dataset\n",
    "data = Dataset.load_from_df(df, reader)"
   ]
  },
  {
   "cell_type": "code",
   "execution_count": 93,
   "id": "0339340b",
   "metadata": {},
   "outputs": [
    {
     "data": {
      "text/plain": [
       "<surprise.dataset.DatasetAutoFolds at 0x19cd5295f88>"
      ]
     },
     "execution_count": 93,
     "metadata": {},
     "output_type": "execute_result"
    }
   ],
   "source": [
    "data"
   ]
  },
  {
   "cell_type": "code",
   "execution_count": 94,
   "id": "7c17b807",
   "metadata": {},
   "outputs": [],
   "source": [
    "from surprise.model_selection import train_test_split\n",
    "\n",
    "trainset, testset = train_test_split(data, test_size=0.25, random_state=0)"
   ]
  },
  {
   "cell_type": "code",
   "execution_count": 95,
   "id": "719cf01d",
   "metadata": {},
   "outputs": [
    {
     "data": {
      "text/plain": [
       "<surprise.prediction_algorithms.matrix_factorization.SVD at 0x19cd589c3c8>"
      ]
     },
     "execution_count": 95,
     "metadata": {},
     "output_type": "execute_result"
    }
   ],
   "source": [
    "from surprise import SVD\n",
    "\n",
    "algo = SVD()\n",
    "algo.fit(trainset)"
   ]
  },
  {
   "cell_type": "code",
   "execution_count": 96,
   "id": "5acfaa4e",
   "metadata": {},
   "outputs": [
    {
     "data": {
      "text/plain": [
       "Prediction(uid='50', iid='9', r_ui=None, est=3.5294117647058822, details={'was_impossible': False})"
      ]
     },
     "execution_count": 96,
     "metadata": {},
     "output_type": "execute_result"
    }
   ],
   "source": [
    "# 사용자 아이디(uid), 아이템 아이디(iid)는 문자열로 입력\n",
    "uid = str(50)\n",
    "iid = str(9)\n",
    "# 사용자 아이디(uid), 아이템 아이디(iid)는 문자열로 입력\n",
    "# 추천 예측 평점 (.predict)\n",
    "pred = algo.predict(uid, iid)\n",
    "pred"
   ]
  },
  {
   "cell_type": "code",
   "execution_count": 97,
   "id": "ab0bc554",
   "metadata": {},
   "outputs": [
    {
     "name": "stdout",
     "output_type": "stream",
     "text": [
      "prediction type : <class 'list'>  size: 125\n",
      "prediction 결과의 최초 5개 추출\n"
     ]
    },
    {
     "data": {
      "text/plain": [
       "[Prediction(uid=44, iid=16, r_ui=5.0, est=3.6614166960964085, details={'was_impossible': False}),\n",
       " Prediction(uid=71, iid=13, r_ui=3.0, est=3.7996576321404785, details={'was_impossible': False}),\n",
       " Prediction(uid=78, iid=7, r_ui=4.0, est=3.3507957955745145, details={'was_impossible': False}),\n",
       " Prediction(uid=19, iid=1, r_ui=2.0, est=3.700450584350457, details={'was_impossible': False}),\n",
       " Prediction(uid=37, iid=15, r_ui=3.0, est=3.118441095751617, details={'was_impossible': False})]"
      ]
     },
     "execution_count": 97,
     "metadata": {},
     "output_type": "execute_result"
    }
   ],
   "source": [
    "# 추천 예측 평점 (.test)\n",
    "predictions = algo.test( testset )\n",
    "\n",
    "print('prediction type :',type(predictions), ' size:',len(predictions))\n",
    "print('prediction 결과의 최초 5개 추출')\n",
    "\n",
    "predictions[:5]"
   ]
  },
  {
   "cell_type": "code",
   "execution_count": 98,
   "id": "d2e28c5b",
   "metadata": {},
   "outputs": [
    {
     "data": {
      "text/plain": [
       "[(44, 16, 3.6614166960964085, {'was_impossible': False}),\n",
       " (71, 13, 3.7996576321404785, {'was_impossible': False}),\n",
       " (78, 7, 3.3507957955745145, {'was_impossible': False})]"
      ]
     },
     "execution_count": 98,
     "metadata": {},
     "output_type": "execute_result"
    }
   ],
   "source": [
    "# 속성 확인\n",
    "[ (pred.uid, pred.iid, pred.est, pred.details) for pred in predictions[:3] ]"
   ]
  },
  {
   "cell_type": "code",
   "execution_count": 99,
   "id": "c7372860",
   "metadata": {},
   "outputs": [
    {
     "name": "stdout",
     "output_type": "stream",
     "text": [
      "RMSE: 1.1663\n"
     ]
    },
    {
     "data": {
      "text/plain": [
       "1.1663392031757978"
      ]
     },
     "execution_count": 99,
     "metadata": {},
     "output_type": "execute_result"
    }
   ],
   "source": [
    "from surprise import accuracy\n",
    "\n",
    "# 성능 평가\n",
    "accuracy.rmse(predictions)"
   ]
  },
  {
   "cell_type": "code",
   "execution_count": 100,
   "id": "19ad295d",
   "metadata": {
    "scrolled": true
   },
   "outputs": [],
   "source": [
    "# index와 header를 제거한 ratings_noh.csv 파일 생성\n",
    "ratings = pd.read_csv('3kki_v2.csv')\n",
    "ratings.to_csv('3kki_surprise_noh.csv', index=False, header=False)"
   ]
  },
  {
   "cell_type": "code",
   "execution_count": 101,
   "id": "7fa927d2",
   "metadata": {},
   "outputs": [
    {
     "data": {
      "text/plain": [
       "<surprise.dataset.DatasetAutoFolds at 0x19cd42910c8>"
      ]
     },
     "execution_count": 101,
     "metadata": {},
     "output_type": "execute_result"
    }
   ],
   "source": [
    "from surprise import Reader\n",
    "from surprise import Dataset\n",
    "# Reader 객체 생성\n",
    "reader = Reader(line_format='user item rating', sep=',', rating_scale=(0.5, 5))\n",
    "\n",
    "data = Dataset.load_from_file('3kki_surprise_noh.csv', reader=reader)\n",
    "data "
   ]
  },
  {
   "cell_type": "code",
   "execution_count": 102,
   "id": "750c7d6c",
   "metadata": {},
   "outputs": [
    {
     "name": "stdout",
     "output_type": "stream",
     "text": [
      "RMSE: 1.1584\n"
     ]
    },
    {
     "data": {
      "text/plain": [
       "1.1584229241262354"
      ]
     },
     "execution_count": 102,
     "metadata": {},
     "output_type": "execute_result"
    }
   ],
   "source": [
    "# surprise의 train_test_split() 사용\n",
    "trainset, testset = train_test_split(data, test_size=0.25, random_state=0)\n",
    "\n",
    "# SVD를 이용한 잠재 요인 협업 필터링 (잠재 요인 크기 = 50)\n",
    "algo = SVD(n_factors=50, random_state=0)\n",
    "algo.fit(trainset)\n",
    "\n",
    "# 추천 예측 평점 (.test)\n",
    "predictions = algo.test( testset )\n",
    "\n",
    "# 성능 평가\n",
    "accuracy.rmse(predictions)"
   ]
  },
  {
   "cell_type": "code",
   "execution_count": 103,
   "id": "61b0e061",
   "metadata": {},
   "outputs": [
    {
     "name": "stdout",
     "output_type": "stream",
     "text": [
      "RMSE: 1.1509\n"
     ]
    },
    {
     "data": {
      "text/plain": [
       "1.15087337654385"
      ]
     },
     "execution_count": 103,
     "metadata": {},
     "output_type": "execute_result"
    }
   ],
   "source": [
    "# load_from_df()을 이용하여 데이터 프레임을 surprise 데이터 셋으로 로딩 가능하다.\n",
    "# 주의할 점은 컬럼 순서가 반드시 사용자 아이디, 아이템 아이디, 평점 순이어야 한다.\n",
    "# 데이터 불러오기 (데이터 프레임)\n",
    "ratings = pd.read_csv('3kki_v2.csv') \n",
    "\n",
    "# Reader 객체 생성\n",
    "reader = Reader(rating_scale=(0.5, 5.0))\n",
    "\n",
    "# 사용자 아이디, 아이템 아이디, 평점 순서 (원래는 timestamp도 있으나 제외)\n",
    "data = Dataset.load_from_df(ratings[['memberno','productno', 'rating']], reader)\n",
    "\n",
    "# surprise의 train_test_split() 사용\n",
    "trainset, testset = train_test_split(data, test_size=.25, random_state=0)\n",
    "\n",
    "# SVD를 이용한 잠재 요인 협업 필터링 (잠재 요인 크기 = 50)\n",
    "algo = SVD(n_factors=5, random_state=0)\n",
    "algo.fit(trainset)\n",
    "\n",
    "# 추천 예측 평점 (.test)\n",
    "predictions = algo.test( testset )\n",
    "\n",
    "# 성능 평가\n",
    "accuracy.rmse(predictions)"
   ]
  },
  {
   "cell_type": "markdown",
   "id": "aa40849d",
   "metadata": {},
   "source": [
    "### 교차 검증"
   ]
  },
  {
   "cell_type": "code",
   "execution_count": 104,
   "id": "8598024f",
   "metadata": {},
   "outputs": [
    {
     "name": "stdout",
     "output_type": "stream",
     "text": [
      "Evaluating RMSE, MAE of algorithm SVD on 5 split(s).\n",
      "\n",
      "                  Fold 1  Fold 2  Fold 3  Fold 4  Fold 5  Mean    Std     \n",
      "RMSE (testset)    1.1764  1.2393  1.1801  1.1221  1.0496  1.1535  0.0639  \n",
      "MAE (testset)     0.9637  1.0078  0.9878  0.9432  0.8594  0.9524  0.0513  \n",
      "Fit time          0.09    0.06    0.03    0.04    0.03    0.05    0.02    \n",
      "Test time         0.00    0.00    0.00    0.00    0.00    0.00    0.00    \n",
      "Runtime: 0.26 초\n"
     ]
    }
   ],
   "source": [
    "import time\n",
    "from surprise.model_selection import cross_validate \n",
    "\n",
    "\n",
    "# 데이터 불러오기 (데이터 프레임)\n",
    "ratings = pd.read_csv('3kki_v2.csv') \n",
    "\n",
    "# Reader 객체 생성\n",
    "reader = Reader(rating_scale=(0.5, 5.0))\n",
    "\n",
    "# 사용자 아이디, 아이템 아이디, 평점 순서 (원래는 timestamp도 있으나 제외)\n",
    "data = Dataset.load_from_df(ratings[['memberno','productno', 'rating']], reader)\n",
    "\n",
    "# SVD를 이용한 잠재 요인 협업 필터링\n",
    "algo = SVD(random_state=0)\n",
    "\n",
    "start = time.time()\n",
    "# 교차 검증 수행\n",
    "cross_validate(algo, data, measures=['RMSE', 'MAE'], cv=5, verbose=True)\n",
    "# surprise.model_selection의 cross_validate()으로 교차 검증이 가능하다.\n",
    "end = time.time()\n",
    "print('Runtime: {0:.2f} 초'.format(end-start))"
   ]
  },
  {
   "cell_type": "markdown",
   "id": "c9c97adb",
   "metadata": {},
   "source": [
    "## 하이퍼 파라미터"
   ]
  },
  {
   "cell_type": "code",
   "execution_count": 105,
   "id": "bb7e16a7",
   "metadata": {},
   "outputs": [
    {
     "name": "stdout",
     "output_type": "stream",
     "text": [
      "Runtime: 1.26 초\n",
      "{'n_epochs': 10, 'n_factors': 30}\n",
      "1.1359194203648713\n"
     ]
    }
   ],
   "source": [
    "from surprise.model_selection import GridSearchCV\n",
    "\n",
    "# n_epochs: SGD 수행 시 반복 횟수, n_factors: 잠재 요인 크기\n",
    "param_grid = {\n",
    "    'n_epochs': [10, 30, 40], \n",
    "    'n_factors': [30, 70, 160]\n",
    "}\n",
    "\n",
    "# GridSearchCV\n",
    "gs = GridSearchCV(SVD, param_grid, measures=['rmse', 'mae'], cv=3) # algo가 아닌 SVD 입력하였다.\n",
    "\n",
    "start = time.time()\n",
    "gs.fit(data)\n",
    "end = time.time()\n",
    "print('Runtime: {0:.2f} 초'.format(end-start))\n",
    "\n",
    "# 최적 하이퍼 파라미터 및 그 때의 최고 성능\n",
    "print(gs.best_params['rmse'])\n",
    "print(gs.best_score['rmse'])"
   ]
  },
  {
   "cell_type": "code",
   "execution_count": 106,
   "id": "36368150",
   "metadata": {},
   "outputs": [
    {
     "data": {
      "text/plain": [
       "<surprise.trainset.Trainset at 0x19cd5a07788>"
      ]
     },
     "execution_count": 106,
     "metadata": {},
     "output_type": "execute_result"
    }
   ],
   "source": [
    "# DatasetAutoFolds() 객체를 생성 후 build_full_trainset() 메서드를 호출하면 전체 데이터를 학습 데이터로 만들 수 있음\n",
    "from surprise.dataset import DatasetAutoFolds\n",
    "\n",
    "# Reader 객체 생성\n",
    "reader = Reader(line_format='user item rating', sep=',', rating_scale=(0.5, 5))\n",
    "\n",
    "# DatasetAutoFolds 객체 생성\n",
    "data_folds = DatasetAutoFolds(ratings_file='3kki_surprise_noh.csv', reader=reader)\n",
    "\n",
    "# 전체 데이터를 train으로 지정\n",
    "trainset = data_folds.build_full_trainset()\n",
    "trainset"
   ]
  },
  {
   "cell_type": "code",
   "execution_count": 107,
   "id": "3622a3e4",
   "metadata": {},
   "outputs": [
    {
     "name": "stdout",
     "output_type": "stream",
     "text": [
      "user: 50         item: 28         r_ui = None   est = 3.56   {'was_impossible': False}\n"
     ]
    }
   ],
   "source": [
    "# SVD를 이용한 잠재 요인 협업 필터링 (잠재 요인 크기 = 50)\n",
    "model = SVD(n_epochs=20, n_factors=50, random_state=0)\n",
    "model.fit(trainset)  # 훈련\n",
    "\n",
    "# 사용자 아이디, 아이템 아이디 문자열로 입력\n",
    "uid = str(50)\n",
    "iid = str(28)\n",
    "\n",
    "# 추천 예측 평점 (.predict)\n",
    "pred = model.predict(uid, iid, verbose=True) "
   ]
  },
  {
   "cell_type": "code",
   "execution_count": 108,
   "id": "07e89c62",
   "metadata": {},
   "outputs": [],
   "source": [
    "# 상품 대한 상세 속성 정보 DataFrame로딩\n",
    "products = pd.read_csv('3kki_product.csv')\n",
    "\n",
    "# 아직 보지 않은 상품 리스트 함수\n",
    "def get_unseen_surprise(ratings, products, memberno):\n",
    "     # 특정 userId가 평점을 매긴 모든 상품 리스트\n",
    "    seen_products = ratings[ratings['memberno']== memberno]['productno'].tolist()\n",
    "    \n",
    "    # 모든 상품명을 list 객체로 만듬. \n",
    "    total_products = products['productno'].tolist()\n",
    "      \n",
    "    # 한줄 for + if문으로 안 본 상품 리스트 생성\n",
    "    unorder_product = [ product for product in total_products if product not in seen_products]\n",
    "    \n",
    "    # 일부 정보 출력\n",
    "    total_product_cnt = len(total_products)\n",
    "    seen_cnt = len(seen_products)\n",
    "    unseen_cnt = len(unorder_product)\n",
    "    \n",
    "    print(f\"전체 상품 수: {total_product_cnt}, 평점 매긴 상품 수: {seen_cnt}, 추천 대상 상품 수: {unseen_cnt}\")\n",
    "    \n",
    "    return unorder_product"
   ]
  },
  {
   "cell_type": "code",
   "execution_count": 115,
   "id": "3790e879",
   "metadata": {},
   "outputs": [
    {
     "name": "stdout",
     "output_type": "stream",
     "text": [
      "전체 상품 수: 25, 평점 매긴 상품 수: 7, 추천 대상 상품 수: 18\n"
     ]
    }
   ],
   "source": [
    "unseen_products = get_unseen_surprise(ratings, products, 3)"
   ]
  },
  {
   "cell_type": "code",
   "execution_count": 123,
   "id": "4ef4b1f8",
   "metadata": {},
   "outputs": [],
   "source": [
    "def recomm_product_by_surprise(algo, userId, unseen_products, top_n=10):\n",
    "    \n",
    "    # 아직 보지 않은 영화의 예측 평점: prediction 객체 생성\n",
    "    predictions = []    \n",
    "    for productno in unseen_products:\n",
    "        predictions.append(algo.predict(str(userId), str(productno)))\n",
    "    \n",
    "    # 리스트 내의 prediction 객체의 est를 기준으로 내림차순 정렬\n",
    "    def sortkey_est(pred):\n",
    "        return pred.est\n",
    "\n",
    "    predictions.sort(key=sortkey_est, reverse=True) # key에 리스트 내 객체의 정렬 기준을 입력\n",
    "    \n",
    "    # 상위 top_n개의 prediction 객체\n",
    "    top_predictions = predictions[:top_n]\n",
    "    \n",
    "    # 영화 아이디, 제목, 예측 평점 출력\n",
    "    print(f\"Top-{top_n} 추천 영화 리스트\")\n",
    "    \n",
    "    for pred in top_predictions:\n",
    "        product_id = int(pred.iid)\n",
    "        product_title = products[products[\"productno\"] == product_id][\"name\"].tolist()\n",
    "        product_rating = pred.est\n",
    "        \n",
    "        print(f\"{product_title}: {product_rating:.2f}\")"
   ]
  },
  {
   "cell_type": "code",
   "execution_count": 124,
   "id": "19d501a5",
   "metadata": {},
   "outputs": [
    {
     "name": "stdout",
     "output_type": "stream",
     "text": [
      "Top-25 추천 영화 리스트\n",
      "['아워홈 참나무향 닭가슴살']: 3.90\n",
      "['잇메이트 저염 훈제닭가슴살']: 3.90\n",
      "['성수동 스무디 오트밀']: 3.87\n",
      "['굽네 훈제 닭가슴살 오리지널']: 3.86\n",
      "['유산균슬림다이어트']: 3.83\n",
      "['애터미 밸런스라이프']: 3.82\n",
      "['리뉴슬림 블루']: 3.81\n",
      "['내가 몸짱이 될 샐러드 닭가슴살 & 메추리알 샐러드']: 3.80\n",
      "['후디스 그릭요거트 무설탕 저지방']: 3.69\n",
      "['잇메이트 닭가슴살소세지볶음밥 마늘맛']: 3.67\n",
      "['HOPE 발효효소 밸런스밀 블랙']: 3.64\n",
      "['맛있닭 닭가슴살 소시지 훈제맛']: 3.61\n",
      "['단백질공화국 다크초콜릿']: 3.58\n",
      "['수비드닭가슴살빅샐러드']: 3.50\n",
      "['글램디 5킬로칼로리 워터젤리 망고맛']: 3.50\n",
      "['아임닭 23 단백질 닭가슴살 샐러드']: 3.37\n",
      "['더 담아 꽉~채운 계란야채곤약볶음밥&토마토소스닭가슴살슬라이스']: 3.28\n",
      "['린 컴플리트']: 3.21\n"
     ]
    }
   ],
   "source": [
    "recomm_product_by_surprise(model, 3, unseen_products, top_n=25)"
   ]
  },
  {
   "cell_type": "code",
   "execution_count": 125,
   "id": "c4af2ecc",
   "metadata": {},
   "outputs": [
    {
     "data": {
      "text/plain": [
       "['./ml-latest-small.pkl']"
      ]
     },
     "execution_count": 125,
     "metadata": {},
     "output_type": "execute_result"
    }
   ],
   "source": [
    "import pickle # 파이썬 자료형 저장 지원\n",
    "import joblib # 병렬 프로그래밍, 모델 저장, 로딩\n",
    "\n",
    "joblib.dump(model, './ml-latest-small.pkl') "
   ]
  },
  {
   "cell_type": "code",
   "execution_count": null,
   "id": "8aed7f3d",
   "metadata": {},
   "outputs": [],
   "source": []
  }
 ],
 "metadata": {
  "kernelspec": {
   "display_name": "ai",
   "language": "python",
   "name": "ai"
  },
  "language_info": {
   "codemirror_mode": {
    "name": "ipython",
    "version": 3
   },
   "file_extension": ".py",
   "mimetype": "text/x-python",
   "name": "python",
   "nbconvert_exporter": "python",
   "pygments_lexer": "ipython3",
   "version": "3.7.13"
  }
 },
 "nbformat": 4,
 "nbformat_minor": 5
}
