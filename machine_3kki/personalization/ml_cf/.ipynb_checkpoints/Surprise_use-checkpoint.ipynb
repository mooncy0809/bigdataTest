{
 "cells": [
  {
   "cell_type": "markdown",
   "metadata": {},
   "source": [
    "## 행렬 요인화(MF) 기반 추천 시스템 구현"
   ]
  },
  {
   "cell_type": "code",
   "execution_count": 1,
   "metadata": {},
   "outputs": [],
   "source": [
    "import pandas as pd\n",
    "import pickle\n",
    "import joblib"
   ]
  },
  {
   "cell_type": "code",
   "execution_count": 3,
   "metadata": {},
   "outputs": [],
   "source": [
    "# 모델 로딩\n",
    "model = joblib.load('./ml-latest-small.pkl') \n",
    "# 데이터 불러오기 (데이터 프레임)\n",
    "ratings = pd.read_csv('./data/ratings.csv') \n",
    "# 영화에 대한 상세 속성 정보 DataFrame로딩\n",
    "movies = pd.read_csv('./data/movies.csv')"
   ]
  },
  {
   "cell_type": "code",
   "execution_count": 4,
   "metadata": {},
   "outputs": [],
   "source": [
    "# 아직 보지 않은 영화 리스트 함수\n",
    "def get_unseen_surprise(ratings, movies, userId):\n",
    "     # 특정 userId가 평점을 매긴 모든 영화 리스트\n",
    "    seen_movies = ratings[ratings['userId']== userId]['movieId'].tolist()\n",
    "    \n",
    "    # 모든 영화명을 list 객체로 만듬. \n",
    "    total_movies = movies['movieId'].tolist()\n",
    "      \n",
    "    # 한줄 for + if문으로 안 본 영화 리스트 생성\n",
    "    unseen_movies = [ movie for movie in total_movies if movie not in seen_movies]\n",
    "    \n",
    "    # 일부 정보 출력\n",
    "    total_movie_cnt = len(total_movies)\n",
    "    seen_cnt = len(seen_movies)\n",
    "    unseen_cnt = len(unseen_movies)\n",
    "    \n",
    "    print(f\"전체 영화 수: {total_movie_cnt}, 평점 매긴 영화 수: {seen_cnt}, 추천 대상 영화 수: {unseen_cnt}\")\n",
    "    \n",
    "    return unseen_movies"
   ]
  },
  {
   "cell_type": "code",
   "execution_count": 5,
   "metadata": {},
   "outputs": [],
   "source": [
    "def recomm_movie_by_surprise(algo, userId, unseen_movies, top_n=10):\n",
    "    \n",
    "    # 아직 보지 않은 영화의 예측 평점: prediction 객체 생성\n",
    "    predictions = []    \n",
    "    for movieId in unseen_movies:\n",
    "        predictions.append(algo.predict(str(userId), str(movieId)))\n",
    "    \n",
    "    # 리스트 내의 prediction 객체의 est를 기준으로 내림차순 정렬\n",
    "    def sortkey_est(pred):\n",
    "        return pred.est\n",
    "\n",
    "    predictions.sort(key=sortkey_est, reverse=True) # key에 리스트 내 객체의 정렬 기준을 입력\n",
    "    \n",
    "    # 상위 top_n개의 prediction 객체\n",
    "    top_predictions = predictions[:top_n]\n",
    "    \n",
    "    # 영화 아이디, 제목, 예측 평점 출력\n",
    "    print(f\"Top-{top_n} 추천 영화 리스트\")\n",
    "    \n",
    "    for pred in top_predictions:\n",
    "        movie_id = int(pred.iid)\n",
    "        movie_title = movies[movies[\"movieId\"] == movie_id][\"title\"].tolist()\n",
    "        movie_rating = pred.est\n",
    "        \n",
    "        print(f\"{movie_title}: {movie_rating:.2f}\")"
   ]
  },
  {
   "cell_type": "code",
   "execution_count": 6,
   "metadata": {},
   "outputs": [
    {
     "name": "stdout",
     "output_type": "stream",
     "text": [
      "회원 번호를 입력하세요(9):2\n",
      "전체 영화 수: 9742, 평점 매긴 영화 수: 29, 추천 대상 영화 수: 9713\n",
      "Top-10 추천 영화 리스트\n",
      "['Star Wars: Episode IV - A New Hope (1977)']: 4.53\n",
      "['Godfather, The (1972)']: 4.47\n",
      "['Godfather: Part II, The (1974)']: 4.47\n",
      "['In the Name of the Father (1993)']: 4.45\n",
      "['Seventh Seal, The (Sjunde inseglet, Det) (1957)']: 4.44\n",
      "['Fight Club (1999)']: 4.44\n",
      "['Boondock Saints, The (2000)']: 4.43\n",
      "['Lawrence of Arabia (1962)']: 4.41\n",
      "['Monty Python and the Holy Grail (1975)']: 4.41\n",
      "['Goodfellas (1990)']: 4.41\n"
     ]
    }
   ],
   "source": [
    "userId = int(input('회원 번호를 입력하세요(9):'))\n",
    "unseen_movies = get_unseen_surprise(ratings, movies, userId)\n",
    "recomm_movie_by_surprise(model, userId, unseen_movies, top_n=10)"
   ]
  },
  {
   "cell_type": "code",
   "execution_count": 7,
   "metadata": {},
   "outputs": [
    {
     "name": "stdout",
     "output_type": "stream",
     "text": [
      "회원 번호를 입력하세요(10):1\n",
      "전체 영화 수: 9742, 평점 매긴 영화 수: 232, 추천 대상 영화 수: 9510\n",
      "Top-10 추천 영화 리스트\n",
      "['Hoop Dreams (1994)']: 5.00\n",
      "['Shawshank Redemption, The (1994)']: 5.00\n",
      "['Wallace & Gromit: The Best of Aardman Animation (1996)']: 5.00\n",
      "['Ghost in the Shell (Kôkaku kidôtai) (1995)']: 5.00\n",
      "['Dr. Strangelove or: How I Learned to Stop Worrying and Love the Bomb (1964)']: 5.00\n",
      "['Philadelphia Story, The (1940)']: 5.00\n",
      "['North by Northwest (1959)']: 5.00\n",
      "['Casablanca (1942)']: 5.00\n",
      "['My Fair Lady (1964)']: 5.00\n",
      "['Streetcar Named Desire, A (1951)']: 5.00\n"
     ]
    }
   ],
   "source": [
    "userId = int(input('회원 번호를 입력하세요(10):'))\n",
    "unseen_movies = get_unseen_surprise(ratings, movies, userId)\n",
    "recomm_movie_by_surprise(model, userId, unseen_movies, top_n=10)"
   ]
  },
  {
   "cell_type": "code",
   "execution_count": null,
   "metadata": {},
   "outputs": [],
   "source": []
  },
  {
   "cell_type": "code",
   "execution_count": null,
   "metadata": {},
   "outputs": [],
   "source": []
  },
  {
   "cell_type": "code",
   "execution_count": null,
   "metadata": {},
   "outputs": [],
   "source": []
  },
  {
   "cell_type": "code",
   "execution_count": null,
   "metadata": {},
   "outputs": [],
   "source": []
  }
 ],
 "metadata": {
  "kernelspec": {
   "display_name": "ai",
   "language": "python",
   "name": "ai"
  },
  "language_info": {
   "codemirror_mode": {
    "name": "ipython",
    "version": 3
   },
   "file_extension": ".py",
   "mimetype": "text/x-python",
   "name": "python",
   "nbconvert_exporter": "python",
   "pygments_lexer": "ipython3",
   "version": "3.7.13"
  }
 },
 "nbformat": 4,
 "nbformat_minor": 2
}
