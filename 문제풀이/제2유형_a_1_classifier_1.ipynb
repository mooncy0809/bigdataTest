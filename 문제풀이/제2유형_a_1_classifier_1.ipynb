{
 "cells": [
  {
   "cell_type": "code",
   "execution_count": 180,
   "metadata": {},
   "outputs": [],
   "source": [
    "# 분석 절차(PDCNLDNSAER)\n",
    "# 1. Package import\n",
    "# 2. Data loading\n",
    "# 3. Column select: 구조 파악 및 필요한 컬럼 선별\n",
    "# 4. NaN: 결측치 처리\n",
    "# 5. Label encoding: 범주형 변수의 변환\n",
    "# 6. Derivative variable: 파생 변수 만들기\n",
    "# 7. Normal: 정규화\n",
    "# 8. Split: 데이터 분할\n",
    "# 9. Analysis: 분석\n",
    "# 10. Evaluation: 평가\n",
    "# 11. Result save: 결과 저장"
   ]
  },
  {
   "cell_type": "markdown",
   "metadata": {},
   "source": [
    "## 쇼핑몰 성별 예측값 산출"
   ]
  },
  {
   "cell_type": "markdown",
   "metadata": {},
   "source": [
    "<img src='./images/3_b_1.jpg' style='width: 70%'>"
   ]
  },
  {
   "cell_type": "code",
   "execution_count": 181,
   "metadata": {},
   "outputs": [
    {
     "name": "stdout",
     "output_type": "stream",
     "text": [
      "(3500, 10)\n",
      "(2482, 10)\n",
      "(3500, 2)\n"
     ]
    }
   ],
   "source": [
    "import pandas as pd\n",
    "X = pd.read_csv('./data/x_train.csv', encoding='utf-8')\n",
    "X_sub = pd.read_csv('./data/x_test.csv', encoding='utf-8')\n",
    "Y = pd.read_csv('./data/y_train.csv', encoding='utf-8')\n",
    "\n",
    "print(X.shape)\n",
    "print(X_sub.shape)\n",
    "print(Y.shape)"
   ]
  },
  {
   "cell_type": "code",
   "execution_count": 182,
   "metadata": {},
   "outputs": [],
   "source": [
    "dfX=pd.concat([X,X_sub],axis=0,ignore_index=True)"
   ]
  },
  {
   "cell_type": "code",
   "execution_count": 183,
   "metadata": {},
   "outputs": [
    {
     "data": {
      "text/html": [
       "<div>\n",
       "<style scoped>\n",
       "    .dataframe tbody tr th:only-of-type {\n",
       "        vertical-align: middle;\n",
       "    }\n",
       "\n",
       "    .dataframe tbody tr th {\n",
       "        vertical-align: top;\n",
       "    }\n",
       "\n",
       "    .dataframe thead th {\n",
       "        text-align: right;\n",
       "    }\n",
       "</style>\n",
       "<table border=\"1\" class=\"dataframe\">\n",
       "  <thead>\n",
       "    <tr style=\"text-align: right;\">\n",
       "      <th></th>\n",
       "      <th>cust_id</th>\n",
       "      <th>총구매액</th>\n",
       "      <th>최대구매액</th>\n",
       "      <th>환불금액</th>\n",
       "      <th>주구매상품</th>\n",
       "      <th>주구매지점</th>\n",
       "      <th>내점일수</th>\n",
       "      <th>내점당구매건수</th>\n",
       "      <th>주말방문비율</th>\n",
       "      <th>구매주기</th>\n",
       "    </tr>\n",
       "  </thead>\n",
       "  <tbody>\n",
       "    <tr>\n",
       "      <th>5980</th>\n",
       "      <td>5980</td>\n",
       "      <td>88991520</td>\n",
       "      <td>18120000</td>\n",
       "      <td>NaN</td>\n",
       "      <td>육류</td>\n",
       "      <td>본  점</td>\n",
       "      <td>5</td>\n",
       "      <td>3.6</td>\n",
       "      <td>0.444444</td>\n",
       "      <td>60</td>\n",
       "    </tr>\n",
       "    <tr>\n",
       "      <th>5981</th>\n",
       "      <td>5981</td>\n",
       "      <td>623700</td>\n",
       "      <td>209000</td>\n",
       "      <td>NaN</td>\n",
       "      <td>가공식품</td>\n",
       "      <td>영등포점</td>\n",
       "      <td>2</td>\n",
       "      <td>5.0</td>\n",
       "      <td>0.000000</td>\n",
       "      <td>31</td>\n",
       "    </tr>\n",
       "  </tbody>\n",
       "</table>\n",
       "</div>"
      ],
      "text/plain": [
       "      cust_id      총구매액     최대구매액  환불금액 주구매상품 주구매지점  내점일수  내점당구매건수    주말방문비율  \\\n",
       "5980     5980  88991520  18120000   NaN    육류  본  점     5      3.6  0.444444   \n",
       "5981     5981    623700    209000   NaN  가공식품  영등포점     2      5.0  0.000000   \n",
       "\n",
       "      구매주기  \n",
       "5980    60  \n",
       "5981    31  "
      ]
     },
     "execution_count": 183,
     "metadata": {},
     "output_type": "execute_result"
    }
   ],
   "source": [
    "dfX.tail(2)"
   ]
  },
  {
   "cell_type": "code",
   "execution_count": 184,
   "metadata": {},
   "outputs": [
    {
     "name": "stdout",
     "output_type": "stream",
     "text": [
      "<class 'pandas.core.frame.DataFrame'>\n",
      "RangeIndex: 5982 entries, 0 to 5981\n",
      "Data columns (total 10 columns):\n",
      " #   Column   Non-Null Count  Dtype  \n",
      "---  ------   --------------  -----  \n",
      " 0   cust_id  5982 non-null   int64  \n",
      " 1   총구매액     5982 non-null   int64  \n",
      " 2   최대구매액    5982 non-null   int64  \n",
      " 3   환불금액     2076 non-null   float64\n",
      " 4   주구매상품    5982 non-null   object \n",
      " 5   주구매지점    5982 non-null   object \n",
      " 6   내점일수     5982 non-null   int64  \n",
      " 7   내점당구매건수  5982 non-null   float64\n",
      " 8   주말방문비율   5982 non-null   float64\n",
      " 9   구매주기     5982 non-null   int64  \n",
      "dtypes: float64(3), int64(5), object(2)\n",
      "memory usage: 467.5+ KB\n",
      "None\n"
     ]
    }
   ],
   "source": [
    "# 데이터 전처리\n",
    "print(dfX.info())"
   ]
  },
  {
   "cell_type": "code",
   "execution_count": 185,
   "metadata": {},
   "outputs": [
    {
     "name": "stdout",
     "output_type": "stream",
     "text": [
      "cust_id       0\n",
      "총구매액          0\n",
      "최대구매액         0\n",
      "환불금액       3906\n",
      "주구매상품         0\n",
      "주구매지점         0\n",
      "내점일수          0\n",
      "내점당구매건수       0\n",
      "주말방문비율        0\n",
      "구매주기          0\n",
      "dtype: int64\n"
     ]
    }
   ],
   "source": [
    "print(dfX.isna().sum())"
   ]
  },
  {
   "cell_type": "code",
   "execution_count": 186,
   "metadata": {},
   "outputs": [
    {
     "name": "stdout",
     "output_type": "stream",
     "text": [
      "주구매상품\n",
      "가공식품      2.080863e+07\n",
      "가구        1.452875e+07\n",
      "건강식품      1.416927e+07\n",
      "골프        3.457147e+07\n",
      "구두        2.521238e+06\n",
      "기타        1.843526e+07\n",
      "남성 캐주얼    5.945762e+06\n",
      "남성 트랜디    5.652510e+07\n",
      "남성정장      1.924602e+07\n",
      "농산물       2.300891e+07\n",
      "대형가전      8.760040e+07\n",
      "디자이너      6.341434e+07\n",
      "란제리/내의    1.131132e+07\n",
      "명품        3.761344e+07\n",
      "모피/피혁     2.301420e+07\n",
      "보석        3.200000e+06\n",
      "생활잡화      6.528000e+06\n",
      "섬유잡화      5.305093e+06\n",
      "셔츠        3.202311e+06\n",
      "소형가전               NaN\n",
      "수산품       7.737106e+06\n",
      "스포츠       1.309125e+07\n",
      "시티웨어      2.018025e+07\n",
      "식기        2.352650e+07\n",
      "아동        2.899493e+07\n",
      "악기                 NaN\n",
      "액세서리      6.888000e+06\n",
      "육류        1.621335e+07\n",
      "일용잡화      7.951950e+06\n",
      "젓갈/반찬     1.810238e+07\n",
      "주류        5.600000e+03\n",
      "주방가전      6.439601e+07\n",
      "주방용품      6.944425e+06\n",
      "차/커피      1.060484e+07\n",
      "축산가공      8.948509e+06\n",
      "침구/수예     2.381630e+07\n",
      "캐주얼       2.737687e+07\n",
      "커리어       1.695097e+07\n",
      "통신/컴퓨터             NaN\n",
      "트래디셔널     1.868744e+07\n",
      "피혁잡화      3.321309e+06\n",
      "화장품       2.085498e+07\n",
      "Name: 환불금액, dtype: float64\n"
     ]
    }
   ],
   "source": [
    "print(dfX.groupby('주구매상품')['환불금액'].mean())"
   ]
  },
  {
   "cell_type": "code",
   "execution_count": 187,
   "metadata": {},
   "outputs": [],
   "source": [
    "temp=dfX.groupby('주구매상품')['환불금액'].transform('mean')"
   ]
  },
  {
   "cell_type": "code",
   "execution_count": 188,
   "metadata": {},
   "outputs": [],
   "source": [
    "dfX['환불금액'].mask(dfX['환불금액'].isna(),temp,inplace=True)"
   ]
  },
  {
   "cell_type": "code",
   "execution_count": 189,
   "metadata": {},
   "outputs": [
    {
     "data": {
      "text/plain": [
       "cust_id     0\n",
       "총구매액        0\n",
       "최대구매액       0\n",
       "환불금액       11\n",
       "주구매상품       0\n",
       "주구매지점       0\n",
       "내점일수        0\n",
       "내점당구매건수     0\n",
       "주말방문비율      0\n",
       "구매주기        0\n",
       "dtype: int64"
      ]
     },
     "execution_count": 189,
     "metadata": {},
     "output_type": "execute_result"
    }
   ],
   "source": [
    "dfX.isna().sum()"
   ]
  },
  {
   "cell_type": "code",
   "execution_count": 190,
   "metadata": {},
   "outputs": [],
   "source": [
    "dfX['환불금액'].fillna(dfX['환불금액'].mean(),inplace=True)"
   ]
  },
  {
   "cell_type": "code",
   "execution_count": 191,
   "metadata": {},
   "outputs": [
    {
     "name": "stdout",
     "output_type": "stream",
     "text": [
      "cust_id    0\n",
      "총구매액       0\n",
      "최대구매액      0\n",
      "환불금액       0\n",
      "주구매상품      0\n",
      "주구매지점      0\n",
      "내점일수       0\n",
      "내점당구매건수    0\n",
      "주말방문비율     0\n",
      "구매주기       0\n",
      "dtype: int64\n"
     ]
    }
   ],
   "source": [
    "print(dfX.isna().sum())"
   ]
  },
  {
   "cell_type": "code",
   "execution_count": 192,
   "metadata": {},
   "outputs": [
    {
     "name": "stdout",
     "output_type": "stream",
     "text": [
      "<class 'pandas.core.frame.DataFrame'>\n",
      "RangeIndex: 5982 entries, 0 to 5981\n",
      "Data columns (total 10 columns):\n",
      " #   Column   Non-Null Count  Dtype  \n",
      "---  ------   --------------  -----  \n",
      " 0   cust_id  5982 non-null   int64  \n",
      " 1   총구매액     5982 non-null   int64  \n",
      " 2   최대구매액    5982 non-null   int64  \n",
      " 3   환불금액     5982 non-null   float64\n",
      " 4   주구매상품    5982 non-null   object \n",
      " 5   주구매지점    5982 non-null   object \n",
      " 6   내점일수     5982 non-null   int64  \n",
      " 7   내점당구매건수  5982 non-null   float64\n",
      " 8   주말방문비율   5982 non-null   float64\n",
      " 9   구매주기     5982 non-null   int64  \n",
      "dtypes: float64(3), int64(5), object(2)\n",
      "memory usage: 467.5+ KB\n"
     ]
    }
   ],
   "source": [
    "dfX.info()"
   ]
  },
  {
   "cell_type": "code",
   "execution_count": 193,
   "metadata": {},
   "outputs": [],
   "source": [
    "dfX['주구매상품']=dfX['주구매상품'].astype('category').cat.codes\n",
    "dfX['주구매지점']=dfX['주구매지점'].astype('category').cat.codes"
   ]
  },
  {
   "cell_type": "code",
   "execution_count": 194,
   "metadata": {},
   "outputs": [],
   "source": [
    "# 테스트 함수"
   ]
  },
  {
   "cell_type": "code",
   "execution_count": 195,
   "metadata": {},
   "outputs": [],
   "source": [
    "from sklearn.model_selection import train_test_split\n",
    "from sklearn.metrics import roc_auc_score\n",
    "from sklearn.tree import DecisionTreeClassifier\n",
    "from sklearn.ensemble import RandomForestClassifier\n",
    "from xgboost import XGBClassifier\n",
    "from sklearn.neighbors import KNeighborsClassifier\n",
    "from sklearn.linear_model import LogisticRegression\n",
    "from sklearn.preprocessing import StandardScaler"
   ]
  },
  {
   "cell_type": "code",
   "execution_count": 196,
   "metadata": {},
   "outputs": [],
   "source": [
    "def get_score(model,xtrain,xtest,ytrain,ytest):\n",
    "    A=model.score(xtrain,ytrain)\n",
    "    B=model.score(xtest,ytest)\n",
    "    ypred=model.predict_proba(xtest)[:,1]\n",
    "    C=roc_auc_score(ytest,ypred)\n",
    "    return '{:.4f} {:.4f} {:.4f}'.format(A,B,C)"
   ]
  },
  {
   "cell_type": "code",
   "execution_count": 197,
   "metadata": {},
   "outputs": [],
   "source": [
    "def make_models(xtrain,xtest,ytrain,ytest):\n",
    "    model1=LogisticRegression(max_iter=5000).fit(xtrain,ytrain)\n",
    "    print('model1',get_score(model1,xtrain,xtest,ytrain,ytest))\n",
    "    \n",
    "    for k in range(1,10):\n",
    "        model2=KNeighborsClassifier(k).fit(xtrain,ytrain)\n",
    "        print('model2',k,get_score(model2,xtrain,xtest,ytrain,ytest))\n",
    "    \n",
    "    model3=DecisionTreeClassifier(random_state=0).fit(xtrain,ytrain)\n",
    "    print('model3',get_score(model3,xtrain,xtest,ytrain,ytest))\n",
    "    \n",
    "    for d in range(1,10):\n",
    "        model3=DecisionTreeClassifier(max_depth=d,random_state=0).fit(xtrain,ytrain)\n",
    "        print('model3',d,get_score(model3,xtrain,xtest,ytrain,ytest))\n",
    "        \n",
    "    model4=RandomForestClassifier(random_state=0).fit(xtrain,ytrain)\n",
    "    print('model4',get_score(model4,xtrain,xtest,ytrain,ytest))\n",
    "    \n",
    "    for d in range(3,8):\n",
    "        model4=RandomForestClassifier(max_depth=d,random_state=0).fit(xtrain,ytrain)\n",
    "        print('model4',d,get_score(model4,xtrain,xtest,ytrain,ytest))\n",
    "    \n",
    "    model5=XGBClassifier(use_label_encoder=False,eval_metric='logloss').fit(xtrain,ytrain)\n",
    "    print('model5',get_score(model5,xtrain,xtest,ytrain,ytest))"
   ]
  },
  {
   "cell_type": "code",
   "execution_count": 198,
   "metadata": {},
   "outputs": [],
   "source": [
    "def get_data(dfX,Y):\n",
    "    X=dfX.drop(columns=['cust_id'])\n",
    "    X_use=X.iloc[:3500,:]\n",
    "    X_sub=X.iloc[3500:,:]\n",
    "    Y1=Y['gender']\n",
    "    scaler=StandardScaler()\n",
    "    X1_use=scaler.fit_transform(X_use)\n",
    "    X1_sub=scaler.transform(X_sub)\n",
    "\n",
    "    print(X1_use.shape,X1_sub.shape,Y1.shape)\n",
    "    return X1_use, X1_sub, Y1"
   ]
  },
  {
   "cell_type": "code",
   "execution_count": 199,
   "metadata": {},
   "outputs": [
    {
     "name": "stdout",
     "output_type": "stream",
     "text": [
      "(3500, 9) (2482, 9) (3500,)\n",
      "model1 0.6322 0.6410 0.6582\n",
      "model2 1 1.0000 0.5676 0.5369\n",
      "model2 2 0.7955 0.6114 0.5560\n",
      "model2 3 0.7951 0.6019 0.5770\n",
      "model2 4 0.7404 0.6305 0.5967\n",
      "model2 5 0.7449 0.6181 0.6009\n",
      "model2 6 0.7188 0.6190 0.5953\n",
      "model2 7 0.7159 0.6000 0.6042\n",
      "model2 8 0.7143 0.6248 0.6155\n",
      "model2 9 0.7045 0.6219 0.6138\n",
      "model3 1.0000 0.5533 0.5314\n",
      "model3 1 0.6241 0.6238 0.6228\n",
      "model3 2 0.6441 0.6590 0.6542\n",
      "model3 3 0.6486 0.6657 0.6781\n",
      "model3 4 0.6645 0.6467 0.6717\n",
      "model3 5 0.6812 0.6410 0.6542\n",
      "model3 6 0.7024 0.6343 0.6522\n",
      "model3 7 0.7078 0.6381 0.6494\n",
      "model3 8 0.7371 0.6286 0.6253\n",
      "model3 9 0.7522 0.6276 0.5956\n",
      "model4 1.0000 0.6543 0.6509\n",
      "model4 3 0.6580 0.6476 0.6885\n",
      "model4 4 0.6776 0.6495 0.6957\n",
      "model4 5 0.6980 0.6562 0.6968\n",
      "model4 6 0.7298 0.6590 0.6979\n",
      "model4 7 0.7665 0.6638 0.6992\n",
      "model5 0.9902 0.6410 0.6307\n"
     ]
    }
   ],
   "source": [
    "X1_use,X1_sub,Y1=get_data(dfX,Y)\n",
    "xtrain,xtest,ytrain,ytest=train_test_split(X1_use,Y1,test_size=0.3,stratify=Y1,random_state=0)\n",
    "\n",
    "make_models(xtrain,xtest,ytrain,ytest)"
   ]
  },
  {
   "cell_type": "code",
   "execution_count": 200,
   "metadata": {},
   "outputs": [],
   "source": [
    "# 모델 선정\n",
    "model=RandomForestClassifier(max_depth=6,random_state=0).fit(xtrain,ytrain)"
   ]
  },
  {
   "cell_type": "code",
   "execution_count": 201,
   "metadata": {},
   "outputs": [],
   "source": [
    "# 제출 데이터 저장"
   ]
  },
  {
   "cell_type": "code",
   "execution_count": 202,
   "metadata": {},
   "outputs": [
    {
     "data": {
      "text/plain": [
       "Index(['cust_id', '총구매액', '최대구매액', '환불금액', '주구매상품', '주구매지점', '내점일수', '내점당구매건수',\n",
       "       '주말방문비율', '구매주기'],\n",
       "      dtype='object')"
      ]
     },
     "execution_count": 202,
     "metadata": {},
     "output_type": "execute_result"
    }
   ],
   "source": [
    "X_sub.columns"
   ]
  },
  {
   "cell_type": "code",
   "execution_count": 204,
   "metadata": {},
   "outputs": [],
   "source": [
    "pred=model.predict_proba(X1_sub)[:,1]"
   ]
  },
  {
   "cell_type": "code",
   "execution_count": 205,
   "metadata": {},
   "outputs": [
    {
     "data": {
      "text/plain": [
       "array([0.51513189, 0.17089939, 0.25540972, ..., 0.50088735, 0.39587348,\n",
       "       0.50487367])"
      ]
     },
     "execution_count": 205,
     "metadata": {},
     "output_type": "execute_result"
    }
   ],
   "source": [
    "pred"
   ]
  },
  {
   "cell_type": "code",
   "execution_count": 208,
   "metadata": {},
   "outputs": [],
   "source": [
    "submission=pd.DataFrame({'cust_id':X_sub['cust_id'],'gender':pred})"
   ]
  },
  {
   "cell_type": "code",
   "execution_count": 210,
   "metadata": {},
   "outputs": [
    {
     "data": {
      "text/html": [
       "<div>\n",
       "<style scoped>\n",
       "    .dataframe tbody tr th:only-of-type {\n",
       "        vertical-align: middle;\n",
       "    }\n",
       "\n",
       "    .dataframe tbody tr th {\n",
       "        vertical-align: top;\n",
       "    }\n",
       "\n",
       "    .dataframe thead th {\n",
       "        text-align: right;\n",
       "    }\n",
       "</style>\n",
       "<table border=\"1\" class=\"dataframe\">\n",
       "  <thead>\n",
       "    <tr style=\"text-align: right;\">\n",
       "      <th></th>\n",
       "      <th>cust_id</th>\n",
       "      <th>gender</th>\n",
       "    </tr>\n",
       "  </thead>\n",
       "  <tbody>\n",
       "    <tr>\n",
       "      <th>0</th>\n",
       "      <td>3500</td>\n",
       "      <td>0.515132</td>\n",
       "    </tr>\n",
       "    <tr>\n",
       "      <th>1</th>\n",
       "      <td>3501</td>\n",
       "      <td>0.170899</td>\n",
       "    </tr>\n",
       "    <tr>\n",
       "      <th>2</th>\n",
       "      <td>3502</td>\n",
       "      <td>0.255410</td>\n",
       "    </tr>\n",
       "    <tr>\n",
       "      <th>3</th>\n",
       "      <td>3503</td>\n",
       "      <td>0.410702</td>\n",
       "    </tr>\n",
       "    <tr>\n",
       "      <th>4</th>\n",
       "      <td>3504</td>\n",
       "      <td>0.459112</td>\n",
       "    </tr>\n",
       "    <tr>\n",
       "      <th>...</th>\n",
       "      <td>...</td>\n",
       "      <td>...</td>\n",
       "    </tr>\n",
       "    <tr>\n",
       "      <th>2477</th>\n",
       "      <td>5977</td>\n",
       "      <td>0.532239</td>\n",
       "    </tr>\n",
       "    <tr>\n",
       "      <th>2478</th>\n",
       "      <td>5978</td>\n",
       "      <td>0.526345</td>\n",
       "    </tr>\n",
       "    <tr>\n",
       "      <th>2479</th>\n",
       "      <td>5979</td>\n",
       "      <td>0.500887</td>\n",
       "    </tr>\n",
       "    <tr>\n",
       "      <th>2480</th>\n",
       "      <td>5980</td>\n",
       "      <td>0.395873</td>\n",
       "    </tr>\n",
       "    <tr>\n",
       "      <th>2481</th>\n",
       "      <td>5981</td>\n",
       "      <td>0.504874</td>\n",
       "    </tr>\n",
       "  </tbody>\n",
       "</table>\n",
       "<p>2482 rows × 2 columns</p>\n",
       "</div>"
      ],
      "text/plain": [
       "      cust_id    gender\n",
       "0        3500  0.515132\n",
       "1        3501  0.170899\n",
       "2        3502  0.255410\n",
       "3        3503  0.410702\n",
       "4        3504  0.459112\n",
       "...       ...       ...\n",
       "2477     5977  0.532239\n",
       "2478     5978  0.526345\n",
       "2479     5979  0.500887\n",
       "2480     5980  0.395873\n",
       "2481     5981  0.504874\n",
       "\n",
       "[2482 rows x 2 columns]"
      ]
     },
     "execution_count": 210,
     "metadata": {},
     "output_type": "execute_result"
    }
   ],
   "source": [
    "submission"
   ]
  },
  {
   "cell_type": "code",
   "execution_count": 211,
   "metadata": {},
   "outputs": [],
   "source": [
    "submission.to_csv('123.csv',index=False)"
   ]
  },
  {
   "cell_type": "code",
   "execution_count": null,
   "metadata": {},
   "outputs": [],
   "source": []
  }
 ],
 "metadata": {
  "kernelspec": {
   "display_name": "ai",
   "language": "python",
   "name": "ai"
  },
  "language_info": {
   "codemirror_mode": {
    "name": "ipython",
    "version": 3
   },
   "file_extension": ".py",
   "mimetype": "text/x-python",
   "name": "python",
   "nbconvert_exporter": "python",
   "pygments_lexer": "ipython3",
   "version": "3.7.11"
  }
 },
 "nbformat": 4,
 "nbformat_minor": 2
}
