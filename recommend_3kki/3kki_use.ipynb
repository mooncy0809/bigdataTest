{
 "cells": [
  {
   "cell_type": "markdown",
   "metadata": {},
   "source": [
    "### user1.csv 데이터를 이용하는 경우"
   ]
  },
  {
   "cell_type": "code",
   "execution_count": 11,
   "metadata": {},
   "outputs": [],
   "source": [
    "# %autosave 0\n",
    "import warnings\n",
    "warnings.filterwarnings(action='ignore')\n",
    "\n",
    "import os\n",
    "\n",
    "import numpy as np\n",
    "import pandas as pd\n",
    "\n",
    "from IPython.display import Image\n",
    "\n",
    "from tensorflow.keras.models import load_model  # model 사용\n",
    "\n",
    "import platform \n",
    "\n",
    "if (platform.system() == 'Windows'):  # Windows, Linux, Darwin\n",
    "    path = '.' # Local\n",
    "else:    \n",
    "    path = '/content/drive/My Drive/ai7/dnn/recommendation' # Colab"
   ]
  },
  {
   "cell_type": "code",
   "execution_count": 12,
   "metadata": {},
   "outputs": [],
   "source": [
    "model = load_model(path + '/3kki5.h5')"
   ]
  },
  {
   "cell_type": "code",
   "execution_count": 13,
   "metadata": {},
   "outputs": [
    {
     "name": "stdout",
     "output_type": "stream",
     "text": [
      "<class 'numpy.ndarray'>\n",
      "(25,)\n",
      "[0.96 0.01 0.01 0.01 0.01 0.96 0.01 0.01 0.01 0.01 0.96 0.01 0.01 0.01\n",
      " 0.01 0.96 0.01 0.01 0.01 0.01 0.96 0.01 0.01 0.01 0.01]\n",
      "[[0.96 0.01 0.01 0.01 0.01 0.96 0.01 0.01 0.01 0.01 0.96 0.01 0.01 0.01\n",
      "  0.01 0.96 0.01 0.01 0.01 0.01 0.96 0.01 0.01 0.01 0.01]]\n"
     ]
    }
   ],
   "source": [
    "# 1행의 데이터를 읽어 2차원의 형태로 변환하여 데이터 준비\n",
    "data = np.loadtxt(path + '/user1.csv', delimiter=',', skiprows=1, dtype=np.float64)\n",
    "print(type(data))\n",
    "print(data.shape)\n",
    "print(data)\n",
    "data = np.array([data]) # 2차원, 행 방향\n",
    "# data = np.reshape(data, (data.shape[0], 1)) # 2차원, 열 방향\n",
    "print(data)"
   ]
  },
  {
   "cell_type": "code",
   "execution_count": 14,
   "metadata": {},
   "outputs": [
    {
     "name": "stdout",
     "output_type": "stream",
     "text": [
      "데이터: [0.96 0.01 0.01 0.01 0.01 0.96 0.01 0.01 0.01 0.01 0.96 0.01 0.01 0.01\n",
      " 0.01 0.96 0.01 0.01 0.01 0.01 0.96 0.01 0.01 0.01 0.01]\n",
      "1/1 [==============================] - 0s 96ms/step\n",
      "p.shape: (1, 5)\n",
      "예측값: [1.0000000e+00 7.9989097e-12 8.6360960e-11 7.2580735e-12 6.4529247e-13]\n",
      "예측값:1.0000000 0.0000000 0.0000000 0.0000000 0.0000000\n"
     ]
    }
   ],
   "source": [
    "print('데이터:', data[0])     # 첫번째 데이터행\n",
    "\n",
    "p = model.predict(data)  # 모델 사용, 2차원 데이터 전달, 결과를 2차원으로 받음\n",
    "\n",
    "print('p.shape:', p.shape) # 출력 결과는 1행 5열\n",
    "# 확률 0 ~ 1사이의 실수값\n",
    "print('예측값:', p[0]) \n",
    "print('예측값:{0:.7f} {1:.7f} {2:.7f} {3:.7f} {4:.7f}'.format(p[0][0], p[0][1], p[0][2], p[0][3], p[0][4])) "
   ]
  },
  {
   "cell_type": "code",
   "execution_count": 15,
   "metadata": {},
   "outputs": [],
   "source": [
    "# 모델 사용을 함수로 변경\n",
    "# 0: 닭가슴살\n",
    "# 1: 간편요리\n",
    "# 2: 샐러드\n",
    "# 3: 건강미용\n",
    "# 4: 간식\n",
    "def recommendation(fname):\n",
    "    data = np.loadtxt(path + '/' + fname, delimiter=',', skiprows=1, dtype=np.float64)\n",
    "    data = np.array([data]) # 2차원 배열로 변경, 행 방향\n",
    "    \n",
    "    p = model.predict(data)  # 2차원 데이터 전달하여 분류에 포함될 확률을 2차원 배열로 전달받음\n",
    "    \n",
    "    print(fname)\n",
    "    print(p[0]) # 예측된 확률 출력\n",
    "    \n",
    "    index = np.argmax(p[0]) # 가장 큰 값이 있는 배열의 index return\n",
    "    print('가장 큰 값이 있는 배열의 index:', index)\n",
    "    if index == 0:\n",
    "        label = '닭가슴살 카테고리'\n",
    "    elif index == 1:\n",
    "        label = '간편요리 카테고리'\n",
    "    elif index == 2:\n",
    "        label = '샐러드 카테고리'\n",
    "    elif index == 3:\n",
    "        label = '건강미용 카테고리'\n",
    "    elif index == 4:\n",
    "        label = '간식 카테고리'\n",
    "        \n",
    "    return label"
   ]
  },
  {
   "cell_type": "code",
   "execution_count": 16,
   "metadata": {},
   "outputs": [
    {
     "name": "stdout",
     "output_type": "stream",
     "text": [
      "1/1 [==============================] - 0s 33ms/step\n",
      "user1.csv\n",
      "[1.0000000e+00 7.9989097e-12 8.6360960e-11 7.2580735e-12 6.4529247e-13]\n",
      "가장 큰 값이 있는 배열의 index: 0\n",
      "닭가슴살 카테고리\n"
     ]
    }
   ],
   "source": [
    "print(recommendation('user1.csv'))"
   ]
  },
  {
   "cell_type": "markdown",
   "metadata": {},
   "source": [
    "### 이미지를 출력하는 경우"
   ]
  },
  {
   "cell_type": "markdown",
   "metadata": {},
   "source": [
    "<TABLE><TR>\n",
    "  <TD style='vertical-align: middle'>\n",
    "      <img src='./images/v11.jpg' style='float:left; height: 200px'>\n",
    "  </TD>\n",
    "  <TD style='vertical-align: middle'>\n",
    "      <img src='./images/v21.jpg' style='float:left; height: 200px'>\n",
    "  </TD>\n",
    "  <TD style='vertical-align: middle'>\n",
    "      <img src='./images/v31.jpg' style='float:left; height: 200px'>\n",
    "  </TD>\n",
    "  <TD style='vertical-align: middle'>\n",
    "      <img src='./images/v41.jpg' style='float:left; height: 200px'>\n",
    "  </TD>\n",
    "  <TD style='vertical-align: middle'>\n",
    "      <img src='./images/v51.jpg' style='float:left; height: 200px'>\n",
    "  </TD>\n",
    "</TR></TABLE>"
   ]
  },
  {
   "cell_type": "code",
   "execution_count": 17,
   "metadata": {},
   "outputs": [
    {
     "name": "stdout",
     "output_type": "stream",
     "text": [
      "1. 맛있닭 닭가슴살 소시지 훈제맛\n",
      "2. 맛있닭 닭가슴살 한끼 곤약볶음밥 양송이\n",
      "3. 내가 몸짱이 될 샐러드 닭가슴살 & 메추리알 샐러드\n",
      "4. 애터미 밸런스라이프\n",
      "5. 성수동 스무디 오트밀\n",
      "선택 : 2\n"
     ]
    }
   ],
   "source": [
    "select = [] # 선택 값 저장\n",
    "print('1. 맛있닭 닭가슴살 소시지 훈제맛')\n",
    "print('2. 맛있닭 닭가슴살 한끼 곤약볶음밥 양송이')\n",
    "print('3. 내가 몸짱이 될 샐러드 닭가슴살 & 메추리알 샐러드')\n",
    "print('4. 애터미 밸런스라이프')\n",
    "print('5. 성수동 스무디 오트밀')\n",
    "\n",
    "select1 = int(input('선택 : '))\n",
    "select.append(select1)"
   ]
  },
  {
   "cell_type": "markdown",
   "metadata": {},
   "source": [
    "<TABLE><TR>\n",
    "  <TD style='vertical-align: middle'>\n",
    "      <img src='./images/v12.jpg' style='float:left; height: 200px'>\n",
    "  </TD>\n",
    "  <TD style='vertical-align: middle'>\n",
    "      <img src='./images/v22.jpg' style='float:left; height: 200px'>\n",
    "  </TD>\n",
    "  <TD style='vertical-align: middle'>\n",
    "      <img src='./images/v32.jpg' style='float:left; height: 200px'>\n",
    "  </TD>\n",
    "  <TD style='vertical-align: middle'>\n",
    "      <img src='./images/v42.jpg' style='float:left; height: 200px'>\n",
    "  </TD>\n",
    "  <TD style='vertical-align: middle'>\n",
    "      <img src='./images/v52.jpg' style='float:left; height: 200px'>\n",
    "  </TD>\n",
    "</TR></TABLE>"
   ]
  },
  {
   "cell_type": "code",
   "execution_count": null,
   "metadata": {
    "scrolled": true
   },
   "outputs": [
    {
     "name": "stdout",
     "output_type": "stream",
     "text": [
      "1. 잇메이트 저염 훈제닭가슴살\n",
      "2. 잇메이트 닭가슴살소세지볶음밥 마늘맛\n",
      "3. 밥보다 샐러드 닭가슴살햄슬라이스&스모크드치즈\n",
      "4. 린 컴플리트\n",
      "5. 맛있닭 닭가슴살 소시지 한끼브리또 오리지널\n"
     ]
    }
   ],
   "source": [
    "print('1. 잇메이트 저염 훈제닭가슴살')\n",
    "print('2. 잇메이트 닭가슴살소세지볶음밥 마늘맛')\n",
    "print('3. 밥보다 샐러드 닭가슴살햄슬라이스&스모크드치즈')\n",
    "print('4. 린 컴플리트')\n",
    "print('5. 맛있닭 닭가슴살 소시지 한끼브리또 오리지널')\n",
    "select2 = int(input('선택 : '))\n",
    "select.append(select2)"
   ]
  },
  {
   "cell_type": "markdown",
   "metadata": {},
   "source": [
    "<TABLE><TR>\n",
    "  <TD style='vertical-align: middle'>\n",
    "      <img src='./images/v13.jpg' style='float:left; height: 200px'>\n",
    "  </TD>\n",
    "  <TD style='vertical-align: middle'>\n",
    "      <img src='./images/v23.jpg' style='float:left; height: 200px'>\n",
    "  </TD>\n",
    "  <TD style='vertical-align: middle'>\n",
    "      <img src='./images/v33.jpg' style='float:left; height: 200px'>\n",
    "  </TD>\n",
    "  <TD style='vertical-align: middle'>\n",
    "      <img src='./images/v43.jpg' style='float:left; height: 200px'>\n",
    "  </TD>\n",
    "  <TD style='vertical-align: middle'>\n",
    "      <img src='./images/v53.jpg' style='float:left; height: 200px'>\n",
    "  </TD>\n",
    "</TR></TABLE>"
   ]
  },
  {
   "cell_type": "code",
   "execution_count": 19,
   "metadata": {
    "scrolled": false
   },
   "outputs": [
    {
     "name": "stdout",
     "output_type": "stream",
     "text": [
      "1. 아워홈 참나무향 닭가슴살\n",
      "2. 밀스원 탄두리치킨볶음밥 & 참치오믈렛\n",
      "3. 포켓샐러드 닭가슴살 샐러드\n",
      "4. HOPE 발효효소 밸런스밀 블랙\n",
      "5. 글램디 5킬로칼로리 워터젤리 망고맛 \n",
      "선택 : 1\n"
     ]
    }
   ],
   "source": [
    "print('1. 아워홈 참나무향 닭가슴살')\n",
    "print('2. 밀스원 탄두리치킨볶음밥 & 참치오믈렛')\n",
    "print('3. 포켓샐러드 닭가슴살 샐러드')\n",
    "print('4. HOPE 발효효소 밸런스밀 블랙')\n",
    "print('5. 글램디 5킬로칼로리 워터젤리 망고맛 ')\n",
    "\n",
    "select3 = int(input('선택 : '))\n",
    "select.append(select3)"
   ]
  },
  {
   "cell_type": "markdown",
   "metadata": {},
   "source": [
    "<TABLE><TR>\n",
    "  <TD style='vertical-align: middle'>\n",
    "      <img src='./images/v14.jpg' style='float:left; height: 200px'>\n",
    "  </TD>\n",
    "  <TD style='vertical-align: middle'>\n",
    "      <img src='./images/v24.jpg' style='float:left; height: 200px'>\n",
    "  </TD>\n",
    "  <TD style='vertical-align: middle'>\n",
    "      <img src='./images/v34.jpg' style='float:left; height: 200px'>\n",
    "  </TD>\n",
    "  <TD style='vertical-align: middle'>\n",
    "      <img src='./images/v44.jpg' style='float:left; height: 200px'>\n",
    "  </TD>\n",
    "  <TD style='vertical-align: middle'>\n",
    "      <img src='./images/v54.jpg' style='float:left; height: 200px'>\n",
    "  </TD>\n",
    "</TR></TABLE>"
   ]
  },
  {
   "cell_type": "code",
   "execution_count": 20,
   "metadata": {},
   "outputs": [
    {
     "name": "stdout",
     "output_type": "stream",
     "text": [
      "1. 러브잇 닭가슴살 짜장 매운맛\n",
      "2. 맛있닭 더담은 도시락 닭가슴살 큐브마늘맛 & 연근우엉밥\n",
      "3. 수비드닭가슴살빅샐러드\n",
      "4. 리뉴슬림 블루\n",
      "5. 후디스 그릭요거트 무설탕 저지방\n",
      "선택 : 5\n"
     ]
    }
   ],
   "source": [
    "print('1. 러브잇 닭가슴살 짜장 매운맛')\n",
    "print('2. 맛있닭 더담은 도시락 닭가슴살 큐브마늘맛 & 연근우엉밥')\n",
    "print('3. 수비드닭가슴살빅샐러드')\n",
    "print('4. 리뉴슬림 블루')\n",
    "print('5. 후디스 그릭요거트 무설탕 저지방')\n",
    "select4 = int(input('선택 : '))\n",
    "select.append(select4)"
   ]
  },
  {
   "cell_type": "markdown",
   "metadata": {},
   "source": [
    "<TABLE><TR>\n",
    "  <TD style='vertical-align: middle'>\n",
    "      <img src='./images/v15.jpg' style='float:left; height: 200px'>\n",
    "  </TD>\n",
    "  <TD style='vertical-align: middle'>\n",
    "      <img src='./images/v25.jpg' style='float:left; height: 200px'>\n",
    "  </TD>\n",
    "  <TD style='vertical-align: middle'>\n",
    "      <img src='./images/v35.jpg' style='float:left; height: 200px'>\n",
    "  </TD>\n",
    "  <TD style='vertical-align: middle'>\n",
    "      <img src='./images/v45.jpg' style='float:left; height: 200px'>\n",
    "  </TD>\n",
    "  <TD style='vertical-align: middle'>\n",
    "      <img src='./images/v55.jpg' style='float:left; height: 200px'>\n",
    "  </TD>\n",
    "</TR></TABLE>"
   ]
  },
  {
   "cell_type": "code",
   "execution_count": 21,
   "metadata": {},
   "outputs": [
    {
     "name": "stdout",
     "output_type": "stream",
     "text": [
      "1. 굽네 훈제 닭가슴살 오리지널\n",
      "2. 더 담아 꽉~채운 계란야채곤약볶음밥&토마토소스닭가슴살슬라이스\n",
      "3. 아임닭 23 단백질 닭가슴살 샐러드\n",
      "4. 유산균슬림다이어트\n",
      "5. 단백질공화국 다크초콜릿 \n",
      "선택 : 3\n",
      "2 3 1 5 3\n",
      "[2, 3, 1, 5, 3]\n"
     ]
    }
   ],
   "source": [
    "print('1. 굽네 훈제 닭가슴살 오리지널')\n",
    "print('2. 더 담아 꽉~채운 계란야채곤약볶음밥&토마토소스닭가슴살슬라이스')\n",
    "print('3. 아임닭 23 단백질 닭가슴살 샐러드')\n",
    "print('4. 유산균슬림다이어트')\n",
    "print('5. 단백질공화국 다크초콜릿 ')\n",
    "select5 = int(input('선택 : '))\n",
    "select.append(select5)\n",
    "\n",
    "print(select1, select2, select3, select4, select5)\n",
    "print(select) #list"
   ]
  },
  {
   "cell_type": "code",
   "execution_count": 22,
   "metadata": {},
   "outputs": [
    {
     "name": "stdout",
     "output_type": "stream",
     "text": [
      "[0.01, 0.96, 0.01, 0.01, 0.01]\n"
     ]
    }
   ],
   "source": [
    "X = []  # list\n",
    "# 선택 값중에 첫번째 값\n",
    "for j in range(1, 6): # 1 ~ 5까지 발생\n",
    "    if (select[0] == j): # 1 == 1, 1 == 2, 1 == 3 , 1 == 4, 1 == 5\n",
    "        X.append(0.96)   \n",
    "    else:\n",
    "        X.append(0.01)\n",
    "        \n",
    "print(X)        "
   ]
  },
  {
   "cell_type": "code",
   "execution_count": 23,
   "metadata": {},
   "outputs": [
    {
     "name": "stdout",
     "output_type": "stream",
     "text": [
      "[0.01, 0.96, 0.01, 0.01, 0.01, 0.01, 0.01, 0.96, 0.01, 0.01]\n"
     ]
    }
   ],
   "source": [
    "# 선택 값중에 두번째 값\n",
    "for j in range(1, 6): # 1 ~ 3까지 발생\n",
    "    if (select[1] == j): # 1 == 1, 1 == 2, 1 == 3\n",
    "        X.append(0.96)      # 1       0       0 \n",
    "    else:\n",
    "        X.append(0.01)\n",
    "        \n",
    "print(X)      "
   ]
  },
  {
   "cell_type": "code",
   "execution_count": 24,
   "metadata": {},
   "outputs": [
    {
     "name": "stdout",
     "output_type": "stream",
     "text": [
      "[0.01, 0.96, 0.01, 0.01, 0.01, 0.01, 0.01, 0.96, 0.01, 0.01, 0.96, 0.01, 0.01, 0.01, 0.01]\n"
     ]
    }
   ],
   "source": [
    "# 선택 값중에 세번째 값\n",
    "for j in range(1, 6): # 1 ~ 3까지 발생\n",
    "    if (select[2] == j): # 1 == 1, 1 == 2, 1 == 3\n",
    "        X.append(0.96)      # 1       0       0 \n",
    "    else:\n",
    "        X.append(0.01)\n",
    "        \n",
    "print(X)      "
   ]
  },
  {
   "cell_type": "code",
   "execution_count": 25,
   "metadata": {},
   "outputs": [
    {
     "name": "stdout",
     "output_type": "stream",
     "text": [
      "[0.01, 0.96, 0.01, 0.01, 0.01, 0.01, 0.01, 0.96, 0.01, 0.01, 0.96, 0.01, 0.01, 0.01, 0.01, 0.01, 0.01, 0.01, 0.01, 0.96, 0.01, 0.01, 0.96, 0.01, 0.01]\n",
      "[[0.01 0.96 0.01 0.01 0.01 0.01 0.01 0.96 0.01 0.01 0.96 0.01 0.01 0.01\n",
      "  0.01 0.01 0.01 0.01 0.01 0.96 0.01 0.01 0.96 0.01 0.01]]\n"
     ]
    }
   ],
   "source": [
    "# 3개의 for문이 결합된 형태\n",
    "X = []\n",
    "for i in range(0, 5): # 평가 횟수 3번, 0 ~ 2\n",
    "    for j in range(1, 6): # 평가 항목수 3개\n",
    "        # print(i, j)\n",
    "        # 선택한 번호화 같은 경우만 1을 할당\n",
    "        # 사용자가 입력한 1은 배열 index 0에 해당함.\n",
    "        if (select[i] == j): # 1 == 1\n",
    "            X.append(0.96)      # 1                       \n",
    "        else:\n",
    "            X.append(0.01)      # 0,0                \n",
    "            \n",
    "print(X)            \n",
    "print(np.array([np.array(X)])) # 1차원 list -> 2차원 ndarray 배열로 변경"
   ]
  },
  {
   "cell_type": "code",
   "execution_count": 26,
   "metadata": {},
   "outputs": [
    {
     "name": "stdout",
     "output_type": "stream",
     "text": [
      "[[0.01 0.96 0.01 0.01 0.01 0.01 0.01 0.96 0.01 0.01 0.96 0.01 0.01 0.01\n",
      "  0.01 0.01 0.01 0.01 0.01 0.96 0.01 0.01 0.96 0.01 0.01]]\n",
      "1/1 [==============================] - 0s 36ms/step\n",
      "[[3.9587826e-03 1.9415739e-03 9.8523337e-01 4.9388553e-05 8.8168681e-03]]\n",
      "샐러드 카테고리 추천 필요\n"
     ]
    }
   ],
   "source": [
    "data = np.array([np.array(X)]) # 입력 데이터는 ndarray 타입의 2차원이어야함, 행 방향\n",
    "print(data)\n",
    "p = model.predict(data)  # 모델 사용, 2차원 데이터 전달\n",
    "print(p)\n",
    "index = np.argmax(p[0])  # 가장 높은 값의 index 산출, 가장 확률이 높은 값의 index\n",
    "if index == 0:\n",
    "    label = '닭가슴살 카테고리'\n",
    "elif index == 1:\n",
    "    label = '간편요리 카테고리'\n",
    "elif index == 2:\n",
    "    label = '샐러드 카테고리'\n",
    "elif index == 3:\n",
    "    label = '건강미용 카테고리'\n",
    "elif index == 4:\n",
    "    label = '간식 카테고리'\n",
    "\n",
    "print(label + ' 추천 필요') "
   ]
  },
  {
   "cell_type": "markdown",
   "metadata": {},
   "source": [
    "#### 딥러닝 모델을 이용하여 고객의 특성이 파악됨\n",
    "#### 기업에서의 추천 시스템은 비공개로 개발되는 알고리즘이 다양함\n",
    "#### DBMS에 사용자가 구입한 상품이면 추천 상품에서 제외 시켜야함."
   ]
  },
  {
   "cell_type": "code",
   "execution_count": null,
   "metadata": {},
   "outputs": [],
   "source": []
  },
  {
   "cell_type": "code",
   "execution_count": null,
   "metadata": {},
   "outputs": [],
   "source": []
  },
  {
   "cell_type": "code",
   "execution_count": null,
   "metadata": {},
   "outputs": [],
   "source": []
  }
 ],
 "metadata": {
  "kernelspec": {
   "display_name": "ai",
   "language": "python",
   "name": "ai"
  },
  "language_info": {
   "codemirror_mode": {
    "name": "ipython",
    "version": 3
   },
   "file_extension": ".py",
   "mimetype": "text/x-python",
   "name": "python",
   "nbconvert_exporter": "python",
   "pygments_lexer": "ipython3",
   "version": "3.7.13"
  }
 },
 "nbformat": 4,
 "nbformat_minor": 2
}
