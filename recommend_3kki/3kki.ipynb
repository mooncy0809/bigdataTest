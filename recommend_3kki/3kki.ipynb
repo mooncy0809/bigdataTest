{
 "cells": [
  {
   "cell_type": "markdown",
   "metadata": {},
   "source": [
    "### 추천 시스템 제작(하루3끼)"
   ]
  },
  {
   "cell_type": "code",
   "execution_count": 1,
   "metadata": {},
   "outputs": [],
   "source": [
    "# %autosave 0\n",
    "import warnings\n",
    "warnings.filterwarnings(action='ignore')\n",
    "\n",
    "import os\n",
    "\n",
    "import numpy as np\n",
    "import pandas as pd\n",
    "import seaborn as sb\n",
    "\n",
    "from IPython.display import Image\n",
    "\n",
    "from tensorflow.keras.models import Sequential  # class\n",
    "from tensorflow.keras.models import load_model  # model 사용\n",
    "from tensorflow.keras.layers import Dense       # 전결합\n",
    "from tensorflow.keras.layers import Dropout     # 특정 node를 사용안함.\n",
    "from tensorflow.keras.callbacks import EarlyStopping   # 학습 자동 중지\n",
    "from tensorflow.keras.callbacks import ModelCheckpoint # 우수한 학습 모델 파일 저장\n",
    "from tensorflow.keras import regularizers \n",
    "from tensorflow.keras.utils import to_categorical   # one-hot 엔코딩\n",
    "from tensorflow.keras.optimizers import Adam    # 가중치, bias 최적화\n",
    "\n",
    "from sklearn.preprocessing import LabelEncoder\n",
    "from sklearn.model_selection import train_test_split # 학습셋과 테스트셋의 분리 지원\n",
    "from sklearn.model_selection import StratifiedKFold  # K겹 교차 검증\n",
    "\n",
    "import matplotlib.pyplot as plt\n",
    "\n",
    "from matplotlib import font_manager, rc\n",
    "\n",
    "import platform \n",
    "\n",
    "if (platform.system() == 'Windows'):  # Windows, Linux, Darwin\n",
    "    rc('font', family=font_manager.FontProperties(fname=\"C:/Windows/Fonts/malgun.ttf\").get_name())\n",
    "    path = '.' # Local\n",
    "else:    \n",
    "    plt.rc('font', family='NanumBarunGothic')  # Ubuntu 18.04 기준 한글 처리\n",
    "    path = '/content/drive/My Drive/ai7/dnn/recommendation' # Colab\n",
    "\n",
    "plt.rcParams[\"font.size\"] = 12         # 글자 크기\n",
    "# plt.rcParams[\"figure.figsize\"] = (10, 4) # 10:4의 그래프 비율\n",
    "plt.rcParams['axes.unicode_minus'] = False  # minus 부호는 unicode 적용시 한글이 깨짐으로 설정\n",
    "\n",
    "%matplotlib inline"
   ]
  },
  {
   "cell_type": "code",
   "execution_count": 2,
   "metadata": {},
   "outputs": [
    {
     "name": "stdout",
     "output_type": "stream",
     "text": [
      "<class 'numpy.ndarray'>\n",
      "(21771, 26)\n"
     ]
    }
   ],
   "source": [
    "# header가 있을경우 skiprows=1 선언\n",
    "data = np.loadtxt(path + '/train1.csv', delimiter=',', skiprows=1, dtype=np.float64)   # 특성이 작은 데이터의 예외 추가\n",
    "print(type(data))\n",
    "print(data.shape)"
   ]
  },
  {
   "cell_type": "code",
   "execution_count": 3,
   "metadata": {},
   "outputs": [
    {
     "name": "stdout",
     "output_type": "stream",
     "text": [
      "(21771, 25)\n",
      "(21771,)\n"
     ]
    }
   ],
   "source": [
    "# 데이터와 class의 분리\n",
    "# 0: 닭가슴살\n",
    "# 1: 간편요리\n",
    "# 2: 샐러드\n",
    "# 3: 건강미용\n",
    "# 4: 간식\n",
    "X = data[:, 0:25]  # 0 ~ 24\n",
    "print(X.shape)\n",
    "Y = data[:, 25]    # 25 번째 데이터, class의 분리\n",
    "print(Y.shape)"
   ]
  },
  {
   "cell_type": "code",
   "execution_count": 4,
   "metadata": {},
   "outputs": [
    {
     "name": "stdout",
     "output_type": "stream",
     "text": [
      "[0. 1. 2. ... 4. 4. 4.]\n"
     ]
    }
   ],
   "source": [
    "print(Y)"
   ]
  },
  {
   "cell_type": "code",
   "execution_count": 5,
   "metadata": {},
   "outputs": [
    {
     "name": "stdout",
     "output_type": "stream",
     "text": [
      "[0 1 2 ... 4 4 4]\n"
     ]
    }
   ],
   "source": [
    "Y = Y.astype('int') # 정수로 형변환\n",
    "print(Y)"
   ]
  },
  {
   "cell_type": "code",
   "execution_count": 6,
   "metadata": {},
   "outputs": [
    {
     "name": "stdout",
     "output_type": "stream",
     "text": [
      "[[1. 0. 0. 0. 0.]\n",
      " [0. 1. 0. 0. 0.]\n",
      " [0. 0. 1. 0. 0.]\n",
      " ...\n",
      " [0. 0. 0. 0. 1.]\n",
      " [0. 0. 0. 0. 1.]\n",
      " [0. 0. 0. 0. 1.]]\n"
     ]
    }
   ],
   "source": [
    "# 0: 닭가슴살\n",
    "# 1: 간편요리\n",
    "# 2: 샐러드\n",
    "# 3: 건강미용\n",
    "# 4: 간식\n",
    "Y_encoded = to_categorical(Y) # one-hot-encoding\n",
    "\n",
    "print(Y_encoded) "
   ]
  },
  {
   "cell_type": "code",
   "execution_count": 7,
   "metadata": {},
   "outputs": [
    {
     "name": "stdout",
     "output_type": "stream",
     "text": [
      "[0.96 0.01 0.01 0.01 0.01 0.96 0.01 0.01 0.01 0.01 0.96 0.01 0.01 0.01\n",
      " 0.01 0.96 0.01 0.01 0.01 0.01 0.96 0.01 0.01 0.01 0.01]\n",
      "[1. 0. 0. 0. 0.]\n"
     ]
    }
   ],
   "source": [
    "print(X[0])\n",
    "print(Y_encoded[0])"
   ]
  },
  {
   "cell_type": "code",
   "execution_count": 8,
   "metadata": {},
   "outputs": [
    {
     "name": "stdout",
     "output_type": "stream",
     "text": [
      "[[0. 1. 0. 0. 0.]\n",
      " [0. 1. 0. 0. 0.]\n",
      " [0. 1. 0. 0. 0.]\n",
      " ...\n",
      " [0. 0. 1. 0. 0.]\n",
      " [1. 0. 0. 0. 0.]\n",
      " [1. 0. 0. 0. 0.]]\n",
      "(3919, 5)\n"
     ]
    }
   ],
   "source": [
    "# train_test_split 분할을 통한 훈련, 검증, 테스트 데이터의 분리\n",
    "seed = 0\n",
    "# 90%: 분할대기, 10%: 테스트\n",
    "x_train_all, x_test, y_train_all, y_test = train_test_split(X, Y_encoded,\n",
    "                                           stratify=Y_encoded,\n",
    "                                           test_size=0.1,\n",
    "                                           random_state=seed)\n",
    "# 나머지 데이터 90%를 분할, 80%: 훈련, 20%: 검증\n",
    "x_train, x_val, y_train, y_val = train_test_split(x_train_all, y_train_all,\n",
    "                                           stratify=y_train_all,\n",
    "                                           test_size=0.2,\n",
    "                                           random_state=seed)\n",
    "\n",
    "print(y_val)\n",
    "print(y_val.shape)\n",
    "# 닭가슴살: 0 , 간편요리: 1, 샐러드: 2 , 건강미용 : 3 , 간식 : 4\n",
    "# (67, 5): 67건의 데이터가 입력되어 한건당 5가지에 속할 확률이 출력됨으로 67행 5열이됨."
   ]
  },
  {
   "cell_type": "code",
   "execution_count": 9,
   "metadata": {},
   "outputs": [
    {
     "name": "stdout",
     "output_type": "stream",
     "text": [
      "[[1. 0. 0. 0. 0.]\n",
      " [0. 0. 1. 0. 0.]\n",
      " [0. 0. 0. 1. 0.]\n",
      " ...\n",
      " [0. 0. 0. 0. 1.]\n",
      " [0. 0. 0. 1. 0.]\n",
      " [1. 0. 0. 0. 0.]]\n",
      "(2178, 5)\n"
     ]
    }
   ],
   "source": [
    "print(y_test)\n",
    "print(y_test.shape)\n",
    "# (37, 5): 37건의 데이터가 입력되어 한건당 5가지에 속할 확률이 출력됨으로 37행 5열이됨."
   ]
  },
  {
   "cell_type": "code",
   "execution_count": 22,
   "metadata": {},
   "outputs": [
    {
     "name": "stdout",
     "output_type": "stream",
     "text": [
      "Model: \"sequential_2\"\n",
      "_________________________________________________________________\n",
      " Layer (type)                Output Shape              Param #   \n",
      "=================================================================\n",
      " dense_4 (Dense)             (None, 5)                 130       \n",
      "                                                                 \n",
      " dense_5 (Dense)             (None, 5)                 30        \n",
      "                                                                 \n",
      "=================================================================\n",
      "Total params: 160\n",
      "Trainable params: 160\n",
      "Non-trainable params: 0\n",
      "_________________________________________________________________\n",
      "Epoch 1/100\n",
      "3123/3135 [============================>.] - ETA: 0s - loss: 1.0104 - accuracy: 0.6052\n",
      "Epoch 1: val_accuracy improved from -inf to 0.71651, saving model to .\\3kki6.h5\n",
      "3135/3135 [==============================] - 10s 3ms/step - loss: 1.0091 - accuracy: 0.6054 - val_loss: 0.7064 - val_accuracy: 0.7165\n",
      "Epoch 2/100\n",
      "3120/3135 [============================>.] - ETA: 0s - loss: 0.6291 - accuracy: 0.7286\n",
      "Epoch 2: val_accuracy improved from 0.71651 to 0.74228, saving model to .\\3kki6.h5\n",
      "3135/3135 [==============================] - 8s 3ms/step - loss: 0.6288 - accuracy: 0.7287 - val_loss: 0.5739 - val_accuracy: 0.7423\n",
      "Epoch 3/100\n",
      "3116/3135 [============================>.] - ETA: 0s - loss: 0.5511 - accuracy: 0.7433\n",
      "Epoch 3: val_accuracy improved from 0.74228 to 0.75478, saving model to .\\3kki6.h5\n",
      "3135/3135 [==============================] - 7s 2ms/step - loss: 0.5510 - accuracy: 0.7433 - val_loss: 0.5293 - val_accuracy: 0.7548\n",
      "Epoch 4/100\n",
      "3104/3135 [============================>.] - ETA: 0s - loss: 0.5201 - accuracy: 0.7494\n",
      "Epoch 4: val_accuracy did not improve from 0.75478\n",
      "3135/3135 [==============================] - 7s 2ms/step - loss: 0.5202 - accuracy: 0.7495 - val_loss: 0.5096 - val_accuracy: 0.7543\n",
      "Epoch 5/100\n",
      "3135/3135 [==============================] - ETA: 0s - loss: 0.5056 - accuracy: 0.7511\n",
      "Epoch 5: val_accuracy improved from 0.75478 to 0.75504, saving model to .\\3kki6.h5\n",
      "3135/3135 [==============================] - 7s 2ms/step - loss: 0.5056 - accuracy: 0.7511 - val_loss: 0.4998 - val_accuracy: 0.7550\n",
      "Epoch 6/100\n",
      "3120/3135 [============================>.] - ETA: 0s - loss: 0.4978 - accuracy: 0.7516\n",
      "Epoch 6: val_accuracy did not improve from 0.75504\n",
      "3135/3135 [==============================] - 7s 2ms/step - loss: 0.4977 - accuracy: 0.7517 - val_loss: 0.4942 - val_accuracy: 0.7522\n",
      "Epoch 7/100\n",
      "3123/3135 [============================>.] - ETA: 0s - loss: 0.4930 - accuracy: 0.7516\n",
      "Epoch 7: val_accuracy did not improve from 0.75504\n",
      "3135/3135 [==============================] - 7s 2ms/step - loss: 0.4928 - accuracy: 0.7518 - val_loss: 0.4906 - val_accuracy: 0.7522\n",
      "Epoch 8/100\n",
      "3131/3135 [============================>.] - ETA: 0s - loss: 0.4899 - accuracy: 0.7536\n",
      "Epoch 8: val_accuracy did not improve from 0.75504\n",
      "3135/3135 [==============================] - 7s 2ms/step - loss: 0.4896 - accuracy: 0.7537 - val_loss: 0.4880 - val_accuracy: 0.7489\n",
      "Epoch 9/100\n",
      "3117/3135 [============================>.] - ETA: 0s - loss: 0.4872 - accuracy: 0.7537\n",
      "Epoch 9: val_accuracy did not improve from 0.75504\n",
      "3135/3135 [==============================] - 7s 2ms/step - loss: 0.4872 - accuracy: 0.7536 - val_loss: 0.4862 - val_accuracy: 0.7499\n",
      "Epoch 10/100\n",
      "3125/3135 [============================>.] - ETA: 0s - loss: 0.4857 - accuracy: 0.7538\n",
      "Epoch 10: val_accuracy did not improve from 0.75504\n",
      "3135/3135 [==============================] - 7s 2ms/step - loss: 0.4854 - accuracy: 0.7539 - val_loss: 0.4847 - val_accuracy: 0.7504\n",
      "Epoch 11/100\n",
      "3123/3135 [============================>.] - ETA: 0s - loss: 0.4842 - accuracy: 0.7540\n",
      "Epoch 11: val_accuracy did not improve from 0.75504\n",
      "3135/3135 [==============================] - 7s 2ms/step - loss: 0.4840 - accuracy: 0.7541 - val_loss: 0.4835 - val_accuracy: 0.7504\n",
      "Epoch 12/100\n",
      "3112/3135 [============================>.] - ETA: 0s - loss: 0.4827 - accuracy: 0.7541\n",
      "Epoch 12: val_accuracy did not improve from 0.75504\n",
      "3135/3135 [==============================] - 8s 3ms/step - loss: 0.4829 - accuracy: 0.7539 - val_loss: 0.4826 - val_accuracy: 0.7489\n",
      "Epoch 13/100\n",
      "3106/3135 [============================>.] - ETA: 0s - loss: 0.4817 - accuracy: 0.7542\n",
      "Epoch 13: val_accuracy did not improve from 0.75504\n",
      "3135/3135 [==============================] - 8s 2ms/step - loss: 0.4820 - accuracy: 0.7540 - val_loss: 0.4818 - val_accuracy: 0.7489\n",
      "Epoch 14/100\n",
      "3128/3135 [============================>.] - ETA: 0s - loss: 0.4814 - accuracy: 0.7540\n",
      "Epoch 14: val_accuracy did not improve from 0.75504\n",
      "3135/3135 [==============================] - 7s 2ms/step - loss: 0.4813 - accuracy: 0.7540 - val_loss: 0.4811 - val_accuracy: 0.7489\n",
      "Epoch 15/100\n",
      "3120/3135 [============================>.] - ETA: 0s - loss: 0.4807 - accuracy: 0.7541\n",
      "Epoch 15: val_accuracy did not improve from 0.75504\n",
      "3135/3135 [==============================] - 7s 2ms/step - loss: 0.4806 - accuracy: 0.7541 - val_loss: 0.4807 - val_accuracy: 0.7484\n",
      "Epoch 16/100\n",
      "3125/3135 [============================>.] - ETA: 0s - loss: 0.4804 - accuracy: 0.7536\n",
      "Epoch 16: val_accuracy did not improve from 0.75504\n",
      "3135/3135 [==============================] - 7s 2ms/step - loss: 0.4801 - accuracy: 0.7537 - val_loss: 0.4802 - val_accuracy: 0.7479\n",
      "Epoch 17/100\n",
      "3132/3135 [============================>.] - ETA: 0s - loss: 0.4799 - accuracy: 0.7533\n",
      "Epoch 17: val_accuracy did not improve from 0.75504\n",
      "3135/3135 [==============================] - 7s 2ms/step - loss: 0.4796 - accuracy: 0.7535 - val_loss: 0.4798 - val_accuracy: 0.7482\n",
      "Epoch 18/100\n",
      "3127/3135 [============================>.] - ETA: 0s - loss: 0.4794 - accuracy: 0.7532\n",
      "Epoch 18: val_accuracy did not improve from 0.75504\n",
      "3135/3135 [==============================] - 7s 2ms/step - loss: 0.4792 - accuracy: 0.7533 - val_loss: 0.4794 - val_accuracy: 0.7494\n",
      "Epoch 19/100\n",
      "3121/3135 [============================>.] - ETA: 0s - loss: 0.4789 - accuracy: 0.7538\n",
      "Epoch 19: val_accuracy did not improve from 0.75504\n",
      "3135/3135 [==============================] - 7s 2ms/step - loss: 0.4789 - accuracy: 0.7538 - val_loss: 0.4792 - val_accuracy: 0.7499\n",
      "Epoch 20/100\n",
      "3122/3135 [============================>.] - ETA: 0s - loss: 0.4787 - accuracy: 0.7541\n",
      "Epoch 20: val_accuracy did not improve from 0.75504\n",
      "3135/3135 [==============================] - 7s 2ms/step - loss: 0.4786 - accuracy: 0.7542 - val_loss: 0.4789 - val_accuracy: 0.7499\n",
      "Epoch 21/100\n",
      "3131/3135 [============================>.] - ETA: 0s - loss: 0.4786 - accuracy: 0.7539\n",
      "Epoch 21: val_accuracy did not improve from 0.75504\n",
      "3135/3135 [==============================] - 8s 3ms/step - loss: 0.4783 - accuracy: 0.7541 - val_loss: 0.4786 - val_accuracy: 0.7510\n",
      "Epoch 22/100\n",
      "3125/3135 [============================>.] - ETA: 0s - loss: 0.4784 - accuracy: 0.7540\n",
      "Epoch 22: val_accuracy did not improve from 0.75504\n",
      "3135/3135 [==============================] - 10s 3ms/step - loss: 0.4781 - accuracy: 0.7541 - val_loss: 0.4784 - val_accuracy: 0.7510\n",
      "Epoch 23/100\n",
      "3127/3135 [============================>.] - ETA: 0s - loss: 0.4780 - accuracy: 0.7540\n",
      "Epoch 23: val_accuracy did not improve from 0.75504\n",
      "3135/3135 [==============================] - 12s 4ms/step - loss: 0.4778 - accuracy: 0.7541 - val_loss: 0.4782 - val_accuracy: 0.7517\n",
      "Epoch 24/100\n",
      "3126/3135 [============================>.] - ETA: 0s - loss: 0.4778 - accuracy: 0.7540\n",
      "Epoch 24: val_accuracy did not improve from 0.75504\n",
      "3135/3135 [==============================] - 11s 4ms/step - loss: 0.4776 - accuracy: 0.7541 - val_loss: 0.4780 - val_accuracy: 0.7517\n",
      "Epoch 25/100\n",
      "3124/3135 [============================>.] - ETA: 0s - loss: 0.4778 - accuracy: 0.7544\n",
      "Epoch 25: val_accuracy did not improve from 0.75504\n",
      "3135/3135 [==============================] - 11s 3ms/step - loss: 0.4775 - accuracy: 0.7545 - val_loss: 0.4779 - val_accuracy: 0.7517\n",
      "Epoch 26/100\n",
      "3121/3135 [============================>.] - ETA: 0s - loss: 0.4773 - accuracy: 0.7554\n",
      "Epoch 26: val_accuracy did not improve from 0.75504\n",
      "3135/3135 [==============================] - 8s 3ms/step - loss: 0.4773 - accuracy: 0.7553 - val_loss: 0.4777 - val_accuracy: 0.7517\n"
     ]
    },
    {
     "name": "stdout",
     "output_type": "stream",
     "text": [
      "Epoch 27/100\n",
      "3130/3135 [============================>.] - ETA: 0s - loss: 0.4772 - accuracy: 0.7547\n",
      "Epoch 27: val_accuracy did not improve from 0.75504\n",
      "3135/3135 [==============================] - 8s 3ms/step - loss: 0.4771 - accuracy: 0.7547 - val_loss: 0.4775 - val_accuracy: 0.7522\n",
      "Epoch 28/100\n",
      "3135/3135 [==============================] - ETA: 0s - loss: 0.4770 - accuracy: 0.7544\n",
      "Epoch 28: val_accuracy did not improve from 0.75504\n",
      "3135/3135 [==============================] - 7s 2ms/step - loss: 0.4770 - accuracy: 0.7544 - val_loss: 0.4774 - val_accuracy: 0.7522\n",
      "Epoch 29/100\n",
      "3126/3135 [============================>.] - ETA: 0s - loss: 0.4770 - accuracy: 0.7548\n",
      "Epoch 29: val_accuracy did not improve from 0.75504\n",
      "3135/3135 [==============================] - 7s 2ms/step - loss: 0.4768 - accuracy: 0.7548 - val_loss: 0.4773 - val_accuracy: 0.7517\n",
      "Epoch 30/100\n",
      "3119/3135 [============================>.] - ETA: 0s - loss: 0.4767 - accuracy: 0.7549\n",
      "Epoch 30: val_accuracy did not improve from 0.75504\n",
      "3135/3135 [==============================] - 9s 3ms/step - loss: 0.4767 - accuracy: 0.7548 - val_loss: 0.4772 - val_accuracy: 0.7517\n",
      "Epoch 31/100\n",
      "3121/3135 [============================>.] - ETA: 0s - loss: 0.4766 - accuracy: 0.7549\n",
      "Epoch 31: val_accuracy did not improve from 0.75504\n",
      "3135/3135 [==============================] - 8s 3ms/step - loss: 0.4766 - accuracy: 0.7548 - val_loss: 0.4771 - val_accuracy: 0.7517\n",
      "Epoch 32/100\n",
      "3119/3135 [============================>.] - ETA: 0s - loss: 0.4765 - accuracy: 0.7548\n",
      "Epoch 32: val_accuracy did not improve from 0.75504\n",
      "3135/3135 [==============================] - 7s 2ms/step - loss: 0.4765 - accuracy: 0.7547 - val_loss: 0.4770 - val_accuracy: 0.7525\n",
      "Epoch 33/100\n",
      "3116/3135 [============================>.] - ETA: 0s - loss: 0.4764 - accuracy: 0.7548\n",
      "Epoch 33: val_accuracy did not improve from 0.75504\n",
      "3135/3135 [==============================] - 7s 2ms/step - loss: 0.4764 - accuracy: 0.7546 - val_loss: 0.4769 - val_accuracy: 0.7525\n",
      "Epoch 34/100\n",
      "3113/3135 [============================>.] - ETA: 0s - loss: 0.4760 - accuracy: 0.7546\n",
      "Epoch 34: val_accuracy did not improve from 0.75504\n",
      "3135/3135 [==============================] - 6s 2ms/step - loss: 0.4763 - accuracy: 0.7542 - val_loss: 0.4768 - val_accuracy: 0.7527\n",
      "Epoch 35/100\n",
      "3110/3135 [============================>.] - ETA: 0s - loss: 0.4759 - accuracy: 0.7547\n",
      "Epoch 35: val_accuracy did not improve from 0.75504\n",
      "3135/3135 [==============================] - 7s 2ms/step - loss: 0.4762 - accuracy: 0.7542 - val_loss: 0.4767 - val_accuracy: 0.7527\n",
      "Epoch 36/100\n",
      "3125/3135 [============================>.] - ETA: 0s - loss: 0.4764 - accuracy: 0.7542\n",
      "Epoch 36: val_accuracy did not improve from 0.75504\n",
      "3135/3135 [==============================] - 6s 2ms/step - loss: 0.4762 - accuracy: 0.7544 - val_loss: 0.4767 - val_accuracy: 0.7527\n",
      "Epoch 37/100\n",
      "3130/3135 [============================>.] - ETA: 0s - loss: 0.4762 - accuracy: 0.7542\n",
      "Epoch 37: val_accuracy did not improve from 0.75504\n",
      "3135/3135 [==============================] - 7s 2ms/step - loss: 0.4761 - accuracy: 0.7542 - val_loss: 0.4766 - val_accuracy: 0.7527\n",
      "Epoch 38/100\n",
      "3129/3135 [============================>.] - ETA: 0s - loss: 0.4761 - accuracy: 0.7542\n",
      "Epoch 38: val_accuracy did not improve from 0.75504\n",
      "3135/3135 [==============================] - 7s 2ms/step - loss: 0.4760 - accuracy: 0.7542 - val_loss: 0.4766 - val_accuracy: 0.7525\n",
      "Epoch 39/100\n",
      "3122/3135 [============================>.] - ETA: 0s - loss: 0.4760 - accuracy: 0.7542\n",
      "Epoch 39: val_accuracy did not improve from 0.75504\n",
      "3135/3135 [==============================] - 6s 2ms/step - loss: 0.4759 - accuracy: 0.7542 - val_loss: 0.4765 - val_accuracy: 0.7525\n",
      "Epoch 40/100\n",
      "3117/3135 [============================>.] - ETA: 0s - loss: 0.4759 - accuracy: 0.7543\n",
      "Epoch 40: val_accuracy did not improve from 0.75504\n",
      "3135/3135 [==============================] - 7s 2ms/step - loss: 0.4759 - accuracy: 0.7541 - val_loss: 0.4764 - val_accuracy: 0.7512\n",
      "Epoch 41/100\n",
      "3119/3135 [============================>.] - ETA: 0s - loss: 0.4758 - accuracy: 0.7542\n",
      "Epoch 41: val_accuracy did not improve from 0.75504\n",
      "3135/3135 [==============================] - 6s 2ms/step - loss: 0.4758 - accuracy: 0.7541 - val_loss: 0.4763 - val_accuracy: 0.7512\n",
      "Epoch 42/100\n",
      "3118/3135 [============================>.] - ETA: 0s - loss: 0.4757 - accuracy: 0.7539\n",
      "Epoch 42: val_accuracy did not improve from 0.75504\n",
      "3135/3135 [==============================] - 8s 2ms/step - loss: 0.4758 - accuracy: 0.7538 - val_loss: 0.4763 - val_accuracy: 0.7512\n",
      "Epoch 43/100\n",
      "3118/3135 [============================>.] - ETA: 0s - loss: 0.4757 - accuracy: 0.7541\n",
      "Epoch 43: val_accuracy did not improve from 0.75504\n",
      "3135/3135 [==============================] - 10s 3ms/step - loss: 0.4757 - accuracy: 0.7540 - val_loss: 0.4762 - val_accuracy: 0.7525\n",
      "Epoch 44/100\n",
      "3121/3135 [============================>.] - ETA: 0s - loss: 0.4756 - accuracy: 0.7538\n",
      "Epoch 44: val_accuracy did not improve from 0.75504\n",
      "3135/3135 [==============================] - 8s 3ms/step - loss: 0.4756 - accuracy: 0.7537 - val_loss: 0.4761 - val_accuracy: 0.7538\n",
      "Epoch 45/100\n",
      "3133/3135 [============================>.] - ETA: 0s - loss: 0.4758 - accuracy: 0.7538\n",
      "Epoch 45: val_accuracy did not improve from 0.75504\n",
      "3135/3135 [==============================] - 8s 2ms/step - loss: 0.4756 - accuracy: 0.7539 - val_loss: 0.4761 - val_accuracy: 0.7525\n",
      "Epoch 46/100\n",
      "3129/3135 [============================>.] - ETA: 0s - loss: 0.4756 - accuracy: 0.7537\n",
      "Epoch 46: val_accuracy did not improve from 0.75504\n",
      "3135/3135 [==============================] - 8s 2ms/step - loss: 0.4756 - accuracy: 0.7537 - val_loss: 0.4760 - val_accuracy: 0.7525\n",
      "Epoch 47/100\n",
      "3124/3135 [============================>.] - ETA: 0s - loss: 0.4758 - accuracy: 0.7538\n",
      "Epoch 47: val_accuracy did not improve from 0.75504\n",
      "3135/3135 [==============================] - 7s 2ms/step - loss: 0.4755 - accuracy: 0.7539 - val_loss: 0.4762 - val_accuracy: 0.7522\n",
      "Epoch 48/100\n",
      "3117/3135 [============================>.] - ETA: 0s - loss: 0.4755 - accuracy: 0.7540\n",
      "Epoch 48: val_accuracy did not improve from 0.75504\n",
      "3135/3135 [==============================] - 7s 2ms/step - loss: 0.4755 - accuracy: 0.7538 - val_loss: 0.4761 - val_accuracy: 0.7522\n",
      "Epoch 49/100\n",
      "3120/3135 [============================>.] - ETA: 0s - loss: 0.4755 - accuracy: 0.7540\n",
      "Epoch 49: val_accuracy did not improve from 0.75504\n",
      "3135/3135 [==============================] - 9s 3ms/step - loss: 0.4754 - accuracy: 0.7539 - val_loss: 0.4760 - val_accuracy: 0.7522\n",
      "Epoch 50/100\n",
      "3123/3135 [============================>.] - ETA: 0s - loss: 0.4756 - accuracy: 0.7539\n",
      "Epoch 50: val_accuracy did not improve from 0.75504\n",
      "3135/3135 [==============================] - 7s 2ms/step - loss: 0.4754 - accuracy: 0.7539 - val_loss: 0.4760 - val_accuracy: 0.7522\n",
      "Epoch 51/100\n",
      "3129/3135 [============================>.] - ETA: 0s - loss: 0.4754 - accuracy: 0.7540\n",
      "Epoch 51: val_accuracy did not improve from 0.75504\n",
      "3135/3135 [==============================] - 9s 3ms/step - loss: 0.4753 - accuracy: 0.7539 - val_loss: 0.4759 - val_accuracy: 0.7522\n",
      "Epoch 52/100\n",
      "3122/3135 [============================>.] - ETA: 0s - loss: 0.4754 - accuracy: 0.7537\n",
      "Epoch 52: val_accuracy did not improve from 0.75504\n",
      "3135/3135 [==============================] - 14s 5ms/step - loss: 0.4753 - accuracy: 0.7537 - val_loss: 0.4759 - val_accuracy: 0.7522\n",
      "Epoch 53/100\n",
      "3120/3135 [============================>.] - ETA: 0s - loss: 0.4753 - accuracy: 0.7538\n",
      "Epoch 53: val_accuracy did not improve from 0.75504\n",
      "3135/3135 [==============================] - 16s 5ms/step - loss: 0.4753 - accuracy: 0.7537 - val_loss: 0.4759 - val_accuracy: 0.7522\n",
      "Epoch 54/100\n",
      "3133/3135 [============================>.] - ETA: 0s - loss: 0.4754 - accuracy: 0.7535\n",
      "Epoch 54: val_accuracy did not improve from 0.75504\n",
      "3135/3135 [==============================] - 15s 5ms/step - loss: 0.4752 - accuracy: 0.7536 - val_loss: 0.4758 - val_accuracy: 0.7525\n",
      "Epoch 55/100\n",
      "3133/3135 [============================>.] - ETA: 0s - loss: 0.4754 - accuracy: 0.7534\n",
      "Epoch 55: val_accuracy did not improve from 0.75504\n",
      "3135/3135 [==============================] - 12s 4ms/step - loss: 0.4752 - accuracy: 0.7535 - val_loss: 0.4758 - val_accuracy: 0.7525\n"
     ]
    },
    {
     "name": "stdout",
     "output_type": "stream",
     "text": [
      "Epoch 56/100\n",
      "3129/3135 [============================>.] - ETA: 0s - loss: 0.4753 - accuracy: 0.7536\n",
      "Epoch 56: val_accuracy did not improve from 0.75504\n",
      "3135/3135 [==============================] - 14s 4ms/step - loss: 0.4752 - accuracy: 0.7535 - val_loss: 0.4758 - val_accuracy: 0.7525\n",
      "Epoch 57/100\n",
      "3131/3135 [============================>.] - ETA: 0s - loss: 0.4754 - accuracy: 0.7533\n",
      "Epoch 57: val_accuracy did not improve from 0.75504\n",
      "3135/3135 [==============================] - 14s 4ms/step - loss: 0.4751 - accuracy: 0.7534 - val_loss: 0.4757 - val_accuracy: 0.7525\n",
      "Epoch 58/100\n",
      "3130/3135 [============================>.] - ETA: 0s - loss: 0.4752 - accuracy: 0.7535\n",
      "Epoch 58: val_accuracy did not improve from 0.75504\n",
      "3135/3135 [==============================] - 11s 4ms/step - loss: 0.4751 - accuracy: 0.7535 - val_loss: 0.4757 - val_accuracy: 0.7522\n",
      "Epoch 59/100\n",
      "3135/3135 [==============================] - ETA: 0s - loss: 0.4751 - accuracy: 0.7535\n",
      "Epoch 59: val_accuracy did not improve from 0.75504\n",
      "3135/3135 [==============================] - 12s 4ms/step - loss: 0.4751 - accuracy: 0.7535 - val_loss: 0.4757 - val_accuracy: 0.7522\n",
      "Epoch 60/100\n",
      "3128/3135 [============================>.] - ETA: 0s - loss: 0.4751 - accuracy: 0.7534\n",
      "Epoch 60: val_accuracy did not improve from 0.75504\n",
      "3135/3135 [==============================] - 11s 4ms/step - loss: 0.4751 - accuracy: 0.7534 - val_loss: 0.4757 - val_accuracy: 0.7522\n",
      "Epoch 61/100\n",
      "3135/3135 [==============================] - ETA: 0s - loss: 0.4750 - accuracy: 0.7535\n",
      "Epoch 61: val_accuracy did not improve from 0.75504\n",
      "3135/3135 [==============================] - 10s 3ms/step - loss: 0.4750 - accuracy: 0.7535 - val_loss: 0.4757 - val_accuracy: 0.7520\n",
      "Epoch 62/100\n",
      "3120/3135 [============================>.] - ETA: 0s - loss: 0.4751 - accuracy: 0.7535\n",
      "Epoch 62: val_accuracy did not improve from 0.75504\n",
      "3135/3135 [==============================] - 11s 3ms/step - loss: 0.4750 - accuracy: 0.7533 - val_loss: 0.4756 - val_accuracy: 0.7520\n",
      "Epoch 63/100\n",
      "3125/3135 [============================>.] - ETA: 0s - loss: 0.4753 - accuracy: 0.7532\n",
      "Epoch 63: val_accuracy did not improve from 0.75504\n",
      "3135/3135 [==============================] - 9s 3ms/step - loss: 0.4750 - accuracy: 0.7533 - val_loss: 0.4756 - val_accuracy: 0.7520\n",
      "Epoch 64/100\n",
      "3116/3135 [============================>.] - ETA: 0s - loss: 0.4749 - accuracy: 0.7535\n",
      "Epoch 64: val_accuracy did not improve from 0.75504\n",
      "3135/3135 [==============================] - 9s 3ms/step - loss: 0.4750 - accuracy: 0.7532 - val_loss: 0.4756 - val_accuracy: 0.7520\n",
      "Epoch 65/100\n",
      "3135/3135 [==============================] - ETA: 0s - loss: 0.4749 - accuracy: 0.7532\n",
      "Epoch 65: val_accuracy did not improve from 0.75504\n",
      "3135/3135 [==============================] - 9s 3ms/step - loss: 0.4749 - accuracy: 0.7532 - val_loss: 0.4756 - val_accuracy: 0.7520\n",
      "Epoch 66/100\n",
      "3123/3135 [============================>.] - ETA: 0s - loss: 0.4751 - accuracy: 0.7533\n",
      "Epoch 66: val_accuracy did not improve from 0.75504\n",
      "3135/3135 [==============================] - 10s 3ms/step - loss: 0.4749 - accuracy: 0.7533 - val_loss: 0.4756 - val_accuracy: 0.7520\n",
      "Epoch 67/100\n",
      "3126/3135 [============================>.] - ETA: 0s - loss: 0.4750 - accuracy: 0.7536\n",
      "Epoch 67: val_accuracy did not improve from 0.75504\n",
      "3135/3135 [==============================] - 12s 4ms/step - loss: 0.4749 - accuracy: 0.7536 - val_loss: 0.4756 - val_accuracy: 0.7520\n",
      "Epoch 68/100\n",
      "3123/3135 [============================>.] - ETA: 0s - loss: 0.4750 - accuracy: 0.7533\n",
      "Epoch 68: val_accuracy did not improve from 0.75504\n",
      "3135/3135 [==============================] - 12s 4ms/step - loss: 0.4749 - accuracy: 0.7533 - val_loss: 0.4755 - val_accuracy: 0.7520\n",
      "Epoch 69/100\n",
      "3133/3135 [============================>.] - ETA: 0s - loss: 0.4750 - accuracy: 0.7534\n",
      "Epoch 69: val_accuracy did not improve from 0.75504\n",
      "3135/3135 [==============================] - 13s 4ms/step - loss: 0.4748 - accuracy: 0.7535 - val_loss: 0.4755 - val_accuracy: 0.7520\n",
      "Epoch 70/100\n",
      "3120/3135 [============================>.] - ETA: 0s - loss: 0.4749 - accuracy: 0.7534\n",
      "Epoch 70: val_accuracy did not improve from 0.75504\n",
      "3135/3135 [==============================] - 11s 4ms/step - loss: 0.4748 - accuracy: 0.7533 - val_loss: 0.4754 - val_accuracy: 0.7522\n",
      "Epoch 71/100\n",
      "3130/3135 [============================>.] - ETA: 0s - loss: 0.4749 - accuracy: 0.7532\n",
      "Epoch 71: val_accuracy did not improve from 0.75504\n",
      "3135/3135 [==============================] - 12s 4ms/step - loss: 0.4748 - accuracy: 0.7532 - val_loss: 0.4755 - val_accuracy: 0.7520\n",
      "Epoch 72/100\n",
      "3135/3135 [==============================] - ETA: 0s - loss: 0.4748 - accuracy: 0.7533\n",
      "Epoch 72: val_accuracy did not improve from 0.75504\n",
      "3135/3135 [==============================] - 11s 3ms/step - loss: 0.4748 - accuracy: 0.7533 - val_loss: 0.4755 - val_accuracy: 0.7520\n",
      "Epoch 73/100\n",
      "3135/3135 [==============================] - ETA: 0s - loss: 0.4748 - accuracy: 0.7532\n",
      "Epoch 73: val_accuracy did not improve from 0.75504\n",
      "3135/3135 [==============================] - 8s 3ms/step - loss: 0.4748 - accuracy: 0.7532 - val_loss: 0.4753 - val_accuracy: 0.7520\n",
      "Epoch 74/100\n",
      "3123/3135 [============================>.] - ETA: 0s - loss: 0.4749 - accuracy: 0.7532\n",
      "Epoch 74: val_accuracy did not improve from 0.75504\n",
      "3135/3135 [==============================] - 7s 2ms/step - loss: 0.4747 - accuracy: 0.7532 - val_loss: 0.4753 - val_accuracy: 0.7520\n",
      "Epoch 75/100\n",
      "3111/3135 [============================>.] - ETA: 0s - loss: 0.4744 - accuracy: 0.7538\n",
      "Epoch 75: val_accuracy did not improve from 0.75504\n",
      "3135/3135 [==============================] - 7s 2ms/step - loss: 0.4747 - accuracy: 0.7533 - val_loss: 0.4753 - val_accuracy: 0.7522\n",
      "Epoch 76/100\n",
      "3116/3135 [============================>.] - ETA: 0s - loss: 0.4746 - accuracy: 0.7533\n",
      "Epoch 76: val_accuracy did not improve from 0.75504\n",
      "3135/3135 [==============================] - 6s 2ms/step - loss: 0.4747 - accuracy: 0.7531 - val_loss: 0.4753 - val_accuracy: 0.7522\n",
      "Epoch 77/100\n",
      "3110/3135 [============================>.] - ETA: 0s - loss: 0.4744 - accuracy: 0.7533\n",
      "Epoch 77: val_accuracy did not improve from 0.75504\n",
      "3135/3135 [==============================] - 7s 2ms/step - loss: 0.4747 - accuracy: 0.7529 - val_loss: 0.4752 - val_accuracy: 0.7522\n",
      "Epoch 78/100\n",
      "3133/3135 [============================>.] - ETA: 0s - loss: 0.4748 - accuracy: 0.7530\n",
      "Epoch 78: val_accuracy did not improve from 0.75504\n",
      "3135/3135 [==============================] - 6s 2ms/step - loss: 0.4747 - accuracy: 0.7530 - val_loss: 0.4752 - val_accuracy: 0.7522\n",
      "Epoch 79/100\n",
      "3132/3135 [============================>.] - ETA: 0s - loss: 0.4749 - accuracy: 0.7531\n",
      "Epoch 79: val_accuracy did not improve from 0.75504\n",
      "3135/3135 [==============================] - 7s 2ms/step - loss: 0.4747 - accuracy: 0.7532 - val_loss: 0.4752 - val_accuracy: 0.7522\n",
      "Epoch 80/100\n",
      "3128/3135 [============================>.] - ETA: 0s - loss: 0.4747 - accuracy: 0.7531\n",
      "Epoch 80: val_accuracy did not improve from 0.75504\n",
      "3135/3135 [==============================] - 7s 2ms/step - loss: 0.4746 - accuracy: 0.7532 - val_loss: 0.4752 - val_accuracy: 0.7535\n",
      "Epoch 81/100\n",
      "3135/3135 [==============================] - ETA: 0s - loss: 0.4746 - accuracy: 0.7530\n",
      "Epoch 81: val_accuracy did not improve from 0.75504\n",
      "3135/3135 [==============================] - 7s 2ms/step - loss: 0.4746 - accuracy: 0.7530 - val_loss: 0.4751 - val_accuracy: 0.7535\n",
      "Epoch 82/100\n",
      "3129/3135 [============================>.] - ETA: 0s - loss: 0.4747 - accuracy: 0.7529\n",
      "Epoch 82: val_accuracy did not improve from 0.75504\n",
      "3135/3135 [==============================] - 6s 2ms/step - loss: 0.4746 - accuracy: 0.7528 - val_loss: 0.4751 - val_accuracy: 0.7535\n",
      "Epoch 83/100\n",
      "3115/3135 [============================>.] - ETA: 0s - loss: 0.4745 - accuracy: 0.7530\n",
      "Epoch 83: val_accuracy did not improve from 0.75504\n",
      "3135/3135 [==============================] - 7s 2ms/step - loss: 0.4746 - accuracy: 0.7527 - val_loss: 0.4751 - val_accuracy: 0.7535\n",
      "Epoch 84/100\n",
      "3131/3135 [============================>.] - ETA: 0s - loss: 0.4749 - accuracy: 0.7527\n",
      "Epoch 84: val_accuracy did not improve from 0.75504\n",
      "3135/3135 [==============================] - 7s 2ms/step - loss: 0.4746 - accuracy: 0.7528 - val_loss: 0.4751 - val_accuracy: 0.7535\n"
     ]
    },
    {
     "name": "stdout",
     "output_type": "stream",
     "text": [
      "Epoch 85/100\n",
      "3128/3135 [============================>.] - ETA: 0s - loss: 0.4747 - accuracy: 0.7526\n",
      "Epoch 85: val_accuracy did not improve from 0.75504\n",
      "3135/3135 [==============================] - 7s 2ms/step - loss: 0.4746 - accuracy: 0.7526 - val_loss: 0.4751 - val_accuracy: 0.7535\n",
      "Epoch 86/100\n",
      "3114/3135 [============================>.] - ETA: 0s - loss: 0.4743 - accuracy: 0.7531\n",
      "Epoch 86: val_accuracy did not improve from 0.75504\n",
      "3135/3135 [==============================] - 6s 2ms/step - loss: 0.4745 - accuracy: 0.7526 - val_loss: 0.4751 - val_accuracy: 0.7535\n",
      "Epoch 87/100\n",
      "3127/3135 [============================>.] - ETA: 0s - loss: 0.4746 - accuracy: 0.7525\n",
      "Epoch 87: val_accuracy did not improve from 0.75504\n",
      "3135/3135 [==============================] - 7s 2ms/step - loss: 0.4745 - accuracy: 0.7525 - val_loss: 0.4751 - val_accuracy: 0.7535\n",
      "Epoch 88/100\n",
      "3132/3135 [============================>.] - ETA: 0s - loss: 0.4748 - accuracy: 0.7524\n",
      "Epoch 88: val_accuracy did not improve from 0.75504\n",
      "3135/3135 [==============================] - 7s 2ms/step - loss: 0.4745 - accuracy: 0.7526 - val_loss: 0.4750 - val_accuracy: 0.7535\n",
      "Epoch 89/100\n",
      "3135/3135 [==============================] - ETA: 0s - loss: 0.4745 - accuracy: 0.7527\n",
      "Epoch 89: val_accuracy did not improve from 0.75504\n",
      "3135/3135 [==============================] - 7s 2ms/step - loss: 0.4745 - accuracy: 0.7527 - val_loss: 0.4750 - val_accuracy: 0.7535\n",
      "Epoch 90/100\n",
      "3121/3135 [============================>.] - ETA: 0s - loss: 0.4744 - accuracy: 0.7530\n",
      "Epoch 90: val_accuracy did not improve from 0.75504\n",
      "3135/3135 [==============================] - 6s 2ms/step - loss: 0.4745 - accuracy: 0.7529 - val_loss: 0.4750 - val_accuracy: 0.7535\n",
      "Epoch 91/100\n",
      "3121/3135 [============================>.] - ETA: 0s - loss: 0.4744 - accuracy: 0.7528\n",
      "Epoch 91: val_accuracy did not improve from 0.75504\n",
      "3135/3135 [==============================] - 7s 2ms/step - loss: 0.4745 - accuracy: 0.7526 - val_loss: 0.4750 - val_accuracy: 0.7535\n",
      "Epoch 92/100\n",
      "3132/3135 [============================>.] - ETA: 0s - loss: 0.4748 - accuracy: 0.7527\n",
      "Epoch 92: val_accuracy did not improve from 0.75504\n",
      "3135/3135 [==============================] - 6s 2ms/step - loss: 0.4745 - accuracy: 0.7528 - val_loss: 0.4750 - val_accuracy: 0.7535\n"
     ]
    }
   ],
   "source": [
    "model = Sequential()\n",
    "\n",
    "# 네트워크 구성\n",
    "# model.add(Dense(20, input_shape=(25, ), activation='relu'))\n",
    "model.add(Dense(5, input_dim=25, activation='relu'))\n",
    "# 0.98 0.01 0.01 0.98 0.01 0.01 0.98 0.01 0.01 -> 1 0 0 → 0 ~ 1 사이의 확률 5가지 출력, 총합은 1\n",
    "model.add(Dense(5, activation='softmax'))\n",
    "model.compile(optimizer=Adam(lr=0.001), loss='categorical_crossentropy', \n",
    "                                metrics=['accuracy'])\n",
    "model.summary()\n",
    "\n",
    "mcp = ModelCheckpoint(filepath='./3kki6.h5', monitor='val_accuracy',\n",
    "                      verbose=1, save_best_only=True)\n",
    "\n",
    "es = EarlyStopping(monitor='loss', patience=1, restore_best_weights=True)\n",
    "\n",
    "hist = model.fit(x_train, y_train, validation_data=(x_val, y_val), shuffle=False,\n",
    "                 epochs=100, batch_size=5, callbacks=[mcp, es])"
   ]
  },
  {
   "cell_type": "code",
   "execution_count": 23,
   "metadata": {},
   "outputs": [
    {
     "data": {
      "image/png": "[encoded data removed]",
      "text/plain": [
       "<Figure size 720x360 with 2 Axes>"
      ]
     },
     "metadata": {
      "needs_background": "light"
     },
     "output_type": "display_data"
    },
    {
     "name": "stdout",
     "output_type": "stream",
     "text": [
      "손실값: 0.4750111401081085 /정확도: 75.35085678100586 %\n"
     ]
    }
   ],
   "source": [
    "import matplotlib.pyplot as plt\n",
    "%matplotlib inline  \n",
    "\n",
    "fig, loss_ax = plt.subplots()\n",
    "# plt.figure(figsize=(6,4)) # ERROR\n",
    "fig.set_size_inches(10, 5)  # 챠트 크기 설정\n",
    "\n",
    "acc_ax = loss_ax.twinx()  # 오른쪽 y 출 설정\n",
    "\n",
    "# 왼쪽 y 축 설정\n",
    "loss_ax.plot(hist.history['loss'], 'y', label='train loss')\n",
    "loss_ax.plot(hist.history['val_loss'], 'r', label='val loss')\n",
    "loss_ax.set_ylim([0.0, 1.5]) # 값을 반영하여 변경\n",
    "\n",
    "# 오른쪽 y 축 설정\n",
    "acc_ax.plot(hist.history['accuracy'], 'b', label='train accuracy')\n",
    "acc_ax.plot(hist.history['val_accuracy'], 'g', label='val accuracy')\n",
    "acc_ax.set_ylim([0.0, 1.1])\n",
    "\n",
    "# 축 레이블 설정\n",
    "loss_ax.set_xlabel('epoch' )  # 학습 횟수\n",
    "loss_ax.set_ylabel('loss')    # 왼쪽 y 축 레이블, 오차\n",
    "acc_ax.set_ylabel('accuracy') # 오른쪽 y 축 레이블,정확도\n",
    "\n",
    "loss_ax.legend(loc='upper left') # 왼쪽 y 축 오차 레이블 위치\n",
    "acc_ax.legend(loc='lower left')  # 오른쪽 y 축 정확도 레이블 위치\n",
    "\n",
    "plt.show()\n",
    "\n",
    "test_loss, test_acc = model.evaluate(x_val, y_val, batch_size=1, verbose=0)\n",
    "print('손실값:', test_loss, '/정확도:', (test_acc*100), '%')"
   ]
  },
  {
   "cell_type": "code",
   "execution_count": 24,
   "metadata": {},
   "outputs": [],
   "source": [
    "# model.save(path + '/Book.h5')"
   ]
  },
  {
   "cell_type": "code",
   "execution_count": 25,
   "metadata": {},
   "outputs": [
    {
     "name": "stdout",
     "output_type": "stream",
     "text": [
      "데이터: (2178, 25)\n",
      "데이터: [0.01 0.01 0.01 0.96 0.01 0.96 0.01 0.01 0.01 0.01 0.01 0.01 0.96 0.01\n",
      " 0.01 0.96 0.01 0.01 0.01 0.01 0.01 0.01 0.01 0.96 0.01]\n",
      "69/69 [==============================] - 0s 2ms/step\n",
      "예측 결과 p.shape: (2178, 5)\n"
     ]
    }
   ],
   "source": [
    "print('데이터:', x_test.shape) # 변수가 9개로 구성된 4건의 관측치(행)\n",
    "print('데이터:', x_test[0])    # 첫번째 데이터행\n",
    "\n",
    "p = model.predict(x_test)      # 테스트 데이터 4건 ★\n",
    "print('예측 결과 p.shape:', p.shape)     # (4, 3): 3: 폼종의 갯수"
   ]
  },
  {
   "cell_type": "code",
   "execution_count": 26,
   "metadata": {},
   "outputs": [
    {
     "name": "stdout",
     "output_type": "stream",
     "text": [
      "예측값: [6.3530654e-01 2.0167636e-06 1.7068901e-03 3.6298233e-01 2.2225649e-06]\n",
      "예측값의 합: 1.000\n",
      "예측값: 63.53065% 0.00020% 0.17069%\n",
      "One-hot-encoding:  [1. 0. 0. 0. 0.]\n",
      "0\n"
     ]
    }
   ],
   "source": [
    "print('예측값:', p[0])        # 첫번째 예측값 출력, 확률 0 ~ 1사이의 실수값\n",
    "print('예측값의 합: {0:0.3f}'.format(np.sum(p[0])))\n",
    "print('예측값: {0:.5f}% {1:.5f}% {2:.5f}%'.format(p[0,0]*100,p[0,1]*100,p[0,2]*100))\n",
    "print('One-hot-encoding: ', y_test[0])\n",
    "print(np.argmax(p[0]))      # 가장 큰값의 index"
   ]
  },
  {
   "cell_type": "code",
   "execution_count": 27,
   "metadata": {},
   "outputs": [
    {
     "name": "stdout",
     "output_type": "stream",
     "text": [
      "[[6.3530654e-01 2.0167636e-06 1.7068901e-03 3.6298233e-01 2.2225649e-06]\n",
      " [1.7017986e-04 1.2449580e-03 5.6994694e-01 4.2863405e-01 3.7900606e-06]\n",
      " [1.1538106e-03 2.9497873e-04 1.5026773e-03 9.9704748e-01 1.1226291e-06]\n",
      " ...\n",
      " [2.3019653e-07 1.2798951e-10 7.9607793e-07 1.7830736e-13 9.9999893e-01]\n",
      " [2.1715101e-03 8.5983239e-04 4.5294883e-06 9.9577504e-01 1.1891844e-03]\n",
      " [5.4160374e-01 4.5815694e-01 9.3220501e-07 2.3588669e-04 2.5417989e-06]]\n"
     ]
    }
   ],
   "source": [
    "print(p)"
   ]
  },
  {
   "cell_type": "code",
   "execution_count": null,
   "metadata": {},
   "outputs": [],
   "source": []
  },
  {
   "cell_type": "code",
   "execution_count": null,
   "metadata": {},
   "outputs": [],
   "source": []
  },
  {
   "cell_type": "code",
   "execution_count": null,
   "metadata": {},
   "outputs": [],
   "source": []
  }
 ],
 "metadata": {
  "kernelspec": {
   "display_name": "ai",
   "language": "python",
   "name": "ai"
  },
  "language_info": {
   "codemirror_mode": {
    "name": "ipython",
    "version": 3
   },
   "file_extension": ".py",
   "mimetype": "text/x-python",
   "name": "python",
   "nbconvert_exporter": "python",
   "pygments_lexer": "ipython3",
   "version": "3.7.13"
  }
 },
 "nbformat": 4,
 "nbformat_minor": 2
}
