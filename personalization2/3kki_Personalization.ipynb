{
 "cells": [
  {
   "cell_type": "code",
   "execution_count": 202,
   "id": "e6c9b037",
   "metadata": {},
   "outputs": [
    {
     "name": "stdout",
     "output_type": "stream",
     "text": [
      "cutoff: 37500\n"
     ]
    }
   ],
   "source": [
    "import os\n",
    "import time\n",
    "\n",
    "import pandas as pd\n",
    "import numpy as np\n",
    "import random\n",
    "import tensorflow as tf\n",
    "from tensorflow.keras.models import load_model\n",
    "from tensorflow.keras.optimizers import Adam    # 가중치, bias 최적화\n",
    "\n",
    "# csv 파일에서 불러오기\n",
    "r_cols = ['memberno', 'productno', 'rating'] # 사용자 아이디, 아이템 아이디, 평점 데이터\n",
    "ratings = pd.read_csv('u.data', names=r_cols,  sep=',', encoding='utf-8')\n",
    "ratings = ratings[['memberno', 'productno', 'rating']].astype(int)            # timestamp 제거\n",
    "\n",
    "# train test 분리\n",
    "from sklearn.utils import shuffle\n",
    "\n",
    "TRAIN_SIZE = 0.75\n",
    "ratings = shuffle(ratings) # DataFrame형태의 데이터를 무작위로 섞음\n",
    "cutoff = int(TRAIN_SIZE * len(ratings))\n",
    "print('cutoff:', cutoff)\n",
    "ratings_train = ratings.iloc[:cutoff] # 0:75000b\n",
    "ratings_test = ratings.iloc[cutoff:]  # 75000:100000"
   ]
  },
  {
   "cell_type": "code",
   "execution_count": 203,
   "id": "85791404",
   "metadata": {},
   "outputs": [
    {
     "data": {
      "text/plain": [
       "(50000, 3)"
      ]
     },
     "execution_count": 203,
     "metadata": {},
     "output_type": "execute_result"
    }
   ],
   "source": [
    "ratings.shape"
   ]
  },
  {
   "cell_type": "code",
   "execution_count": 204,
   "id": "2418e7f8",
   "metadata": {},
   "outputs": [
    {
     "data": {
      "text/html": [
       "<div>\n",
       "<style scoped>\n",
       "    .dataframe tbody tr th:only-of-type {\n",
       "        vertical-align: middle;\n",
       "    }\n",
       "\n",
       "    .dataframe tbody tr th {\n",
       "        vertical-align: top;\n",
       "    }\n",
       "\n",
       "    .dataframe thead th {\n",
       "        text-align: right;\n",
       "    }\n",
       "</style>\n",
       "<table border=\"1\" class=\"dataframe\">\n",
       "  <thead>\n",
       "    <tr style=\"text-align: right;\">\n",
       "      <th></th>\n",
       "      <th>name</th>\n",
       "      <th>cate1</th>\n",
       "      <th>cate2</th>\n",
       "      <th>cate3</th>\n",
       "      <th>cate4</th>\n",
       "      <th>cate5</th>\n",
       "    </tr>\n",
       "    <tr>\n",
       "      <th>productno</th>\n",
       "      <th></th>\n",
       "      <th></th>\n",
       "      <th></th>\n",
       "      <th></th>\n",
       "      <th></th>\n",
       "      <th></th>\n",
       "    </tr>\n",
       "  </thead>\n",
       "  <tbody>\n",
       "    <tr>\n",
       "      <th>1</th>\n",
       "      <td>맛있닭 닭가슴살 소시지 훈제맛</td>\n",
       "      <td>1</td>\n",
       "      <td>0</td>\n",
       "      <td>0</td>\n",
       "      <td>0</td>\n",
       "      <td>0</td>\n",
       "    </tr>\n",
       "    <tr>\n",
       "      <th>2</th>\n",
       "      <td>잇메이트 저염 훈제닭가슴살</td>\n",
       "      <td>1</td>\n",
       "      <td>0</td>\n",
       "      <td>0</td>\n",
       "      <td>0</td>\n",
       "      <td>0</td>\n",
       "    </tr>\n",
       "    <tr>\n",
       "      <th>3</th>\n",
       "      <td>아워홈 참나무향 닭가슴살</td>\n",
       "      <td>1</td>\n",
       "      <td>0</td>\n",
       "      <td>0</td>\n",
       "      <td>0</td>\n",
       "      <td>0</td>\n",
       "    </tr>\n",
       "    <tr>\n",
       "      <th>4</th>\n",
       "      <td>러브잇 닭가슴살 짜장 매운맛</td>\n",
       "      <td>1</td>\n",
       "      <td>0</td>\n",
       "      <td>0</td>\n",
       "      <td>0</td>\n",
       "      <td>0</td>\n",
       "    </tr>\n",
       "    <tr>\n",
       "      <th>5</th>\n",
       "      <td>굽네 훈제 닭가슴살 오리지널</td>\n",
       "      <td>1</td>\n",
       "      <td>0</td>\n",
       "      <td>0</td>\n",
       "      <td>0</td>\n",
       "      <td>0</td>\n",
       "    </tr>\n",
       "  </tbody>\n",
       "</table>\n",
       "</div>"
      ],
      "text/plain": [
       "                       name  cate1  cate2  cate3  cate4  cate5\n",
       "productno                                                     \n",
       "1          맛있닭 닭가슴살 소시지 훈제맛      1      0      0      0      0\n",
       "2            잇메이트 저염 훈제닭가슴살      1      0      0      0      0\n",
       "3             아워홈 참나무향 닭가슴살      1      0      0      0      0\n",
       "4           러브잇 닭가슴살 짜장 매운맛      1      0      0      0      0\n",
       "5           굽네 훈제 닭가슴살 오리지널      1      0      0      0      0"
      ]
     },
     "execution_count": 204,
     "metadata": {},
     "output_type": "execute_result"
    }
   ],
   "source": [
    "# u.item 파일을 DataFrame으로 읽기\n",
    "i_cols = ['productno', 'name', 'cate1','cate2','cate3','cate4','cate5']\n",
    "products = pd.read_csv('u.item', sep=',', names=i_cols, encoding='utf-8')\n",
    "products = products.set_index('productno')\n",
    "products.head()"
   ]
  },
  {
   "cell_type": "code",
   "execution_count": 205,
   "id": "1676af91",
   "metadata": {},
   "outputs": [
    {
     "data": {
      "text/plain": [
       "Int64Index([ 1,  2,  3,  4,  5,  6,  7,  8,  9, 10, 11, 12, 13, 14, 15, 16, 17,\n",
       "            18, 19, 20, 21, 22, 23, 24, 25],\n",
       "           dtype='int64', name='productno')"
      ]
     },
     "execution_count": 205,
     "metadata": {},
     "output_type": "execute_result"
    }
   ],
   "source": [
    "products.index"
   ]
  },
  {
   "cell_type": "code",
   "execution_count": 206,
   "id": "b7252c3e",
   "metadata": {},
   "outputs": [],
   "source": [
    "import tensorflow as tf\n",
    "from tensorflow.keras import layers\n",
    "from tensorflow.keras.models import Model\n",
    "from tensorflow.keras.layers import Input, Embedding, Dot, Add, Flatten\n",
    "from tensorflow.keras.regularizers import l2\n",
    "from tensorflow.keras.optimizers import SGD, Adamax\n",
    "from tensorflow.keras.callbacks import EarlyStopping   # 학습 자동 중지\n",
    "from tensorflow.keras.callbacks import ModelCheckpoint # 우수한 학습 모델 파일 저장"
   ]
  },
  {
   "cell_type": "code",
   "execution_count": 207,
   "id": "7991eeaf",
   "metadata": {},
   "outputs": [
    {
     "name": "stdout",
     "output_type": "stream",
     "text": [
      "1000\n",
      "1001\n",
      "25\n",
      "26\n"
     ]
    }
   ],
   "source": [
    "print(ratings.memberno.max())\n",
    "print(ratings.memberno.max()+1) # ratings.iloc[:944] 0 ~ 943\n",
    "print(ratings.productno.max())\n",
    "print(ratings.productno.max()+1) # ratings.iloc[:1683] 0 ~ 1682"
   ]
  },
  {
   "cell_type": "code",
   "execution_count": 208,
   "id": "5e12ae32",
   "metadata": {},
   "outputs": [],
   "source": [
    "# Variable 초기화 \n",
    "K = 100                             # Latent factor 수, 잠재 요인수 \n",
    "mu = ratings_train.rating.mean()    # 전체 평균, 연산의 규모를 줄이기 위하여  \n",
    "M = ratings.memberno.max() + 1       # Number of members\n",
    "N = ratings.productno.max() + 1      # Number of products"
   ]
  },
  {
   "cell_type": "code",
   "execution_count": 209,
   "id": "06535c1c",
   "metadata": {},
   "outputs": [
    {
     "name": "stdout",
     "output_type": "stream",
     "text": [
      "(None, 1, 100)\n",
      "(None, 1, 100)\n"
     ]
    }
   ],
   "source": [
    "# Keras model\n",
    "user = Input(shape=(1, ))                                               # User input\n",
    "item = Input(shape=(1, ))                                               # Item input\n",
    "# Embedding(입력차원, 출력차원, 정규화 알고리즘)\n",
    "P_embedding = Embedding(M, K, embeddings_regularizer=l2())(user)        # (M, 1, K)\n",
    "print(P_embedding.shape)\n",
    "Q_embedding = Embedding(N, K, embeddings_regularizer=l2())(item)        # (N, 1, K)\n",
    "print(Q_embedding.shape)\n",
    "user_bias = Embedding(M, 1, embeddings_regularizer=l2())(user)          # User bias term (M, 1, )\n",
    "item_bias = Embedding(N, 1, embeddings_regularizer=l2())(item)          # Item bias term (N, 1, )"
   ]
  },
  {
   "cell_type": "code",
   "execution_count": 210,
   "id": "6dd2f425",
   "metadata": {},
   "outputs": [
    {
     "name": "stdout",
     "output_type": "stream",
     "text": [
      "[[0 1]\n",
      " [2 3]]\n",
      "[[0 1]\n",
      " [2 3]]\n"
     ]
    }
   ],
   "source": [
    "# layers.dot\n",
    "x = np.arange(4).reshape(2, 2)\n",
    "print(x)\n",
    "y = np.arange(4).reshape(2, 2)\n",
    "print(y)"
   ]
  },
  {
   "cell_type": "code",
   "execution_count": 211,
   "id": "3a182b12",
   "metadata": {},
   "outputs": [
    {
     "data": {
      "text/plain": [
       "<tf.Tensor: shape=(2, 1), dtype=int32, numpy=\n",
       "array([[ 1],\n",
       "       [13]])>"
      ]
     },
     "execution_count": 211,
     "metadata": {},
     "output_type": "execute_result"
    }
   ],
   "source": [
    "# 0 * 0 + 1 * 1, 2 * 2 + 3 * 3\n",
    "layers.dot([x, y], axes=1) # 0 지원 안함, 1: 행우선(행단위) 연산"
   ]
  },
  {
   "cell_type": "code",
   "execution_count": 212,
   "id": "4fef26c7",
   "metadata": {},
   "outputs": [
    {
     "name": "stdout",
     "output_type": "stream",
     "text": [
      "[[[0 1 2]]]\n",
      "[[[0 1 2]]]\n"
     ]
    }
   ],
   "source": [
    "# layers.dot([x, y], axes=2) # ERROR, 2: 행우선(행단위) 연산\n",
    "x = np.arange(3).reshape(1, 1, 3)\n",
    "print(x)\n",
    "y = np.arange(3).reshape(1, 1, 3)\n",
    "print(y)"
   ]
  },
  {
   "cell_type": "code",
   "execution_count": 213,
   "id": "aa27aa53",
   "metadata": {},
   "outputs": [
    {
     "data": {
      "text/plain": [
       "<tf.Tensor: shape=(1, 3, 3), dtype=int32, numpy=\n",
       "array([[[0, 0, 0],\n",
       "        [0, 1, 2],\n",
       "        [0, 2, 4]]])>"
      ]
     },
     "execution_count": 213,
     "metadata": {},
     "output_type": "execute_result"
    }
   ],
   "source": [
    "layers.dot([x, y], axes=1) "
   ]
  },
  {
   "cell_type": "code",
   "execution_count": 214,
   "id": "23232886",
   "metadata": {},
   "outputs": [
    {
     "data": {
      "text/plain": [
       "<tf.Tensor: shape=(1, 1, 1), dtype=int32, numpy=array([[[5]]])>"
      ]
     },
     "execution_count": 214,
     "metadata": {},
     "output_type": "execute_result"
    }
   ],
   "source": [
    "layers.dot([x, y], axes=2) # 열우선 연산"
   ]
  },
  {
   "cell_type": "code",
   "execution_count": 215,
   "id": "89123522",
   "metadata": {},
   "outputs": [],
   "source": [
    "#R = Dot(axes=2)([P_embedding, Q_embedding)\n",
    "R = layers.dot([P_embedding, Q_embedding], axes=2) # 열우선 연산\n",
    "#R = Add()([R, user_bias, item_bias])\n",
    "R = layers.add([R, user_bias, item_bias])\n",
    "R = Flatten()(R)  # 1차원으로 변경"
   ]
  },
  {
   "cell_type": "code",
   "execution_count": 216,
   "id": "32153f2e",
   "metadata": {},
   "outputs": [
    {
     "name": "stdout",
     "output_type": "stream",
     "text": [
      "Model: \"model_5\"\n",
      "__________________________________________________________________________________________________\n",
      " Layer (type)                   Output Shape         Param #     Connected to                     \n",
      "==================================================================================================\n",
      " input_13 (InputLayer)          [(None, 1)]          0           []                               \n",
      "                                                                                                  \n",
      " input_14 (InputLayer)          [(None, 1)]          0           []                               \n",
      "                                                                                                  \n",
      " embedding_24 (Embedding)       (None, 1, 100)       100100      ['input_13[0][0]']               \n",
      "                                                                                                  \n",
      " embedding_25 (Embedding)       (None, 1, 100)       2600        ['input_14[0][0]']               \n",
      "                                                                                                  \n",
      " dot_23 (Dot)                   (None, 1, 1)         0           ['embedding_24[0][0]',           \n",
      "                                                                  'embedding_25[0][0]']           \n",
      "                                                                                                  \n",
      " embedding_26 (Embedding)       (None, 1, 1)         1001        ['input_13[0][0]']               \n",
      "                                                                                                  \n",
      " embedding_27 (Embedding)       (None, 1, 1)         26          ['input_14[0][0]']               \n",
      "                                                                                                  \n",
      " add_5 (Add)                    (None, 1, 1)         0           ['dot_23[0][0]',                 \n",
      "                                                                  'embedding_26[0][0]',           \n",
      "                                                                  'embedding_27[0][0]']           \n",
      "                                                                                                  \n",
      " flatten_5 (Flatten)            (None, 1)            0           ['add_5[0][0]']                  \n",
      "                                                                                                  \n",
      "==================================================================================================\n",
      "Total params: 103,727\n",
      "Trainable params: 103,727\n",
      "Non-trainable params: 0\n",
      "__________________________________________________________________________________________________\n"
     ]
    },
    {
     "name": "stderr",
     "output_type": "stream",
     "text": [
      "C:\\Users\\user\\anaconda3\\envs\\ai\\lib\\site-packages\\keras\\optimizers\\optimizer_v2\\adam.py:110: UserWarning: The `lr` argument is deprecated, use `learning_rate` instead.\n",
      "  super(Adam, self).__init__(name, **kwargs)\n"
     ]
    }
   ],
   "source": [
    "model = Model(inputs=[user, item], outputs=R)\n",
    "model.compile(loss='mse', optimizer=Adam(lr=0.001), metrics=['mse'])\n",
    "model.summary()"
   ]
  },
  {
   "cell_type": "code",
   "execution_count": 217,
   "id": "2110690f",
   "metadata": {},
   "outputs": [
    {
     "name": "stdout",
     "output_type": "stream",
     "text": [
      "Epoch 1/30\n",
      "625/625 [==============================] - 5s 6ms/step - loss: 11.0579 - mse: 9.3740 - val_loss: 8.6257 - val_mse: 4.2870\n",
      "Epoch 2/30\n",
      "625/625 [==============================] - 2s 4ms/step - loss: 8.1157 - mse: 3.8269 - val_loss: 7.5726 - val_mse: 3.6119\n",
      "Epoch 3/30\n",
      "625/625 [==============================] - 3s 4ms/step - loss: 7.1229 - mse: 3.5953 - val_loss: 6.6057 - val_mse: 3.5086\n",
      "Epoch 4/30\n",
      "625/625 [==============================] - 4s 7ms/step - loss: 6.1610 - mse: 3.4637 - val_loss: 5.6792 - val_mse: 3.3680\n",
      "Epoch 5/30\n",
      "625/625 [==============================] - 4s 6ms/step - loss: 5.2868 - mse: 3.2842 - val_loss: 4.8650 - val_mse: 3.1523\n",
      "Epoch 6/30\n",
      "625/625 [==============================] - 3s 5ms/step - loss: 4.5648 - mse: 3.0063 - val_loss: 4.2505 - val_mse: 2.7853\n",
      "Epoch 7/30\n",
      "625/625 [==============================] - 2s 4ms/step - loss: 4.0896 - mse: 2.5933 - val_loss: 3.9225 - val_mse: 2.3599\n",
      "Epoch 8/30\n",
      "625/625 [==============================] - 2s 3ms/step - loss: 3.8735 - mse: 2.2245 - val_loss: 3.7962 - val_mse: 2.0708\n",
      "Epoch 9/30\n",
      "625/625 [==============================] - 2s 4ms/step - loss: 3.7926 - mse: 2.0068 - val_loss: 3.7501 - val_mse: 1.9143\n",
      "Epoch 10/30\n",
      "625/625 [==============================] - 2s 3ms/step - loss: 3.7642 - mse: 1.8915 - val_loss: 3.7350 - val_mse: 1.8332\n",
      "Epoch 11/30\n",
      "625/625 [==============================] - 2s 3ms/step - loss: 3.7554 - mse: 1.8326 - val_loss: 3.7303 - val_mse: 1.7897\n",
      "Epoch 12/30\n",
      "625/625 [==============================] - 2s 3ms/step - loss: 3.7530 - mse: 1.8012 - val_loss: 3.7293 - val_mse: 1.7721\n",
      "Epoch 13/30\n",
      "625/625 [==============================] - 2s 3ms/step - loss: 3.7525 - mse: 1.7917 - val_loss: 3.7287 - val_mse: 1.7586\n",
      "Epoch 14/30\n",
      "625/625 [==============================] - 2s 3ms/step - loss: 3.7523 - mse: 1.7783 - val_loss: 3.7289 - val_mse: 1.7562\n",
      "Epoch 15/30\n",
      "625/625 [==============================] - 2s 3ms/step - loss: 3.7524 - mse: 1.7775 - val_loss: 3.7290 - val_mse: 1.7545\n",
      "Epoch 16/30\n",
      "625/625 [==============================] - 2s 3ms/step - loss: 3.7523 - mse: 1.7771 - val_loss: 3.7289 - val_mse: 1.7524\n",
      "Epoch 17/30\n",
      "625/625 [==============================] - 2s 4ms/step - loss: 3.7524 - mse: 1.7763 - val_loss: 3.7291 - val_mse: 1.7516\n",
      "Epoch 18/30\n",
      "625/625 [==============================] - 2s 4ms/step - loss: 3.7524 - mse: 1.7750 - val_loss: 3.7289 - val_mse: 1.7512\n",
      "Runtime: 47.11 초\n"
     ]
    }
   ],
   "source": [
    "# Model fitting\n",
    "# mcp = ModelCheckpoint(filepath='./personalization.h5', monitor='val_accuracy',\n",
    "#                       verbose=1, save_best_only=True)\n",
    "es = EarlyStopping(patience=5, restore_best_weights=True)\n",
    "\n",
    "start = time.time()\n",
    "result = model.fit(\n",
    "  x=[ratings_train.memberno.values, ratings_train.productno.values],\n",
    "  y=ratings_train.rating.values,\n",
    "  epochs=30, batch_size=60,\n",
    "  validation_data=(\n",
    "    [ratings_test.memberno.values, ratings_test.productno.values], ratings_test.rating.values\n",
    "  ), \n",
    "  callbacks=[es]\n",
    ")\n",
    "end = time.time()\n",
    "print('Runtime: {0:.2f} 초'.format(end-start))"
   ]
  },
  {
   "cell_type": "code",
   "execution_count": 218,
   "id": "12fa9234",
   "metadata": {},
   "outputs": [],
   "source": [
    "model.save('3kki_personalization.h5')"
   ]
  },
  {
   "cell_type": "code",
   "execution_count": 219,
   "id": "bd5cada9",
   "metadata": {},
   "outputs": [
    {
     "data": {
      "image/png": "[encoded data removed]",
      "text/plain": [
       "<Figure size 432x288 with 1 Axes>"
      ]
     },
     "metadata": {
      "needs_background": "light"
     },
     "output_type": "display_data"
    }
   ],
   "source": [
    "import matplotlib.pyplot as plt\n",
    "plt.plot(result.history['loss'], label=\"Train loss\")\n",
    "plt.plot(result.history['val_loss'], label=\"Test loss\")\n",
    "plt.xlabel('epoch')\n",
    "plt.ylabel('MSE')\n",
    "plt.legend()\n",
    "plt.show()"
   ]
  },
  {
   "cell_type": "code",
   "execution_count": 220,
   "id": "cf167d15",
   "metadata": {},
   "outputs": [
    {
     "name": "stdout",
     "output_type": "stream",
     "text": [
      "1/1 [==============================] - 0s 95ms/step\n",
      "Actuals: \n",
      "        memberno  productno  rating\n",
      "6787        393          8       5\n",
      "26401       709         21       3\n",
      "6641        888         10       4\n",
      "36568       982         19       2\n",
      "289         677          3       5\n",
      "47416       120          3       3\n",
      "\n",
      "Predictions: \n",
      " [[2.7553802]\n",
      " [2.8779085]\n",
      " [2.819045 ]\n",
      " [2.8986647]\n",
      " [2.8726459]\n",
      " [2.8440218]]\n"
     ]
    }
   ],
   "source": [
    "# 테스트 데이터 Prediction\n",
    "user_ids = ratings_test.memberno.values[0:6]\n",
    "product_ids = ratings_test.productno.values[0:6]\n",
    "predictions = model.predict([user_ids, product_ids])\n",
    "print(\"Actuals: \\n\", ratings_test[0:6])\n",
    "print( )\n",
    "print(\"Predictions: \\n\", predictions)"
   ]
  },
  {
   "cell_type": "code",
   "execution_count": 221,
   "id": "3b2009db",
   "metadata": {},
   "outputs": [
    {
     "data": {
      "text/html": [
       "<div>\n",
       "<style scoped>\n",
       "    .dataframe tbody tr th:only-of-type {\n",
       "        vertical-align: middle;\n",
       "    }\n",
       "\n",
       "    .dataframe tbody tr th {\n",
       "        vertical-align: top;\n",
       "    }\n",
       "\n",
       "    .dataframe thead th {\n",
       "        text-align: right;\n",
       "    }\n",
       "</style>\n",
       "<table border=\"1\" class=\"dataframe\">\n",
       "  <thead>\n",
       "    <tr style=\"text-align: right;\">\n",
       "      <th></th>\n",
       "      <th>memberno</th>\n",
       "      <th>productno</th>\n",
       "      <th>rating</th>\n",
       "    </tr>\n",
       "  </thead>\n",
       "  <tbody>\n",
       "    <tr>\n",
       "      <th>6787</th>\n",
       "      <td>393</td>\n",
       "      <td>8</td>\n",
       "      <td>5</td>\n",
       "    </tr>\n",
       "    <tr>\n",
       "      <th>26401</th>\n",
       "      <td>709</td>\n",
       "      <td>21</td>\n",
       "      <td>3</td>\n",
       "    </tr>\n",
       "    <tr>\n",
       "      <th>6641</th>\n",
       "      <td>888</td>\n",
       "      <td>10</td>\n",
       "      <td>4</td>\n",
       "    </tr>\n",
       "    <tr>\n",
       "      <th>36568</th>\n",
       "      <td>982</td>\n",
       "      <td>19</td>\n",
       "      <td>2</td>\n",
       "    </tr>\n",
       "    <tr>\n",
       "      <th>289</th>\n",
       "      <td>677</td>\n",
       "      <td>3</td>\n",
       "      <td>5</td>\n",
       "    </tr>\n",
       "    <tr>\n",
       "      <th>47416</th>\n",
       "      <td>120</td>\n",
       "      <td>3</td>\n",
       "      <td>3</td>\n",
       "    </tr>\n",
       "  </tbody>\n",
       "</table>\n",
       "</div>"
      ],
      "text/plain": [
       "       memberno  productno  rating\n",
       "6787        393          8       5\n",
       "26401       709         21       3\n",
       "6641        888         10       4\n",
       "36568       982         19       2\n",
       "289         677          3       5\n",
       "47416       120          3       3"
      ]
     },
     "execution_count": 221,
     "metadata": {},
     "output_type": "execute_result"
    }
   ],
   "source": [
    "df6 = ratings_test[0:6]\n",
    "df6"
   ]
  },
  {
   "cell_type": "code",
   "execution_count": 222,
   "id": "4fc86b5d",
   "metadata": {},
   "outputs": [
    {
     "name": "stderr",
     "output_type": "stream",
     "text": [
      "C:\\Users\\user\\anaconda3\\envs\\ai\\lib\\site-packages\\ipykernel_launcher.py:2: SettingWithCopyWarning: \n",
      "A value is trying to be set on a copy of a slice from a DataFrame.\n",
      "Try using .loc[row_indexer,col_indexer] = value instead\n",
      "\n",
      "See the caveats in the documentation: https://pandas.pydata.org/pandas-docs/stable/user_guide/indexing.html#returning-a-view-versus-a-copy\n",
      "  \n"
     ]
    },
    {
     "data": {
      "text/html": [
       "<div>\n",
       "<style scoped>\n",
       "    .dataframe tbody tr th:only-of-type {\n",
       "        vertical-align: middle;\n",
       "    }\n",
       "\n",
       "    .dataframe tbody tr th {\n",
       "        vertical-align: top;\n",
       "    }\n",
       "\n",
       "    .dataframe thead th {\n",
       "        text-align: right;\n",
       "    }\n",
       "</style>\n",
       "<table border=\"1\" class=\"dataframe\">\n",
       "  <thead>\n",
       "    <tr style=\"text-align: right;\">\n",
       "      <th></th>\n",
       "      <th>memberno</th>\n",
       "      <th>productno</th>\n",
       "      <th>rating</th>\n",
       "      <th>predictions</th>\n",
       "    </tr>\n",
       "  </thead>\n",
       "  <tbody>\n",
       "    <tr>\n",
       "      <th>6787</th>\n",
       "      <td>393</td>\n",
       "      <td>8</td>\n",
       "      <td>5</td>\n",
       "      <td>2.755380</td>\n",
       "    </tr>\n",
       "    <tr>\n",
       "      <th>26401</th>\n",
       "      <td>709</td>\n",
       "      <td>21</td>\n",
       "      <td>3</td>\n",
       "      <td>2.877908</td>\n",
       "    </tr>\n",
       "    <tr>\n",
       "      <th>6641</th>\n",
       "      <td>888</td>\n",
       "      <td>10</td>\n",
       "      <td>4</td>\n",
       "      <td>2.819045</td>\n",
       "    </tr>\n",
       "    <tr>\n",
       "      <th>36568</th>\n",
       "      <td>982</td>\n",
       "      <td>19</td>\n",
       "      <td>2</td>\n",
       "      <td>2.898665</td>\n",
       "    </tr>\n",
       "    <tr>\n",
       "      <th>289</th>\n",
       "      <td>677</td>\n",
       "      <td>3</td>\n",
       "      <td>5</td>\n",
       "      <td>2.872646</td>\n",
       "    </tr>\n",
       "    <tr>\n",
       "      <th>47416</th>\n",
       "      <td>120</td>\n",
       "      <td>3</td>\n",
       "      <td>3</td>\n",
       "      <td>2.844022</td>\n",
       "    </tr>\n",
       "  </tbody>\n",
       "</table>\n",
       "</div>"
      ],
      "text/plain": [
       "       memberno  productno  rating  predictions\n",
       "6787        393          8       5     2.755380\n",
       "26401       709         21       3     2.877908\n",
       "6641        888         10       4     2.819045\n",
       "36568       982         19       2     2.898665\n",
       "289         677          3       5     2.872646\n",
       "47416       120          3       3     2.844022"
      ]
     },
     "execution_count": 222,
     "metadata": {},
     "output_type": "execute_result"
    }
   ],
   "source": [
    "# print(type(predictions))\n",
    "df6['predictions'] = predictions\n",
    "df6"
   ]
  },
  {
   "cell_type": "code",
   "execution_count": 223,
   "id": "7d7daaa5",
   "metadata": {},
   "outputs": [
    {
     "data": {
      "text/html": [
       "<div>\n",
       "<style scoped>\n",
       "    .dataframe tbody tr th:only-of-type {\n",
       "        vertical-align: middle;\n",
       "    }\n",
       "\n",
       "    .dataframe tbody tr th {\n",
       "        vertical-align: top;\n",
       "    }\n",
       "\n",
       "    .dataframe thead th {\n",
       "        text-align: right;\n",
       "    }\n",
       "</style>\n",
       "<table border=\"1\" class=\"dataframe\">\n",
       "  <thead>\n",
       "    <tr style=\"text-align: right;\">\n",
       "      <th></th>\n",
       "      <th>memberno</th>\n",
       "      <th>productno</th>\n",
       "      <th>rating</th>\n",
       "    </tr>\n",
       "  </thead>\n",
       "  <tbody>\n",
       "    <tr>\n",
       "      <th>6787</th>\n",
       "      <td>393</td>\n",
       "      <td>8</td>\n",
       "      <td>5</td>\n",
       "    </tr>\n",
       "    <tr>\n",
       "      <th>26401</th>\n",
       "      <td>709</td>\n",
       "      <td>21</td>\n",
       "      <td>3</td>\n",
       "    </tr>\n",
       "    <tr>\n",
       "      <th>6641</th>\n",
       "      <td>888</td>\n",
       "      <td>10</td>\n",
       "      <td>4</td>\n",
       "    </tr>\n",
       "    <tr>\n",
       "      <th>36568</th>\n",
       "      <td>982</td>\n",
       "      <td>19</td>\n",
       "      <td>2</td>\n",
       "    </tr>\n",
       "    <tr>\n",
       "      <th>289</th>\n",
       "      <td>677</td>\n",
       "      <td>3</td>\n",
       "      <td>5</td>\n",
       "    </tr>\n",
       "    <tr>\n",
       "      <th>47416</th>\n",
       "      <td>120</td>\n",
       "      <td>3</td>\n",
       "      <td>3</td>\n",
       "    </tr>\n",
       "  </tbody>\n",
       "</table>\n",
       "</div>"
      ],
      "text/plain": [
       "       memberno  productno  rating\n",
       "6787        393          8       5\n",
       "26401       709         21       3\n",
       "6641        888         10       4\n",
       "36568       982         19       2\n",
       "289         677          3       5\n",
       "47416       120          3       3"
      ]
     },
     "execution_count": 223,
     "metadata": {},
     "output_type": "execute_result"
    }
   ],
   "source": [
    "ratings_test[0:6]"
   ]
  },
  {
   "cell_type": "code",
   "execution_count": 224,
   "id": "1fa42898",
   "metadata": {},
   "outputs": [
    {
     "name": "stderr",
     "output_type": "stream",
     "text": [
      "C:\\Users\\user\\anaconda3\\envs\\ai\\lib\\site-packages\\pandas\\util\\_decorators.py:311: SettingWithCopyWarning: \n",
      "A value is trying to be set on a copy of a slice from a DataFrame\n",
      "\n",
      "See the caveats in the documentation: https://pandas.pydata.org/pandas-docs/stable/user_guide/indexing.html#returning-a-view-versus-a-copy\n",
      "  return func(*args, **kwargs)\n"
     ]
    },
    {
     "data": {
      "text/html": [
       "<div>\n",
       "<style scoped>\n",
       "    .dataframe tbody tr th:only-of-type {\n",
       "        vertical-align: middle;\n",
       "    }\n",
       "\n",
       "    .dataframe tbody tr th {\n",
       "        vertical-align: top;\n",
       "    }\n",
       "\n",
       "    .dataframe thead th {\n",
       "        text-align: right;\n",
       "    }\n",
       "</style>\n",
       "<table border=\"1\" class=\"dataframe\">\n",
       "  <thead>\n",
       "    <tr style=\"text-align: right;\">\n",
       "      <th></th>\n",
       "      <th>memberno</th>\n",
       "      <th>productno</th>\n",
       "      <th>rating</th>\n",
       "      <th>predictions</th>\n",
       "    </tr>\n",
       "  </thead>\n",
       "  <tbody>\n",
       "    <tr>\n",
       "      <th>36568</th>\n",
       "      <td>982</td>\n",
       "      <td>19</td>\n",
       "      <td>2</td>\n",
       "      <td>2.898665</td>\n",
       "    </tr>\n",
       "    <tr>\n",
       "      <th>26401</th>\n",
       "      <td>709</td>\n",
       "      <td>21</td>\n",
       "      <td>3</td>\n",
       "      <td>2.877908</td>\n",
       "    </tr>\n",
       "    <tr>\n",
       "      <th>289</th>\n",
       "      <td>677</td>\n",
       "      <td>3</td>\n",
       "      <td>5</td>\n",
       "      <td>2.872646</td>\n",
       "    </tr>\n",
       "    <tr>\n",
       "      <th>47416</th>\n",
       "      <td>120</td>\n",
       "      <td>3</td>\n",
       "      <td>3</td>\n",
       "      <td>2.844022</td>\n",
       "    </tr>\n",
       "    <tr>\n",
       "      <th>6641</th>\n",
       "      <td>888</td>\n",
       "      <td>10</td>\n",
       "      <td>4</td>\n",
       "      <td>2.819045</td>\n",
       "    </tr>\n",
       "    <tr>\n",
       "      <th>6787</th>\n",
       "      <td>393</td>\n",
       "      <td>8</td>\n",
       "      <td>5</td>\n",
       "      <td>2.755380</td>\n",
       "    </tr>\n",
       "  </tbody>\n",
       "</table>\n",
       "</div>"
      ],
      "text/plain": [
       "       memberno  productno  rating  predictions\n",
       "36568       982         19       2     2.898665\n",
       "26401       709         21       3     2.877908\n",
       "289         677          3       5     2.872646\n",
       "47416       120          3       3     2.844022\n",
       "6641        888         10       4     2.819045\n",
       "6787        393          8       5     2.755380"
      ]
     },
     "execution_count": 224,
     "metadata": {},
     "output_type": "execute_result"
    }
   ],
   "source": [
    "df6.sort_values('predictions', ascending=False, inplace=True)\n",
    "df6"
   ]
  },
  {
   "cell_type": "code",
   "execution_count": 225,
   "id": "95975d3f",
   "metadata": {},
   "outputs": [
    {
     "name": "stdout",
     "output_type": "stream",
     "text": [
      "<class 'numpy.ndarray'>\n",
      "(12500,)\n",
      "391/391 [==============================] - 1s 2ms/step\n",
      "Actuals: \n",
      "        memberno  productno  rating\n",
      "6787        393          8       5\n",
      "26401       709         21       3\n",
      "6641        888         10       4\n",
      "36568       982         19       2\n",
      "289         677          3       5\n",
      "47416       120          3       3\n",
      "\n",
      "Predictions: \n",
      " [[2.7553802]\n",
      " [2.8779085]\n",
      " [2.819045 ]\n",
      " ...\n",
      " [2.8259213]\n",
      " [2.910737 ]\n",
      " [2.877635 ]]\n"
     ]
    }
   ],
   "source": [
    "# Prediction\n",
    "user_ids = ratings_test.memberno.values\n",
    "print(type(user_ids))\n",
    "print(user_ids.shape)\n",
    "product_ids = ratings_test.productno.values\n",
    "predictions = model.predict([user_ids, product_ids])\n",
    "print(\"Actuals: \\n\", ratings_test[0:6])\n",
    "print( )\n",
    "print(\"Predictions: \\n\", predictions)"
   ]
  },
  {
   "cell_type": "code",
   "execution_count": 226,
   "id": "9e7b529a",
   "metadata": {},
   "outputs": [
    {
     "data": {
      "text/html": [
       "<div>\n",
       "<style scoped>\n",
       "    .dataframe tbody tr th:only-of-type {\n",
       "        vertical-align: middle;\n",
       "    }\n",
       "\n",
       "    .dataframe tbody tr th {\n",
       "        vertical-align: top;\n",
       "    }\n",
       "\n",
       "    .dataframe thead th {\n",
       "        text-align: right;\n",
       "    }\n",
       "</style>\n",
       "<table border=\"1\" class=\"dataframe\">\n",
       "  <thead>\n",
       "    <tr style=\"text-align: right;\">\n",
       "      <th></th>\n",
       "      <th>memberno</th>\n",
       "      <th>productno</th>\n",
       "      <th>rating</th>\n",
       "      <th>predictions</th>\n",
       "    </tr>\n",
       "  </thead>\n",
       "  <tbody>\n",
       "    <tr>\n",
       "      <th>44066</th>\n",
       "      <td>254</td>\n",
       "      <td>19</td>\n",
       "      <td>1</td>\n",
       "      <td>2.953719</td>\n",
       "    </tr>\n",
       "    <tr>\n",
       "      <th>10222</th>\n",
       "      <td>702</td>\n",
       "      <td>22</td>\n",
       "      <td>5</td>\n",
       "      <td>2.947778</td>\n",
       "    </tr>\n",
       "    <tr>\n",
       "      <th>41513</th>\n",
       "      <td>357</td>\n",
       "      <td>2</td>\n",
       "      <td>3</td>\n",
       "      <td>2.944227</td>\n",
       "    </tr>\n",
       "    <tr>\n",
       "      <th>3930</th>\n",
       "      <td>961</td>\n",
       "      <td>2</td>\n",
       "      <td>4</td>\n",
       "      <td>2.944074</td>\n",
       "    </tr>\n",
       "    <tr>\n",
       "      <th>21189</th>\n",
       "      <td>961</td>\n",
       "      <td>2</td>\n",
       "      <td>4</td>\n",
       "      <td>2.944074</td>\n",
       "    </tr>\n",
       "    <tr>\n",
       "      <th>41928</th>\n",
       "      <td>900</td>\n",
       "      <td>2</td>\n",
       "      <td>4</td>\n",
       "      <td>2.940846</td>\n",
       "    </tr>\n",
       "    <tr>\n",
       "      <th>33922</th>\n",
       "      <td>900</td>\n",
       "      <td>2</td>\n",
       "      <td>3</td>\n",
       "      <td>2.940846</td>\n",
       "    </tr>\n",
       "    <tr>\n",
       "      <th>17967</th>\n",
       "      <td>967</td>\n",
       "      <td>19</td>\n",
       "      <td>2</td>\n",
       "      <td>2.940602</td>\n",
       "    </tr>\n",
       "    <tr>\n",
       "      <th>42985</th>\n",
       "      <td>357</td>\n",
       "      <td>19</td>\n",
       "      <td>4</td>\n",
       "      <td>2.940279</td>\n",
       "    </tr>\n",
       "    <tr>\n",
       "      <th>36560</th>\n",
       "      <td>961</td>\n",
       "      <td>19</td>\n",
       "      <td>3</td>\n",
       "      <td>2.940126</td>\n",
       "    </tr>\n",
       "  </tbody>\n",
       "</table>\n",
       "</div>"
      ],
      "text/plain": [
       "       memberno  productno  rating  predictions\n",
       "44066       254         19       1     2.953719\n",
       "10222       702         22       5     2.947778\n",
       "41513       357          2       3     2.944227\n",
       "3930        961          2       4     2.944074\n",
       "21189       961          2       4     2.944074\n",
       "41928       900          2       4     2.940846\n",
       "33922       900          2       3     2.940846\n",
       "17967       967         19       2     2.940602\n",
       "42985       357         19       4     2.940279\n",
       "36560       961         19       3     2.940126"
      ]
     },
     "execution_count": 226,
     "metadata": {},
     "output_type": "execute_result"
    }
   ],
   "source": [
    "df = ratings_test.copy()\n",
    "# print(type(predictions))\n",
    "df['predictions'] = predictions\n",
    "df.sort_values('predictions', ascending=False, inplace=True)\n",
    "df.head(10)"
   ]
  },
  {
   "cell_type": "code",
   "execution_count": 227,
   "id": "1b475a12",
   "metadata": {},
   "outputs": [
    {
     "data": {
      "text/html": [
       "<div>\n",
       "<style scoped>\n",
       "    .dataframe tbody tr th:only-of-type {\n",
       "        vertical-align: middle;\n",
       "    }\n",
       "\n",
       "    .dataframe tbody tr th {\n",
       "        vertical-align: top;\n",
       "    }\n",
       "\n",
       "    .dataframe thead th {\n",
       "        text-align: right;\n",
       "    }\n",
       "</style>\n",
       "<table border=\"1\" class=\"dataframe\">\n",
       "  <thead>\n",
       "    <tr style=\"text-align: right;\">\n",
       "      <th></th>\n",
       "      <th>memberno</th>\n",
       "      <th>productno</th>\n",
       "      <th>rating</th>\n",
       "      <th>predictions</th>\n",
       "    </tr>\n",
       "  </thead>\n",
       "  <tbody>\n",
       "    <tr>\n",
       "      <th>43728</th>\n",
       "      <td>90</td>\n",
       "      <td>21</td>\n",
       "      <td>2</td>\n",
       "      <td>2.863903</td>\n",
       "    </tr>\n",
       "    <tr>\n",
       "      <th>7333</th>\n",
       "      <td>90</td>\n",
       "      <td>25</td>\n",
       "      <td>4</td>\n",
       "      <td>2.841029</td>\n",
       "    </tr>\n",
       "    <tr>\n",
       "      <th>11732</th>\n",
       "      <td>90</td>\n",
       "      <td>20</td>\n",
       "      <td>4</td>\n",
       "      <td>2.832601</td>\n",
       "    </tr>\n",
       "    <tr>\n",
       "      <th>2131</th>\n",
       "      <td>90</td>\n",
       "      <td>1</td>\n",
       "      <td>5</td>\n",
       "      <td>2.829195</td>\n",
       "    </tr>\n",
       "    <tr>\n",
       "      <th>18555</th>\n",
       "      <td>90</td>\n",
       "      <td>9</td>\n",
       "      <td>4</td>\n",
       "      <td>2.815586</td>\n",
       "    </tr>\n",
       "    <tr>\n",
       "      <th>34250</th>\n",
       "      <td>90</td>\n",
       "      <td>9</td>\n",
       "      <td>4</td>\n",
       "      <td>2.815586</td>\n",
       "    </tr>\n",
       "    <tr>\n",
       "      <th>14212</th>\n",
       "      <td>90</td>\n",
       "      <td>17</td>\n",
       "      <td>4</td>\n",
       "      <td>2.800355</td>\n",
       "    </tr>\n",
       "    <tr>\n",
       "      <th>14587</th>\n",
       "      <td>90</td>\n",
       "      <td>15</td>\n",
       "      <td>5</td>\n",
       "      <td>2.798814</td>\n",
       "    </tr>\n",
       "    <tr>\n",
       "      <th>44811</th>\n",
       "      <td>90</td>\n",
       "      <td>14</td>\n",
       "      <td>4</td>\n",
       "      <td>2.794766</td>\n",
       "    </tr>\n",
       "  </tbody>\n",
       "</table>\n",
       "</div>"
      ],
      "text/plain": [
       "       memberno  productno  rating  predictions\n",
       "43728        90         21       2     2.863903\n",
       "7333         90         25       4     2.841029\n",
       "11732        90         20       4     2.832601\n",
       "2131         90          1       5     2.829195\n",
       "18555        90          9       4     2.815586\n",
       "34250        90          9       4     2.815586\n",
       "14212        90         17       4     2.800355\n",
       "14587        90         15       5     2.798814\n",
       "44811        90         14       4     2.794766"
      ]
     },
     "execution_count": 227,
     "metadata": {},
     "output_type": "execute_result"
    }
   ],
   "source": [
    "df[df['memberno'] == 90].head(10)"
   ]
  },
  {
   "cell_type": "code",
   "execution_count": 228,
   "id": "7de3653f",
   "metadata": {},
   "outputs": [
    {
     "data": {
      "text/html": [
       "<div>\n",
       "<style scoped>\n",
       "    .dataframe tbody tr th:only-of-type {\n",
       "        vertical-align: middle;\n",
       "    }\n",
       "\n",
       "    .dataframe tbody tr th {\n",
       "        vertical-align: top;\n",
       "    }\n",
       "\n",
       "    .dataframe thead th {\n",
       "        text-align: right;\n",
       "    }\n",
       "</style>\n",
       "<table border=\"1\" class=\"dataframe\">\n",
       "  <thead>\n",
       "    <tr style=\"text-align: right;\">\n",
       "      <th></th>\n",
       "      <th>name</th>\n",
       "      <th>cate1</th>\n",
       "      <th>cate2</th>\n",
       "      <th>cate3</th>\n",
       "      <th>cate4</th>\n",
       "      <th>cate5</th>\n",
       "    </tr>\n",
       "    <tr>\n",
       "      <th>productno</th>\n",
       "      <th></th>\n",
       "      <th></th>\n",
       "      <th></th>\n",
       "      <th></th>\n",
       "      <th></th>\n",
       "      <th></th>\n",
       "    </tr>\n",
       "  </thead>\n",
       "  <tbody>\n",
       "    <tr>\n",
       "      <th>1</th>\n",
       "      <td>맛있닭 닭가슴살 소시지 훈제맛</td>\n",
       "      <td>1</td>\n",
       "      <td>0</td>\n",
       "      <td>0</td>\n",
       "      <td>0</td>\n",
       "      <td>0</td>\n",
       "    </tr>\n",
       "    <tr>\n",
       "      <th>2</th>\n",
       "      <td>잇메이트 저염 훈제닭가슴살</td>\n",
       "      <td>1</td>\n",
       "      <td>0</td>\n",
       "      <td>0</td>\n",
       "      <td>0</td>\n",
       "      <td>0</td>\n",
       "    </tr>\n",
       "    <tr>\n",
       "      <th>3</th>\n",
       "      <td>아워홈 참나무향 닭가슴살</td>\n",
       "      <td>1</td>\n",
       "      <td>0</td>\n",
       "      <td>0</td>\n",
       "      <td>0</td>\n",
       "      <td>0</td>\n",
       "    </tr>\n",
       "    <tr>\n",
       "      <th>4</th>\n",
       "      <td>러브잇 닭가슴살 짜장 매운맛</td>\n",
       "      <td>1</td>\n",
       "      <td>0</td>\n",
       "      <td>0</td>\n",
       "      <td>0</td>\n",
       "      <td>0</td>\n",
       "    </tr>\n",
       "    <tr>\n",
       "      <th>5</th>\n",
       "      <td>굽네 훈제 닭가슴살 오리지널</td>\n",
       "      <td>1</td>\n",
       "      <td>0</td>\n",
       "      <td>0</td>\n",
       "      <td>0</td>\n",
       "      <td>0</td>\n",
       "    </tr>\n",
       "  </tbody>\n",
       "</table>\n",
       "</div>"
      ],
      "text/plain": [
       "                       name  cate1  cate2  cate3  cate4  cate5\n",
       "productno                                                     \n",
       "1          맛있닭 닭가슴살 소시지 훈제맛      1      0      0      0      0\n",
       "2            잇메이트 저염 훈제닭가슴살      1      0      0      0      0\n",
       "3             아워홈 참나무향 닭가슴살      1      0      0      0      0\n",
       "4           러브잇 닭가슴살 짜장 매운맛      1      0      0      0      0\n",
       "5           굽네 훈제 닭가슴살 오리지널      1      0      0      0      0"
      ]
     },
     "metadata": {},
     "output_type": "display_data"
    },
    {
     "data": {
      "text/html": [
       "<div>\n",
       "<style scoped>\n",
       "    .dataframe tbody tr th:only-of-type {\n",
       "        vertical-align: middle;\n",
       "    }\n",
       "\n",
       "    .dataframe tbody tr th {\n",
       "        vertical-align: top;\n",
       "    }\n",
       "\n",
       "    .dataframe thead th {\n",
       "        text-align: right;\n",
       "    }\n",
       "</style>\n",
       "<table border=\"1\" class=\"dataframe\">\n",
       "  <thead>\n",
       "    <tr style=\"text-align: right;\">\n",
       "      <th></th>\n",
       "      <th>memberno</th>\n",
       "      <th>productno</th>\n",
       "      <th>rating</th>\n",
       "    </tr>\n",
       "  </thead>\n",
       "  <tbody>\n",
       "    <tr>\n",
       "      <th>0</th>\n",
       "      <td>291</td>\n",
       "      <td>13</td>\n",
       "      <td>3</td>\n",
       "    </tr>\n",
       "    <tr>\n",
       "      <th>1</th>\n",
       "      <td>732</td>\n",
       "      <td>18</td>\n",
       "      <td>3</td>\n",
       "    </tr>\n",
       "    <tr>\n",
       "      <th>2</th>\n",
       "      <td>290</td>\n",
       "      <td>24</td>\n",
       "      <td>1</td>\n",
       "    </tr>\n",
       "    <tr>\n",
       "      <th>3</th>\n",
       "      <td>161</td>\n",
       "      <td>25</td>\n",
       "      <td>2</td>\n",
       "    </tr>\n",
       "    <tr>\n",
       "      <th>4</th>\n",
       "      <td>42</td>\n",
       "      <td>19</td>\n",
       "      <td>1</td>\n",
       "    </tr>\n",
       "  </tbody>\n",
       "</table>\n",
       "</div>"
      ],
      "text/plain": [
       "   memberno  productno  rating\n",
       "0       291         13       3\n",
       "1       732         18       3\n",
       "2       290         24       1\n",
       "3       161         25       2\n",
       "4        42         19       1"
      ]
     },
     "metadata": {},
     "output_type": "display_data"
    }
   ],
   "source": [
    "# def RMSE(y_true, y_pred):\n",
    "#     return tf.sqrt(tf.reduce_mean(tf.square(y_true - y_pred))) # 전부 더해져서 평균을 Scalar 형태로 변환\n",
    "\n",
    "# 모델 로딩\n",
    "model = load_model('./personalization.h5')\n",
    "\n",
    "# 상품 로딩\n",
    "i_cols = ['productno', 'name', 'cate1','cate2','cate3','cate4','cate5']\n",
    "products = pd.read_csv('u.item', sep=',', names=i_cols, encoding='utf-8')\n",
    "products = products.set_index('productno')\n",
    "display(products.head())\n",
    "\n",
    "# 평점 로딩\n",
    "r_cols = ['memberno', 'productno', 'rating'] # 사용자 아이디, 아이템 아이디, 평점 데이터\n",
    "ratings = pd.read_csv('u.data', names=r_cols,  sep=',', encoding='utf-8')\n",
    "ratings = ratings[['memberno', 'productno', 'rating']].astype(int)            # timestamp 제거\n",
    "display(ratings.head())"
   ]
  },
  {
   "cell_type": "code",
   "execution_count": 229,
   "id": "bbc13986",
   "metadata": {},
   "outputs": [],
   "source": [
    "# 아직 보지 않은 영화 리스트 함수\n",
    "def get_unorder(ratings, products, memberno):\n",
    "     # 특정 user_id가 평점을 매긴 모든 영화 리스트\n",
    "    order_products = ratings[ratings['memberno']== memberno]['productno'].tolist()\n",
    "    \n",
    "    # 모든 영화명을 list 객체로 만듬. \n",
    "    total_products = products.index.tolist()\n",
    "      \n",
    "    # 한줄 for + if문으로 안 본 영화 리스트 생성\n",
    "    unorder_products = [ product for product in total_products if product not in order_products]\n",
    "    \n",
    "    total_product_cnt = len(total_products) # 모든 상품수\n",
    "    order_cnt = len(order_products)         # 주문한 상품수\n",
    "    unorder_cnt = len(unorder_products)     # 주문하지 않은 상품수\n",
    "    \n",
    "    print(f\"전체 상품 수: {total_product_cnt}, 평점 매긴 상품 수: {order_cnt}, 추천 대상 상품 수: {unorder_cnt}\")\n",
    "    \n",
    "    return unorder_products"
   ]
  },
  {
   "cell_type": "code",
   "execution_count": 230,
   "id": "c33513d5",
   "metadata": {},
   "outputs": [
    {
     "name": "stdout",
     "output_type": "stream",
     "text": [
      "회원 번호를 입력하세요(3-1000):500\n",
      "전체 상품 수: 25, 평점 매긴 상품 수: 44, 추천 대상 상품 수: 3\n"
     ]
    }
   ],
   "source": [
    "memberno = int(input('회원 번호를 입력하세요(3-1000):'))\n",
    "unorder_products = get_unorder(ratings, products, memberno)"
   ]
  },
  {
   "cell_type": "code",
   "execution_count": 239,
   "id": "f1445c99",
   "metadata": {},
   "outputs": [
    {
     "data": {
      "text/plain": [
       "array([500, 500, 500])"
      ]
     },
     "execution_count": 239,
     "metadata": {},
     "output_type": "execute_result"
    }
   ],
   "source": [
    "user_ids = np.array([memberno] * 3)\n",
    "user_ids"
   ]
  },
  {
   "cell_type": "code",
   "execution_count": 240,
   "id": "46c4dd1b",
   "metadata": {},
   "outputs": [
    {
     "data": {
      "text/plain": [
       "array([ 4, 14, 20])"
      ]
     },
     "execution_count": 240,
     "metadata": {},
     "output_type": "execute_result"
    }
   ],
   "source": [
    "product_ids = np.array(unorder_products)\n",
    "product_ids"
   ]
  },
  {
   "cell_type": "code",
   "execution_count": 241,
   "id": "1d66f22c",
   "metadata": {},
   "outputs": [
    {
     "data": {
      "text/plain": [
       "3.5389866666666667"
      ]
     },
     "execution_count": 241,
     "metadata": {},
     "output_type": "execute_result"
    }
   ],
   "source": [
    "mu"
   ]
  },
  {
   "cell_type": "code",
   "execution_count": 242,
   "id": "594e4027",
   "metadata": {},
   "outputs": [
    {
     "name": "stdout",
     "output_type": "stream",
     "text": [
      "3\n",
      "<class 'numpy.ndarray'>\n",
      "(3,)\n",
      "(3,)\n",
      "1/1 [==============================] - 0s 130ms/step\n"
     ]
    },
    {
     "data": {
      "text/plain": [
       "array([1.0651057, 1.0810885, 0.7387904], dtype=float32)"
      ]
     },
     "metadata": {},
     "output_type": "display_data"
    }
   ],
   "source": [
    "print(len(unorder_products))\n",
    "user_ids = np.array([memberno] * 3)\n",
    "print(type(user_ids))\n",
    "print(user_ids.shape)\n",
    "product_ids = np.array(unorder_products)\n",
    "print(product_ids.shape)\n",
    "predictions = model.predict([user_ids, product_ids])\n",
    "# predictions.shape\n",
    "display(predictions[:25,0])"
   ]
  },
  {
   "cell_type": "code",
   "execution_count": 243,
   "id": "c7713aaa",
   "metadata": {},
   "outputs": [
    {
     "data": {
      "text/html": [
       "<div>\n",
       "<style scoped>\n",
       "    .dataframe tbody tr th:only-of-type {\n",
       "        vertical-align: middle;\n",
       "    }\n",
       "\n",
       "    .dataframe tbody tr th {\n",
       "        vertical-align: top;\n",
       "    }\n",
       "\n",
       "    .dataframe thead th {\n",
       "        text-align: right;\n",
       "    }\n",
       "</style>\n",
       "<table border=\"1\" class=\"dataframe\">\n",
       "  <thead>\n",
       "    <tr style=\"text-align: right;\">\n",
       "      <th></th>\n",
       "      <th>user_id</th>\n",
       "    </tr>\n",
       "  </thead>\n",
       "  <tbody>\n",
       "    <tr>\n",
       "      <th>0</th>\n",
       "      <td>500</td>\n",
       "    </tr>\n",
       "    <tr>\n",
       "      <th>1</th>\n",
       "      <td>500</td>\n",
       "    </tr>\n",
       "    <tr>\n",
       "      <th>2</th>\n",
       "      <td>500</td>\n",
       "    </tr>\n",
       "  </tbody>\n",
       "</table>\n",
       "</div>"
      ],
      "text/plain": [
       "   user_id\n",
       "0      500\n",
       "1      500\n",
       "2      500"
      ]
     },
     "execution_count": 243,
     "metadata": {},
     "output_type": "execute_result"
    }
   ],
   "source": [
    "user_ids_df = pd.DataFrame(user_ids).rename(columns={0:'user_id'})\n",
    "user_ids_df.head()"
   ]
  },
  {
   "cell_type": "code",
   "execution_count": 244,
   "id": "c70442ed",
   "metadata": {},
   "outputs": [
    {
     "data": {
      "text/html": [
       "<div>\n",
       "<style scoped>\n",
       "    .dataframe tbody tr th:only-of-type {\n",
       "        vertical-align: middle;\n",
       "    }\n",
       "\n",
       "    .dataframe tbody tr th {\n",
       "        vertical-align: top;\n",
       "    }\n",
       "\n",
       "    .dataframe thead th {\n",
       "        text-align: right;\n",
       "    }\n",
       "</style>\n",
       "<table border=\"1\" class=\"dataframe\">\n",
       "  <thead>\n",
       "    <tr style=\"text-align: right;\">\n",
       "      <th></th>\n",
       "      <th>productno</th>\n",
       "    </tr>\n",
       "  </thead>\n",
       "  <tbody>\n",
       "    <tr>\n",
       "      <th>0</th>\n",
       "      <td>4</td>\n",
       "    </tr>\n",
       "    <tr>\n",
       "      <th>1</th>\n",
       "      <td>14</td>\n",
       "    </tr>\n",
       "    <tr>\n",
       "      <th>2</th>\n",
       "      <td>20</td>\n",
       "    </tr>\n",
       "  </tbody>\n",
       "</table>\n",
       "</div>"
      ],
      "text/plain": [
       "   productno\n",
       "0          4\n",
       "1         14\n",
       "2         20"
      ]
     },
     "execution_count": 244,
     "metadata": {},
     "output_type": "execute_result"
    }
   ],
   "source": [
    "product_ids_df = pd.DataFrame(product_ids).rename(columns={0:'productno'})\n",
    "product_ids_df.head()"
   ]
  },
  {
   "cell_type": "code",
   "execution_count": 245,
   "id": "798674a4",
   "metadata": {},
   "outputs": [
    {
     "data": {
      "text/html": [
       "<div>\n",
       "<style scoped>\n",
       "    .dataframe tbody tr th:only-of-type {\n",
       "        vertical-align: middle;\n",
       "    }\n",
       "\n",
       "    .dataframe tbody tr th {\n",
       "        vertical-align: top;\n",
       "    }\n",
       "\n",
       "    .dataframe thead th {\n",
       "        text-align: right;\n",
       "    }\n",
       "</style>\n",
       "<table border=\"1\" class=\"dataframe\">\n",
       "  <thead>\n",
       "    <tr style=\"text-align: right;\">\n",
       "      <th></th>\n",
       "      <th>prediction</th>\n",
       "    </tr>\n",
       "  </thead>\n",
       "  <tbody>\n",
       "    <tr>\n",
       "      <th>0</th>\n",
       "      <td>1.065106</td>\n",
       "    </tr>\n",
       "    <tr>\n",
       "      <th>1</th>\n",
       "      <td>1.081089</td>\n",
       "    </tr>\n",
       "    <tr>\n",
       "      <th>2</th>\n",
       "      <td>0.738790</td>\n",
       "    </tr>\n",
       "  </tbody>\n",
       "</table>\n",
       "</div>"
      ],
      "text/plain": [
       "   prediction\n",
       "0    1.065106\n",
       "1    1.081089\n",
       "2    0.738790"
      ]
     },
     "execution_count": 245,
     "metadata": {},
     "output_type": "execute_result"
    }
   ],
   "source": [
    "predictions_df = pd.DataFrame(predictions).rename(columns={0:'prediction'})\n",
    "predictions_df.head()"
   ]
  },
  {
   "cell_type": "code",
   "execution_count": 246,
   "id": "5f172d20",
   "metadata": {},
   "outputs": [
    {
     "data": {
      "text/html": [
       "<div>\n",
       "<style scoped>\n",
       "    .dataframe tbody tr th:only-of-type {\n",
       "        vertical-align: middle;\n",
       "    }\n",
       "\n",
       "    .dataframe tbody tr th {\n",
       "        vertical-align: top;\n",
       "    }\n",
       "\n",
       "    .dataframe thead th {\n",
       "        text-align: right;\n",
       "    }\n",
       "</style>\n",
       "<table border=\"1\" class=\"dataframe\">\n",
       "  <thead>\n",
       "    <tr style=\"text-align: right;\">\n",
       "      <th></th>\n",
       "      <th>user_id</th>\n",
       "      <th>productno</th>\n",
       "      <th>prediction</th>\n",
       "    </tr>\n",
       "  </thead>\n",
       "  <tbody>\n",
       "    <tr>\n",
       "      <th>0</th>\n",
       "      <td>500</td>\n",
       "      <td>4</td>\n",
       "      <td>1.065106</td>\n",
       "    </tr>\n",
       "    <tr>\n",
       "      <th>1</th>\n",
       "      <td>500</td>\n",
       "      <td>14</td>\n",
       "      <td>1.081089</td>\n",
       "    </tr>\n",
       "    <tr>\n",
       "      <th>2</th>\n",
       "      <td>500</td>\n",
       "      <td>20</td>\n",
       "      <td>0.738790</td>\n",
       "    </tr>\n",
       "  </tbody>\n",
       "</table>\n",
       "</div>"
      ],
      "text/plain": [
       "   user_id  productno  prediction\n",
       "0      500          4    1.065106\n",
       "1      500         14    1.081089\n",
       "2      500         20    0.738790"
      ]
     },
     "execution_count": 246,
     "metadata": {},
     "output_type": "execute_result"
    }
   ],
   "source": [
    "df = pd.concat([user_ids_df, product_ids_df, predictions_df], axis=1)\n",
    "df.head()"
   ]
  },
  {
   "cell_type": "code",
   "execution_count": 247,
   "id": "e4175b0f",
   "metadata": {},
   "outputs": [
    {
     "data": {
      "text/html": [
       "<div>\n",
       "<style scoped>\n",
       "    .dataframe tbody tr th:only-of-type {\n",
       "        vertical-align: middle;\n",
       "    }\n",
       "\n",
       "    .dataframe tbody tr th {\n",
       "        vertical-align: top;\n",
       "    }\n",
       "\n",
       "    .dataframe thead th {\n",
       "        text-align: right;\n",
       "    }\n",
       "</style>\n",
       "<table border=\"1\" class=\"dataframe\">\n",
       "  <thead>\n",
       "    <tr style=\"text-align: right;\">\n",
       "      <th></th>\n",
       "      <th>user_id</th>\n",
       "      <th>productno</th>\n",
       "      <th>prediction</th>\n",
       "    </tr>\n",
       "  </thead>\n",
       "  <tbody>\n",
       "    <tr>\n",
       "      <th>2</th>\n",
       "      <td>500</td>\n",
       "      <td>20</td>\n",
       "      <td>0.738790</td>\n",
       "    </tr>\n",
       "    <tr>\n",
       "      <th>0</th>\n",
       "      <td>500</td>\n",
       "      <td>4</td>\n",
       "      <td>1.065106</td>\n",
       "    </tr>\n",
       "    <tr>\n",
       "      <th>1</th>\n",
       "      <td>500</td>\n",
       "      <td>14</td>\n",
       "      <td>1.081089</td>\n",
       "    </tr>\n",
       "  </tbody>\n",
       "</table>\n",
       "</div>"
      ],
      "text/plain": [
       "   user_id  productno  prediction\n",
       "2      500         20    0.738790\n",
       "0      500          4    1.065106\n",
       "1      500         14    1.081089"
      ]
     },
     "execution_count": 247,
     "metadata": {},
     "output_type": "execute_result"
    }
   ],
   "source": [
    "df.sort_values(['prediction'], ascending=True, inplace=True)\n",
    "df.head()"
   ]
  },
  {
   "cell_type": "code",
   "execution_count": 248,
   "id": "64496765",
   "metadata": {},
   "outputs": [
    {
     "data": {
      "text/html": [
       "<div>\n",
       "<style scoped>\n",
       "    .dataframe tbody tr th:only-of-type {\n",
       "        vertical-align: middle;\n",
       "    }\n",
       "\n",
       "    .dataframe tbody tr th {\n",
       "        vertical-align: top;\n",
       "    }\n",
       "\n",
       "    .dataframe thead th {\n",
       "        text-align: right;\n",
       "    }\n",
       "</style>\n",
       "<table border=\"1\" class=\"dataframe\">\n",
       "  <thead>\n",
       "    <tr style=\"text-align: right;\">\n",
       "      <th></th>\n",
       "      <th>user_id</th>\n",
       "      <th>productno</th>\n",
       "      <th>prediction</th>\n",
       "    </tr>\n",
       "  </thead>\n",
       "  <tbody>\n",
       "    <tr>\n",
       "      <th>2</th>\n",
       "      <td>500</td>\n",
       "      <td>20</td>\n",
       "      <td>0.738790</td>\n",
       "    </tr>\n",
       "    <tr>\n",
       "      <th>0</th>\n",
       "      <td>500</td>\n",
       "      <td>4</td>\n",
       "      <td>1.065106</td>\n",
       "    </tr>\n",
       "    <tr>\n",
       "      <th>1</th>\n",
       "      <td>500</td>\n",
       "      <td>14</td>\n",
       "      <td>1.081089</td>\n",
       "    </tr>\n",
       "  </tbody>\n",
       "</table>\n",
       "</div>"
      ],
      "text/plain": [
       "   user_id  productno  prediction\n",
       "2      500         20    0.738790\n",
       "0      500          4    1.065106\n",
       "1      500         14    1.081089"
      ]
     },
     "execution_count": 248,
     "metadata": {},
     "output_type": "execute_result"
    }
   ],
   "source": [
    "df_sub = df.head(100)\n",
    "df_sub"
   ]
  },
  {
   "cell_type": "code",
   "execution_count": 249,
   "id": "768ff2bf",
   "metadata": {},
   "outputs": [
    {
     "name": "stdout",
     "output_type": "stream",
     "text": [
      "2    20\n",
      "0     4\n",
      "1    14\n",
      "Name: productno, dtype: int32\n"
     ]
    }
   ],
   "source": [
    "product_ids = df_sub['productno']\n",
    "print(product_ids)"
   ]
  },
  {
   "cell_type": "code",
   "execution_count": 250,
   "id": "42abfcb9",
   "metadata": {},
   "outputs": [
    {
     "name": "stdout",
     "output_type": "stream",
     "text": [
      "<class 'pandas.core.series.Series'>\n",
      "2    0.738790\n",
      "0    1.065106\n",
      "1    1.081089\n",
      "Name: prediction, dtype: float32\n"
     ]
    }
   ],
   "source": [
    "df_sub['prediction']\n",
    "print(type(df_sub['prediction']))\n",
    "print(df_sub['prediction'])"
   ]
  },
  {
   "cell_type": "code",
   "execution_count": 251,
   "id": "289ad3e0",
   "metadata": {},
   "outputs": [
    {
     "data": {
      "text/html": [
       "<div>\n",
       "<style scoped>\n",
       "    .dataframe tbody tr th:only-of-type {\n",
       "        vertical-align: middle;\n",
       "    }\n",
       "\n",
       "    .dataframe tbody tr th {\n",
       "        vertical-align: top;\n",
       "    }\n",
       "\n",
       "    .dataframe thead th {\n",
       "        text-align: right;\n",
       "    }\n",
       "</style>\n",
       "<table border=\"1\" class=\"dataframe\">\n",
       "  <thead>\n",
       "    <tr style=\"text-align: right;\">\n",
       "      <th></th>\n",
       "      <th>name</th>\n",
       "      <th>cate1</th>\n",
       "      <th>cate2</th>\n",
       "      <th>cate3</th>\n",
       "      <th>cate4</th>\n",
       "      <th>cate5</th>\n",
       "    </tr>\n",
       "    <tr>\n",
       "      <th>productno</th>\n",
       "      <th></th>\n",
       "      <th></th>\n",
       "      <th></th>\n",
       "      <th></th>\n",
       "      <th></th>\n",
       "      <th></th>\n",
       "    </tr>\n",
       "  </thead>\n",
       "  <tbody>\n",
       "    <tr>\n",
       "      <th>20</th>\n",
       "      <td>유산균슬림다이어트</td>\n",
       "      <td>0</td>\n",
       "      <td>0</td>\n",
       "      <td>0</td>\n",
       "      <td>1</td>\n",
       "      <td>0</td>\n",
       "    </tr>\n",
       "    <tr>\n",
       "      <th>4</th>\n",
       "      <td>러브잇 닭가슴살 짜장 매운맛</td>\n",
       "      <td>1</td>\n",
       "      <td>0</td>\n",
       "      <td>0</td>\n",
       "      <td>0</td>\n",
       "      <td>0</td>\n",
       "    </tr>\n",
       "    <tr>\n",
       "      <th>14</th>\n",
       "      <td>수비드닭가슴살빅샐러드</td>\n",
       "      <td>0</td>\n",
       "      <td>0</td>\n",
       "      <td>1</td>\n",
       "      <td>0</td>\n",
       "      <td>0</td>\n",
       "    </tr>\n",
       "  </tbody>\n",
       "</table>\n",
       "</div>"
      ],
      "text/plain": [
       "                      name  cate1  cate2  cate3  cate4  cate5\n",
       "productno                                                    \n",
       "20               유산균슬림다이어트      0      0      0      1      0\n",
       "4          러브잇 닭가슴살 짜장 매운맛      1      0      0      0      0\n",
       "14             수비드닭가슴살빅샐러드      0      0      1      0      0"
      ]
     },
     "execution_count": 251,
     "metadata": {},
     "output_type": "execute_result"
    }
   ],
   "source": [
    "recom_df = products.loc[df_sub['productno']]\n",
    "recom_df.head()"
   ]
  },
  {
   "cell_type": "code",
   "execution_count": 252,
   "id": "b91836a7",
   "metadata": {},
   "outputs": [
    {
     "data": {
      "text/html": [
       "<div>\n",
       "<style scoped>\n",
       "    .dataframe tbody tr th:only-of-type {\n",
       "        vertical-align: middle;\n",
       "    }\n",
       "\n",
       "    .dataframe tbody tr th {\n",
       "        vertical-align: top;\n",
       "    }\n",
       "\n",
       "    .dataframe thead th {\n",
       "        text-align: right;\n",
       "    }\n",
       "</style>\n",
       "<table border=\"1\" class=\"dataframe\">\n",
       "  <thead>\n",
       "    <tr style=\"text-align: right;\">\n",
       "      <th></th>\n",
       "      <th>name</th>\n",
       "      <th>cate1</th>\n",
       "      <th>cate2</th>\n",
       "      <th>cate3</th>\n",
       "      <th>cate4</th>\n",
       "      <th>cate5</th>\n",
       "      <th>prediction</th>\n",
       "    </tr>\n",
       "    <tr>\n",
       "      <th>productno</th>\n",
       "      <th></th>\n",
       "      <th></th>\n",
       "      <th></th>\n",
       "      <th></th>\n",
       "      <th></th>\n",
       "      <th></th>\n",
       "      <th></th>\n",
       "    </tr>\n",
       "  </thead>\n",
       "  <tbody>\n",
       "    <tr>\n",
       "      <th>20</th>\n",
       "      <td>유산균슬림다이어트</td>\n",
       "      <td>0</td>\n",
       "      <td>0</td>\n",
       "      <td>0</td>\n",
       "      <td>1</td>\n",
       "      <td>0</td>\n",
       "      <td>0.738790</td>\n",
       "    </tr>\n",
       "    <tr>\n",
       "      <th>4</th>\n",
       "      <td>러브잇 닭가슴살 짜장 매운맛</td>\n",
       "      <td>1</td>\n",
       "      <td>0</td>\n",
       "      <td>0</td>\n",
       "      <td>0</td>\n",
       "      <td>0</td>\n",
       "      <td>1.065106</td>\n",
       "    </tr>\n",
       "    <tr>\n",
       "      <th>14</th>\n",
       "      <td>수비드닭가슴살빅샐러드</td>\n",
       "      <td>0</td>\n",
       "      <td>0</td>\n",
       "      <td>1</td>\n",
       "      <td>0</td>\n",
       "      <td>0</td>\n",
       "      <td>1.081089</td>\n",
       "    </tr>\n",
       "  </tbody>\n",
       "</table>\n",
       "</div>"
      ],
      "text/plain": [
       "                      name  cate1  cate2  cate3  cate4  cate5  prediction\n",
       "productno                                                                \n",
       "20               유산균슬림다이어트      0      0      0      1      0    0.738790\n",
       "4          러브잇 닭가슴살 짜장 매운맛      1      0      0      0      0    1.065106\n",
       "14             수비드닭가슴살빅샐러드      0      0      1      0      0    1.081089"
      ]
     },
     "execution_count": 252,
     "metadata": {},
     "output_type": "execute_result"
    }
   ],
   "source": [
    "recom_df['prediction'] = np.array(df_sub['prediction'])\n",
    "recom_df"
   ]
  },
  {
   "cell_type": "code",
   "execution_count": 253,
   "id": "330f1d38",
   "metadata": {},
   "outputs": [],
   "source": [
    "# 영화 추천\n",
    "def recomm_product(model, memberno, unorder_products, top_n=10):\n",
    "    user_ids = np.array([memberno] * len(unorder_products)) # 시청하지 않은 영화수만큼 회원번호 복제\n",
    "    product_ids = np.array(unorder_products) # 시청하지 않은 영화 번호 numpy 배열로 변경\n",
    "    predictions = model.predict([user_ids, product_ids]) # 모델 사용하여 평점 예측\n",
    "    # display(predictions[:5,0]) # 5건 출력\n",
    "    \n",
    "    user_ids_df = pd.DataFrame(user_ids).rename(columns={0:'memberno'})          # user_id\n",
    "    product_ids_df = pd.DataFrame(product_ids).rename(columns={0:'productno'})       # movid_id\n",
    "    predictions_df = pd.DataFrame(predictions).rename(columns={0:'prediction'}) # 점수 예측\n",
    "    df = pd.concat([user_ids_df, product_ids_df, predictions_df], axis=1)         # DataFrame 병합\n",
    "    df.sort_values(['prediction'], ascending=False, inplace=True)               # 평점 내림차순 정렬\n",
    "    \n",
    "    df_sub = df.head(top_n)   # 추천수 만큼 분할\n",
    "    recom_df = products.loc[df_sub['productno']] # productno에 해당하는 상품정보 산출\n",
    "    recom_df['prediction'] = np.array(df_sub['prediction']) # 평점을 추천 Dataframe에 컬럼 추가\n",
    "    \n",
    "    return recom_df[['name', 'prediction']]"
   ]
  },
  {
   "cell_type": "code",
   "execution_count": 254,
   "id": "e4625d8e",
   "metadata": {},
   "outputs": [
    {
     "name": "stdout",
     "output_type": "stream",
     "text": [
      "회원 번호를 입력하세요(3-500):500\n",
      "전체 상품 수: 25, 평점 매긴 상품 수: 44, 추천 대상 상품 수: 3\n",
      "1/1 [==============================] - 0s 126ms/step\n"
     ]
    },
    {
     "data": {
      "text/html": [
       "<div>\n",
       "<style scoped>\n",
       "    .dataframe tbody tr th:only-of-type {\n",
       "        vertical-align: middle;\n",
       "    }\n",
       "\n",
       "    .dataframe tbody tr th {\n",
       "        vertical-align: top;\n",
       "    }\n",
       "\n",
       "    .dataframe thead th {\n",
       "        text-align: right;\n",
       "    }\n",
       "</style>\n",
       "<table border=\"1\" class=\"dataframe\">\n",
       "  <thead>\n",
       "    <tr style=\"text-align: right;\">\n",
       "      <th></th>\n",
       "      <th>name</th>\n",
       "      <th>prediction</th>\n",
       "    </tr>\n",
       "    <tr>\n",
       "      <th>productno</th>\n",
       "      <th></th>\n",
       "      <th></th>\n",
       "    </tr>\n",
       "  </thead>\n",
       "  <tbody>\n",
       "    <tr>\n",
       "      <th>14</th>\n",
       "      <td>수비드닭가슴살빅샐러드</td>\n",
       "      <td>1.081089</td>\n",
       "    </tr>\n",
       "    <tr>\n",
       "      <th>4</th>\n",
       "      <td>러브잇 닭가슴살 짜장 매운맛</td>\n",
       "      <td>1.065106</td>\n",
       "    </tr>\n",
       "    <tr>\n",
       "      <th>20</th>\n",
       "      <td>유산균슬림다이어트</td>\n",
       "      <td>0.738790</td>\n",
       "    </tr>\n",
       "  </tbody>\n",
       "</table>\n",
       "</div>"
      ],
      "text/plain": [
       "                      name  prediction\n",
       "productno                             \n",
       "14             수비드닭가슴살빅샐러드    1.081089\n",
       "4          러브잇 닭가슴살 짜장 매운맛    1.065106\n",
       "20               유산균슬림다이어트    0.738790"
      ]
     },
     "metadata": {},
     "output_type": "display_data"
    }
   ],
   "source": [
    "model = load_model('./personalization.h5')\n",
    "user_id = int(input('회원 번호를 입력하세요(3-500):')) # 123\n",
    "unorder_products = get_unorder(ratings, products, memberno)\n",
    "df = recomm_product(model, memberno, unorder_products, 10)\n",
    "display(df)"
   ]
  },
  {
   "cell_type": "code",
   "execution_count": null,
   "id": "7413039f",
   "metadata": {},
   "outputs": [],
   "source": []
  }
 ],
 "metadata": {
  "kernelspec": {
   "display_name": "ai",
   "language": "python",
   "name": "ai"
  },
  "language_info": {
   "codemirror_mode": {
    "name": "ipython",
    "version": 3
   },
   "file_extension": ".py",
   "mimetype": "text/x-python",
   "name": "python",
   "nbconvert_exporter": "python",
   "pygments_lexer": "ipython3",
   "version": "3.7.13"
  }
 },
 "nbformat": 4,
 "nbformat_minor": 5
}
