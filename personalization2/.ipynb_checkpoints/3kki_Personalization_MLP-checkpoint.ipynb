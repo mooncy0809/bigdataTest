{
 "cells": [
  {
   "cell_type": "markdown",
   "id": "542c172a",
   "metadata": {},
   "source": [
    "# 하루삼끼 추천시스템 2\n",
    "## Hidden layer를 사용하는 Keras 기반의 MF(Matrix Factorization, 행렬 요인화) 구현\n",
    "- 평가가 적음으로 평점이 적게 학습됨으로 평균을 사전에 파악한후 예측 결과에 추가하여 평점을 높임."
   ]
  },
  {
   "cell_type": "code",
   "execution_count": 58,
   "id": "45d148fa",
   "metadata": {},
   "outputs": [
    {
     "name": "stdout",
     "output_type": "stream",
     "text": [
      "cutoff: 37500\n"
     ]
    }
   ],
   "source": [
    "import os\n",
    "import time\n",
    "\n",
    "import pandas as pd\n",
    "import numpy as np\n",
    "import random\n",
    "import tensorflow as tf\n",
    "from tensorflow.keras.models import load_model\n",
    "from tensorflow.keras.optimizers import Adam    # 가중치, bias 최적화\n",
    "\n",
    "# csv 파일에서 불러오기\n",
    "r_cols = ['memberno', 'productno', 'rating'] # 사용자 아이디, 아이템 아이디, 평점 데이터\n",
    "ratings = pd.read_csv('u.data', names=r_cols,  sep=',', encoding='utf-8')\n",
    "ratings = ratings[['memberno', 'productno', 'rating']].astype(int)            # timestamp 제거\n",
    "\n",
    "# train test 분리\n",
    "from sklearn.utils import shuffle\n",
    "\n",
    "TRAIN_SIZE = 0.75\n",
    "ratings = shuffle(ratings) # DataFrame형태의 데이터를 무작위로 섞음\n",
    "cutoff = int(TRAIN_SIZE * len(ratings))\n",
    "print('cutoff:', cutoff)\n",
    "ratings_train = ratings.iloc[:cutoff] # 0:75000b\n",
    "ratings_test = ratings.iloc[cutoff:]  # 75000:100000"
   ]
  },
  {
   "cell_type": "code",
   "execution_count": 59,
   "id": "84d9c003",
   "metadata": {},
   "outputs": [
    {
     "data": {
      "text/html": [
       "<div>\n",
       "<style scoped>\n",
       "    .dataframe tbody tr th:only-of-type {\n",
       "        vertical-align: middle;\n",
       "    }\n",
       "\n",
       "    .dataframe tbody tr th {\n",
       "        vertical-align: top;\n",
       "    }\n",
       "\n",
       "    .dataframe thead th {\n",
       "        text-align: right;\n",
       "    }\n",
       "</style>\n",
       "<table border=\"1\" class=\"dataframe\">\n",
       "  <thead>\n",
       "    <tr style=\"text-align: right;\">\n",
       "      <th></th>\n",
       "      <th>name</th>\n",
       "      <th>cate1</th>\n",
       "      <th>cate2</th>\n",
       "      <th>cate3</th>\n",
       "      <th>cate4</th>\n",
       "      <th>cate5</th>\n",
       "    </tr>\n",
       "    <tr>\n",
       "      <th>productno</th>\n",
       "      <th></th>\n",
       "      <th></th>\n",
       "      <th></th>\n",
       "      <th></th>\n",
       "      <th></th>\n",
       "      <th></th>\n",
       "    </tr>\n",
       "  </thead>\n",
       "  <tbody>\n",
       "    <tr>\n",
       "      <th>1</th>\n",
       "      <td>맛있닭 닭가슴살 소시지 훈제맛</td>\n",
       "      <td>1</td>\n",
       "      <td>0</td>\n",
       "      <td>0</td>\n",
       "      <td>0</td>\n",
       "      <td>0</td>\n",
       "    </tr>\n",
       "    <tr>\n",
       "      <th>2</th>\n",
       "      <td>잇메이트 저염 훈제닭가슴살</td>\n",
       "      <td>1</td>\n",
       "      <td>0</td>\n",
       "      <td>0</td>\n",
       "      <td>0</td>\n",
       "      <td>0</td>\n",
       "    </tr>\n",
       "    <tr>\n",
       "      <th>3</th>\n",
       "      <td>아워홈 참나무향 닭가슴살</td>\n",
       "      <td>1</td>\n",
       "      <td>0</td>\n",
       "      <td>0</td>\n",
       "      <td>0</td>\n",
       "      <td>0</td>\n",
       "    </tr>\n",
       "    <tr>\n",
       "      <th>4</th>\n",
       "      <td>러브잇 닭가슴살 짜장 매운맛</td>\n",
       "      <td>1</td>\n",
       "      <td>0</td>\n",
       "      <td>0</td>\n",
       "      <td>0</td>\n",
       "      <td>0</td>\n",
       "    </tr>\n",
       "    <tr>\n",
       "      <th>5</th>\n",
       "      <td>굽네 훈제 닭가슴살 오리지널</td>\n",
       "      <td>1</td>\n",
       "      <td>0</td>\n",
       "      <td>0</td>\n",
       "      <td>0</td>\n",
       "      <td>0</td>\n",
       "    </tr>\n",
       "  </tbody>\n",
       "</table>\n",
       "</div>"
      ],
      "text/plain": [
       "                       name  cate1  cate2  cate3  cate4  cate5\n",
       "productno                                                     \n",
       "1          맛있닭 닭가슴살 소시지 훈제맛      1      0      0      0      0\n",
       "2            잇메이트 저염 훈제닭가슴살      1      0      0      0      0\n",
       "3             아워홈 참나무향 닭가슴살      1      0      0      0      0\n",
       "4           러브잇 닭가슴살 짜장 매운맛      1      0      0      0      0\n",
       "5           굽네 훈제 닭가슴살 오리지널      1      0      0      0      0"
      ]
     },
     "execution_count": 59,
     "metadata": {},
     "output_type": "execute_result"
    }
   ],
   "source": [
    "# u.item 파일을 DataFrame으로 읽기\n",
    "i_cols = ['productno', 'name', 'cate1','cate2','cate3','cate4','cate5']\n",
    "products = pd.read_csv('u.item', sep=',', names=i_cols, encoding='utf-8')\n",
    "products = products.set_index('productno')\n",
    "products.head()"
   ]
  },
  {
   "cell_type": "code",
   "execution_count": 60,
   "id": "e3ecbfdf",
   "metadata": {},
   "outputs": [],
   "source": [
    "import tensorflow as tf\n",
    "from tensorflow.keras import layers\n",
    "from tensorflow.keras.models import Model\n",
    "from tensorflow.keras.layers import Input, Embedding, Dot, Add, Flatten\n",
    "from tensorflow.keras.regularizers import l2\n",
    "from tensorflow.keras.optimizers import SGD, Adamax\n",
    "from tensorflow.keras.callbacks import EarlyStopping   # 학습 자동 중지\n",
    "from tensorflow.keras.callbacks import ModelCheckpoint # 우수한 학습 모델 파일 저장"
   ]
  },
  {
   "cell_type": "code",
   "execution_count": 61,
   "id": "f67436b1",
   "metadata": {},
   "outputs": [
    {
     "name": "stdout",
     "output_type": "stream",
     "text": [
      "1000\n",
      "1001\n",
      "25\n",
      "26\n"
     ]
    }
   ],
   "source": [
    "print(ratings.memberno.max())\n",
    "print(ratings.memberno.max()+1) \n",
    "print(ratings.productno.max())\n",
    "print(ratings.productno.max()+1) "
   ]
  },
  {
   "cell_type": "code",
   "execution_count": 62,
   "id": "0eb0edcd",
   "metadata": {},
   "outputs": [],
   "source": [
    "# Variable 초기화 \n",
    "K = 100                             # Latent factor 수, 잠재 요인수 \n",
    "mu = ratings_train.rating.mean()    # 전체 평균, 연산의 규모를 줄이기 위하여  \n",
    "M = ratings.memberno.max() + 1       # Number of members\n",
    "N = ratings.productno.max() + 1      # Number of products"
   ]
  },
  {
   "cell_type": "code",
   "execution_count": 63,
   "id": "eecbca1f",
   "metadata": {},
   "outputs": [
    {
     "name": "stdout",
     "output_type": "stream",
     "text": [
      "(None, 1, 100)\n",
      "(None, 1, 100)\n"
     ]
    }
   ],
   "source": [
    "# Keras model\n",
    "user = Input(shape=(1, ))                                               # User input\n",
    "item = Input(shape=(1, ))                                               # Item input\n",
    "# Embedding(입력차원, 출력차원, 정규화 알고리즘)\n",
    "P_embedding = Embedding(M, K, embeddings_regularizer=l2())(user)        # (M, 1, K)\n",
    "print(P_embedding.shape)\n",
    "Q_embedding = Embedding(N, K, embeddings_regularizer=l2())(item)        # (N, 1, K)\n",
    "print(Q_embedding.shape)\n",
    "user_bias = Embedding(M, 1, embeddings_regularizer=l2())(user)          # User bias term (M, 1, )\n",
    "item_bias = Embedding(N, 1, embeddings_regularizer=l2())(item)          # Item bias term (N, 1, )"
   ]
  },
  {
   "cell_type": "code",
   "execution_count": 64,
   "id": "de5dddb3",
   "metadata": {},
   "outputs": [
    {
     "name": "stdout",
     "output_type": "stream",
     "text": [
      "[[0 1]\n",
      " [2 3]]\n",
      "[[0 1]\n",
      " [2 3]]\n"
     ]
    }
   ],
   "source": [
    "# layers.dot\n",
    "x = np.arange(4).reshape(2, 2)\n",
    "print(x)\n",
    "y = np.arange(4).reshape(2, 2)\n",
    "print(y)"
   ]
  },
  {
   "cell_type": "code",
   "execution_count": 65,
   "id": "d0ec47eb",
   "metadata": {},
   "outputs": [
    {
     "data": {
      "text/plain": [
       "<tf.Tensor: shape=(2, 1), dtype=int32, numpy=\n",
       "array([[ 1],\n",
       "       [13]])>"
      ]
     },
     "execution_count": 65,
     "metadata": {},
     "output_type": "execute_result"
    }
   ],
   "source": [
    "# 0 * 0 + 1 * 1, 2 * 2 + 3 * 3\n",
    "layers.dot([x, y], axes=1) # 0 지원 안함, 1: 행우선(행단위) 연산"
   ]
  },
  {
   "cell_type": "code",
   "execution_count": 66,
   "id": "36b51756",
   "metadata": {},
   "outputs": [
    {
     "name": "stdout",
     "output_type": "stream",
     "text": [
      "[[[0 1 2]]]\n",
      "[[[0 1 2]]]\n"
     ]
    }
   ],
   "source": [
    "# layers.dot([x, y], axes=2) # ERROR, 2: 행우선(행단위) 연산\n",
    "x = np.arange(3).reshape(1, 1, 3)\n",
    "print(x)\n",
    "y = np.arange(3).reshape(1, 1, 3)\n",
    "print(y)"
   ]
  },
  {
   "cell_type": "code",
   "execution_count": 67,
   "id": "a89ad06c",
   "metadata": {},
   "outputs": [
    {
     "data": {
      "text/plain": [
       "<tf.Tensor: shape=(1, 3, 3), dtype=int32, numpy=\n",
       "array([[[0, 0, 0],\n",
       "        [0, 1, 2],\n",
       "        [0, 2, 4]]])>"
      ]
     },
     "execution_count": 67,
     "metadata": {},
     "output_type": "execute_result"
    }
   ],
   "source": [
    "layers.dot([x, y], axes=1) "
   ]
  },
  {
   "cell_type": "code",
   "execution_count": 68,
   "id": "5ac3caf1",
   "metadata": {},
   "outputs": [
    {
     "data": {
      "text/plain": [
       "<tf.Tensor: shape=(1, 1, 1), dtype=int32, numpy=array([[[5]]])>"
      ]
     },
     "execution_count": 68,
     "metadata": {},
     "output_type": "execute_result"
    }
   ],
   "source": [
    "layers.dot([x, y], axes=2) # 열우선 연산"
   ]
  },
  {
   "cell_type": "code",
   "execution_count": 69,
   "id": "76509c24",
   "metadata": {},
   "outputs": [],
   "source": [
    "# Concatenate layers\n",
    "from tensorflow.keras.layers import Dense, Concatenate, Activation\n",
    "P_embedding = Flatten()(P_embedding)                                    # (K, )\n",
    "Q_embedding = Flatten()(Q_embedding)                                    # (K, )\n",
    "user_bias = Flatten()(user_bias)                                        # (1, )\n",
    "item_bias = Flatten()(item_bias)                                        # (1, )\n",
    "R = Concatenate()([P_embedding, Q_embedding, user_bias, item_bias])     # (2K + 2, )"
   ]
  },
  {
   "cell_type": "code",
   "execution_count": 70,
   "id": "f464d8bd",
   "metadata": {},
   "outputs": [],
   "source": [
    "# Neural network\n",
    "R = Dense(2048)(R)\n",
    "R = Activation('linear')(R)\n",
    "R = Dense(256)(R)\n",
    "R = Activation('linear')(R)\n",
    "R = Dense(1)(R)"
   ]
  },
  {
   "cell_type": "code",
   "execution_count": 71,
   "id": "aee62c72",
   "metadata": {},
   "outputs": [
    {
     "name": "stdout",
     "output_type": "stream",
     "text": [
      "Model: \"model_5\"\n",
      "__________________________________________________________________________________________________\n",
      " Layer (type)                   Output Shape         Param #     Connected to                     \n",
      "==================================================================================================\n",
      " input_7 (InputLayer)           [(None, 1)]          0           []                               \n",
      "                                                                                                  \n",
      " input_8 (InputLayer)           [(None, 1)]          0           []                               \n",
      "                                                                                                  \n",
      " embedding_12 (Embedding)       (None, 1, 100)       100100      ['input_7[0][0]']                \n",
      "                                                                                                  \n",
      " embedding_13 (Embedding)       (None, 1, 100)       2600        ['input_8[0][0]']                \n",
      "                                                                                                  \n",
      " embedding_14 (Embedding)       (None, 1, 1)         1001        ['input_7[0][0]']                \n",
      "                                                                                                  \n",
      " embedding_15 (Embedding)       (None, 1, 1)         26          ['input_8[0][0]']                \n",
      "                                                                                                  \n",
      " flatten_12 (Flatten)           (None, 100)          0           ['embedding_12[0][0]']           \n",
      "                                                                                                  \n",
      " flatten_13 (Flatten)           (None, 100)          0           ['embedding_13[0][0]']           \n",
      "                                                                                                  \n",
      " flatten_14 (Flatten)           (None, 1)            0           ['embedding_14[0][0]']           \n",
      "                                                                                                  \n",
      " flatten_15 (Flatten)           (None, 1)            0           ['embedding_15[0][0]']           \n",
      "                                                                                                  \n",
      " concatenate_3 (Concatenate)    (None, 202)          0           ['flatten_12[0][0]',             \n",
      "                                                                  'flatten_13[0][0]',             \n",
      "                                                                  'flatten_14[0][0]',             \n",
      "                                                                  'flatten_15[0][0]']             \n",
      "                                                                                                  \n",
      " dense_9 (Dense)                (None, 2048)         415744      ['concatenate_3[0][0]']          \n",
      "                                                                                                  \n",
      " activation_6 (Activation)      (None, 2048)         0           ['dense_9[0][0]']                \n",
      "                                                                                                  \n",
      " dense_10 (Dense)               (None, 256)          524544      ['activation_6[0][0]']           \n",
      "                                                                                                  \n",
      " activation_7 (Activation)      (None, 256)          0           ['dense_10[0][0]']               \n",
      "                                                                                                  \n",
      " dense_11 (Dense)               (None, 1)            257         ['activation_7[0][0]']           \n",
      "                                                                                                  \n",
      "==================================================================================================\n",
      "Total params: 1,044,272\n",
      "Trainable params: 1,044,272\n",
      "Non-trainable params: 0\n",
      "__________________________________________________________________________________________________\n"
     ]
    },
    {
     "name": "stderr",
     "output_type": "stream",
     "text": [
      "C:\\Users\\user\\anaconda3\\envs\\ai\\lib\\site-packages\\keras\\optimizers\\optimizer_v2\\adam.py:110: UserWarning: The `lr` argument is deprecated, use `learning_rate` instead.\n",
      "  super(Adam, self).__init__(name, **kwargs)\n"
     ]
    }
   ],
   "source": [
    "model = Model(inputs=[user, item], outputs=R)\n",
    "model.compile(loss='mse', optimizer=Adam(lr=0.001),metrics=['mse'])\n",
    "model.summary()"
   ]
  },
  {
   "cell_type": "code",
   "execution_count": 72,
   "id": "5bbc0464",
   "metadata": {},
   "outputs": [
    {
     "name": "stdout",
     "output_type": "stream",
     "text": [
      "Epoch 1/30\n",
      "1250/1250 [==============================] - 36s 23ms/step - loss: 1.3299 - mse: 1.2961 - val_loss: 1.2913 - val_mse: 1.2912\n",
      "Epoch 2/30\n",
      "1250/1250 [==============================] - 20s 16ms/step - loss: 1.2921 - mse: 1.2920 - val_loss: 1.2913 - val_mse: 1.2912\n",
      "Epoch 3/30\n",
      "1250/1250 [==============================] - 20s 16ms/step - loss: 1.2920 - mse: 1.2919 - val_loss: 1.2912 - val_mse: 1.2912\n",
      "Epoch 4/30\n",
      "1250/1250 [==============================] - 23s 19ms/step - loss: 1.2982 - mse: 1.2927 - val_loss: 1.2945 - val_mse: 1.2913\n",
      "Epoch 5/30\n",
      "1250/1250 [==============================] - 22s 18ms/step - loss: 1.2924 - mse: 1.2920 - val_loss: 1.2914 - val_mse: 1.2914\n",
      "Epoch 6/30\n",
      "1250/1250 [==============================] - 18s 15ms/step - loss: 1.2992 - mse: 1.2934 - val_loss: 1.3676 - val_mse: 1.3088\n",
      "Epoch 7/30\n",
      "1250/1250 [==============================] - 18s 15ms/step - loss: 1.3021 - mse: 1.2932 - val_loss: 1.2913 - val_mse: 1.2912\n",
      "Epoch 8/30\n",
      "1250/1250 [==============================] - 21s 17ms/step - loss: 1.2919 - mse: 1.2919 - val_loss: 1.2912 - val_mse: 1.2912\n",
      "Epoch 9/30\n",
      "1250/1250 [==============================] - 22s 18ms/step - loss: 1.3121 - mse: 1.2944 - val_loss: 1.2916 - val_mse: 1.2915\n",
      "Epoch 10/30\n",
      "1250/1250 [==============================] - 23s 18ms/step - loss: 1.2920 - mse: 1.2920 - val_loss: 1.2913 - val_mse: 1.2913\n",
      "Epoch 11/30\n",
      "1250/1250 [==============================] - 18s 15ms/step - loss: 1.2938 - mse: 1.2921 - val_loss: 1.3164 - val_mse: 1.2919\n",
      "Epoch 12/30\n",
      "1250/1250 [==============================] - 20s 16ms/step - loss: 1.3113 - mse: 1.2951 - val_loss: 1.2912 - val_mse: 1.2912\n",
      "Epoch 13/30\n",
      "1250/1250 [==============================] - 26s 21ms/step - loss: 1.2920 - mse: 1.2920 - val_loss: 1.2912 - val_mse: 1.2912\n",
      "Epoch 14/30\n",
      "1250/1250 [==============================] - 22s 18ms/step - loss: 1.2943 - mse: 1.2921 - val_loss: 1.2982 - val_mse: 1.2970\n",
      "Epoch 15/30\n",
      "1250/1250 [==============================] - 20s 16ms/step - loss: 1.3134 - mse: 1.2952 - val_loss: 1.2921 - val_mse: 1.2912\n",
      "Epoch 16/30\n",
      "1250/1250 [==============================] - 22s 17ms/step - loss: 1.2920 - mse: 1.2919 - val_loss: 1.2958 - val_mse: 1.2913\n",
      "Epoch 17/30\n",
      "1250/1250 [==============================] - 22s 18ms/step - loss: 1.2927 - mse: 1.2921 - val_loss: 1.2914 - val_mse: 1.2912\n",
      "Runtime: 379.14 초\n"
     ]
    }
   ],
   "source": [
    "es = EarlyStopping(patience=5, restore_best_weights=True)\n",
    "\n",
    "start = time.time()\n",
    "result = model.fit(\n",
    "  x=[ratings_train.memberno.values, ratings_train.productno.values],\n",
    "  y=ratings_train.rating.values - mu,\n",
    "  epochs=30, batch_size=30,\n",
    "  validation_data=(\n",
    "    [ratings_test.memberno.values, ratings_test.productno.values], ratings_test.rating.values - mu\n",
    "  ), \n",
    "  callbacks=[es]\n",
    ")\n",
    "end = time.time()\n",
    "print('Runtime: {0:.2f} 초'.format(end-start))"
   ]
  },
  {
   "cell_type": "code",
   "execution_count": 75,
   "id": "d44e327f",
   "metadata": {},
   "outputs": [],
   "source": [
    "model.save('./personalization_mu_mlp.h5')"
   ]
  },
  {
   "cell_type": "code",
   "execution_count": 76,
   "id": "094afec2",
   "metadata": {},
   "outputs": [
    {
     "data": {
      "image/png": "[encoded data removed]",
      "text/plain": [
       "<Figure size 432x288 with 1 Axes>"
      ]
     },
     "metadata": {
      "needs_background": "light"
     },
     "output_type": "display_data"
    }
   ],
   "source": [
    "import matplotlib.pyplot as plt\n",
    "plt.plot(result.history['loss'], label=\"Train loss\")\n",
    "plt.plot(result.history['val_loss'], label=\"Test loss\")\n",
    "plt.xlabel('epoch')\n",
    "plt.ylabel('MSE')\n",
    "plt.legend()\n",
    "plt.show()"
   ]
  },
  {
   "cell_type": "code",
   "execution_count": null,
   "id": "21ed48d0",
   "metadata": {},
   "outputs": [],
   "source": []
  }
 ],
 "metadata": {
  "kernelspec": {
   "display_name": "ai",
   "language": "python",
   "name": "ai"
  },
  "language_info": {
   "codemirror_mode": {
    "name": "ipython",
    "version": 3
   },
   "file_extension": ".py",
   "mimetype": "text/x-python",
   "name": "python",
   "nbconvert_exporter": "python",
   "pygments_lexer": "ipython3",
   "version": "3.7.13"
  }
 },
 "nbformat": 4,
 "nbformat_minor": 5
}
