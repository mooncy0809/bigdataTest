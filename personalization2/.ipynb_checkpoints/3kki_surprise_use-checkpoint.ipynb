{
 "cells": [
  {
   "cell_type": "code",
   "execution_count": 1,
   "id": "b4b8334c",
   "metadata": {},
   "outputs": [],
   "source": [
    "import pandas as pd\n",
    "import pickle\n",
    "import joblib"
   ]
  },
  {
   "cell_type": "code",
   "execution_count": 2,
   "id": "62609161",
   "metadata": {},
   "outputs": [],
   "source": [
    "# 모델 로딩\n",
    "model = joblib.load('./ml-latest-small.pkl') \n",
    "# 데이터 불러오기 (데이터 프레임)\n",
    "ratings = pd.read_csv('3kki_v2.csv') \n",
    "# 속성 정보 DataFrame로딩\n",
    "products = pd.read_csv('3kki_product.csv')"
   ]
  },
  {
   "cell_type": "code",
   "execution_count": 3,
   "id": "aa24211d",
   "metadata": {},
   "outputs": [],
   "source": [
    "# 아직 보지 않은 영화 리스트 함수\n",
    "def get_unorder_surprise(ratings, product, userId):\n",
    "     # 특정 userId가 평점을 매긴 모든 영화 리스트\n",
    "    seen_products = ratings[ratings['memberno']== userId]['productno'].tolist()\n",
    "    \n",
    "    # 모든 영화명을 list 객체로 만듬. \n",
    "    total_products = products['productno'].tolist()\n",
    "      \n",
    "    # 한줄 for + if문으로 안 본 영화 리스트 생성\n",
    "    unorder_products = [ product for product in total_products if product not in seen_products]\n",
    "    \n",
    "    # 일부 정보 출력\n",
    "    total_product_cnt = len(total_products)\n",
    "    seen_cnt = len(seen_products)\n",
    "    unorder_cnt = len(unorder_products)\n",
    "    \n",
    "    print(f\"전체 영화 수: {total_product_cnt}, 평점 매긴 영화 수: {seen_cnt}, 추천 대상 영화 수: {unorder_cnt}\")\n",
    "    \n",
    "    return unorder_products"
   ]
  },
  {
   "cell_type": "code",
   "execution_count": 4,
   "id": "dcd16d4e",
   "metadata": {},
   "outputs": [],
   "source": [
    "def recomm_product_by_surprise(algo, userId, unorder_products, top_n=10):\n",
    "    \n",
    "    # 아직 보지 않은 영화의 예측 평점: prediction 객체 생성\n",
    "    predictions = []    \n",
    "    for productno in unorder_products:\n",
    "        predictions.append(algo.predict(str(userId), str(productno)))\n",
    "    \n",
    "    # 리스트 내의 prediction 객체의 est를 기준으로 내림차순 정렬\n",
    "    def sortkey_est(pred):\n",
    "        return pred.est\n",
    "\n",
    "    predictions.sort(key=sortkey_est, reverse=True) # key에 리스트 내 객체의 정렬 기준을 입력\n",
    "    \n",
    "    # 상위 top_n개의 prediction 객체\n",
    "    top_predictions = predictions[:top_n]\n",
    "    \n",
    "    # 영화 아이디, 제목, 예측 평점 출력\n",
    "    print(f\"Top-{top_n} 추천 영화 리스트\")\n",
    "    \n",
    "    for pred in top_predictions:\n",
    "        product_id = int(pred.iid)\n",
    "        product_title = products[products[\"productno\"] == product_id][\"name\"].tolist()\n",
    "        product_rating = pred.est\n",
    "        \n",
    "        print(f\"{product_title}: {product_rating:.2f}\")"
   ]
  },
  {
   "cell_type": "code",
   "execution_count": 6,
   "id": "4a88f35f",
   "metadata": {},
   "outputs": [
    {
     "name": "stdout",
     "output_type": "stream",
     "text": [
      "회원 번호를 입력하세요(9):100\n",
      "전체 영화 수: 25, 평점 매긴 영화 수: 3, 추천 대상 영화 수: 23\n",
      "Top-10 추천 영화 리스트\n",
      "['린 컴플리트']: 4.25\n",
      "['포켓샐러드 닭가슴살 샐러드']: 4.20\n",
      "['애터미 밸런스라이프']: 4.12\n",
      "['맛있닭 닭가슴살 소시지 훈제맛']: 4.11\n",
      "['수비드닭가슴살빅샐러드']: 4.10\n",
      "['HOPE 발효효소 밸런스밀 블랙']: 4.04\n",
      "['잇메이트 저염 훈제닭가슴살']: 4.03\n",
      "['성수동 스무디 오트밀']: 3.93\n",
      "['내가 몸짱이 될 샐러드 닭가슴살 & 메추리알 샐러드']: 3.87\n",
      "['단백질공화국 다크초콜릿']: 3.85\n"
     ]
    }
   ],
   "source": [
    "userId = int(input('회원 번호를 입력하세요(9):'))\n",
    "unorder_products = get_unorder_surprise(ratings, products, userId)\n",
    "recomm_product_by_surprise(model, userId, unorder_products, top_n=10)"
   ]
  },
  {
   "cell_type": "code",
   "execution_count": null,
   "id": "9316ee73",
   "metadata": {},
   "outputs": [],
   "source": []
  }
 ],
 "metadata": {
  "kernelspec": {
   "display_name": "ai",
   "language": "python",
   "name": "ai"
  },
  "language_info": {
   "codemirror_mode": {
    "name": "ipython",
    "version": 3
   },
   "file_extension": ".py",
   "mimetype": "text/x-python",
   "name": "python",
   "nbconvert_exporter": "python",
   "pygments_lexer": "ipython3",
   "version": "3.7.13"
  }
 },
 "nbformat": 4,
 "nbformat_minor": 5
}
